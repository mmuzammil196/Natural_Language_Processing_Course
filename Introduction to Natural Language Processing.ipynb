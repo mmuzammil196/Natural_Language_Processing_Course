{
 "cells": [
  {
   "cell_type": "markdown",
   "metadata": {},
   "source": [
    "## Chapter no : 1\n",
    "## Regular expressions & word tokenization"
   ]
  },
  {
   "cell_type": "code",
   "execution_count": 1,
   "metadata": {},
   "outputs": [],
   "source": [
    "# Introduction to regular expressions\n",
    "import re"
   ]
  },
  {
   "cell_type": "code",
   "execution_count": 2,
   "metadata": {},
   "outputs": [
    {
     "data": {
      "text/plain": [
       "<re.Match object; span=(0, 3), match='abc'>"
      ]
     },
     "execution_count": 2,
     "metadata": {},
     "output_type": "execute_result"
    }
   ],
   "source": [
    "re.match('abc', 'abcdef')"
   ]
  },
  {
   "cell_type": "code",
   "execution_count": 3,
   "metadata": {},
   "outputs": [
    {
     "data": {
      "text/plain": [
       "<re.Match object; span=(0, 2), match='Hi'>"
      ]
     },
     "execution_count": 3,
     "metadata": {},
     "output_type": "execute_result"
    }
   ],
   "source": [
    "word_regex = '\\w+'\n",
    "re.match(word_regex, 'Hi There')"
   ]
  },
  {
   "cell_type": "code",
   "execution_count": 4,
   "metadata": {},
   "outputs": [
    {
     "data": {
      "text/plain": [
       "['Split', 'on', 'space']"
      ]
     },
     "execution_count": 4,
     "metadata": {},
     "output_type": "execute_result"
    }
   ],
   "source": [
    "re.split('\\s+', 'Split on space')"
   ]
  },
  {
   "cell_type": "code",
   "execution_count": 5,
   "metadata": {},
   "outputs": [
    {
     "data": {
      "text/plain": [
       "['Let', 's', 'write', 'words9']"
      ]
     },
     "execution_count": 5,
     "metadata": {},
     "output_type": "execute_result"
    }
   ],
   "source": [
    "my_string = \"Let's write words9\"\n",
    "pattern = '\\w+'\n",
    "re.findall(pattern, my_string)"
   ]
  },
  {
   "cell_type": "code",
   "execution_count": 6,
   "metadata": {},
   "outputs": [
    {
     "name": "stdout",
     "output_type": "stream",
     "text": [
      "[\"Let's write words9\"]\n",
      "['Let']\n",
      "[\"Let's\", 'write', 'words9']\n",
      "['9']\n"
     ]
    }
   ],
   "source": [
    "# Write a pattern to match sentence endings: sentence_endings\n",
    "sentence_endings = r\"[.?!]\"\n",
    "\n",
    "# Split my_string on sentence endings and print the result\n",
    "print(re.split(sentence_endings, my_string))\n",
    "\n",
    "# Find all capitalized words in my_string and print the result\n",
    "capitalized_words = r\"[A-Z]\\w+\"\n",
    "print(re.findall(capitalized_words, my_string))\n",
    "\n",
    "# Split my_string on spaces and print the result\n",
    "spaces = r\"\\s+\"\n",
    "print(re.split(spaces, my_string))\n",
    "\n",
    "# Find all digits in my_string and print the result\n",
    "digits = r\"\\d+\"\n",
    "print(re.findall(digits, my_string))"
   ]
  },
  {
   "cell_type": "code",
   "execution_count": 7,
   "metadata": {},
   "outputs": [
    {
     "data": {
      "text/plain": [
       "['#', 'Hi', 'Folks', '.']"
      ]
     },
     "execution_count": 7,
     "metadata": {},
     "output_type": "execute_result"
    }
   ],
   "source": [
    "# Introduction to tokenization\n",
    "from nltk.tokenize import word_tokenize\n",
    "word_tokenize('#Hi Folks.')"
   ]
  },
  {
   "cell_type": "code",
   "execution_count": 8,
   "metadata": {},
   "outputs": [],
   "source": [
    "scene_one = \"SCENE 1: [wind] [clop clop clop] \\nKING ARTHUR: Whoa there!  [clop clop clop] \\nSOLDIER #1: Halt!  Who goes there?\\nARTHUR: It is I, Arthur, son of Uther Pendragon, from the castle of Camelot.  King of the Britons, defeator of the Saxons, sovereign of all England!\\nSOLDIER #1: Pull the other one!\\nARTHUR: I am, ...  and this is my trusty servant Patsy.  We have ridden the length and breadth of the land in search of knights who will join me in my court at Camelot.  I must speak with your lord and master.\\nSOLDIER #1: What?  Ridden on a horse?\\nARTHUR: Yes!\\nSOLDIER #1: You're using coconuts!\\nARTHUR: What?\\nSOLDIER #1: You've got two empty halves of coconut and you're bangin' 'em together.\\nARTHUR: So?  We have ridden since the snows of winter covered this land, through the kingdom of Mercea, through--\\nSOLDIER #1: Where'd you get the coconuts?\\nARTHUR: We found them.\\nSOLDIER #1: Found them?  In Mercea?  The coconut's tropical!\\nARTHUR: What do you mean?\\nSOLDIER #1: Well, this is a temperate zone.\\nARTHUR: The swallow may fly south with the sun or the house martin or the plover may seek warmer climes in winter, yet these are not strangers to our land?\\nSOLDIER #1: Are you suggesting coconuts migrate?\\nARTHUR: Not at all.  They could be carried.\\nSOLDIER #1: What?  A swallow carrying a coconut?\\nARTHUR: It could grip it by the husk!\\nSOLDIER #1: It's not a question of where he grips it!  It's a simple question of weight ratios!  A five ounce bird could not carry a one pound coconut.\\nARTHUR: Well, it doesn't matter.  Will you go and tell your master that Arthur from the Court of Camelot is here.\\nSOLDIER #1: Listen.  In order to maintain air-speed velocity, a swallow needs to beat its wings forty-three times every second, right?\\nARTHUR: Please!\\nSOLDIER #1: Am I right?\\nARTHUR: I'm not interested!\\nSOLDIER #2: It could be carried by an African swallow!\\nSOLDIER #1: Oh, yeah, an African swallow maybe, but not a European swallow.  That's my point.\\nSOLDIER #2: Oh, yeah, I agree with that.\\nARTHUR: Will you ask your master if he wants to join my court at Camelot?!\\nSOLDIER #1: But then of course a-- African swallows are non-migratory.\\nSOLDIER #2: Oh, yeah...\\nSOLDIER #1: So they couldn't bring a coconut back anyway...  [clop clop clop] \\nSOLDIER #2: Wait a minute!  Supposing two swallows carried it together?\\nSOLDIER #1: No, they'd have to have it on a line.\\nSOLDIER #2: Well, simple!  They'd just use a strand of creeper!\\nSOLDIER #1: What, held under the dorsal guiding feathers?\\nSOLDIER #2: Well, why not?\\n\""
   ]
  },
  {
   "cell_type": "code",
   "execution_count": 9,
   "metadata": {},
   "outputs": [],
   "source": [
    "# Import necessary modules\n",
    "from nltk.tokenize import sent_tokenize \n",
    "from nltk.tokenize import word_tokenize\n",
    "\n",
    "\n",
    "# Split scene_one into sentences: sentences\n",
    "sentences = sent_tokenize(scene_one)\n",
    "\n",
    "# Use word_tokenize to tokenize the fourth sentence: tokenized_sent\n",
    "tokenized_sent = word_tokenize(sentences[3])\n",
    "\n",
    "# Make a set of unique tokens in the entire scene: unique_tokens\n",
    "unique_tokens = set(word_tokenize(scene_one))\n",
    "\n",
    "# Print the unique tokens result\n",
    "# print(unique_tokens)"
   ]
  },
  {
   "cell_type": "code",
   "execution_count": 10,
   "metadata": {},
   "outputs": [
    {
     "name": "stdout",
     "output_type": "stream",
     "text": [
      "['ARTHUR', ':', 'It', 'is', 'I', ',', 'Arthur', ',', 'son', 'of', 'Uther', 'Pendragon', ',', 'from', 'the', 'castle', 'of', 'Camelot', '.']\n"
     ]
    }
   ],
   "source": [
    "print(tokenized_sent)"
   ]
  },
  {
   "cell_type": "code",
   "execution_count": 11,
   "metadata": {},
   "outputs": [
    {
     "name": "stdout",
     "output_type": "stream",
     "text": [
      "['SCENE 1: [wind] [clop clop clop] \\nKING ARTHUR: Whoa there!', '[clop clop clop] \\nSOLDIER #1: Halt!', 'Who goes there?', 'ARTHUR: It is I, Arthur, son of Uther Pendragon, from the castle of Camelot.', 'King of the Britons, defeator of the Saxons, sovereign of all England!', 'SOLDIER #1: Pull the other one!', 'ARTHUR: I am, ...  and this is my trusty servant Patsy.', 'We have ridden the length and breadth of the land in search of knights who will join me in my court at Camelot.', 'I must speak with your lord and master.', 'SOLDIER #1: What?', 'Ridden on a horse?', 'ARTHUR: Yes!', \"SOLDIER #1: You're using coconuts!\", 'ARTHUR: What?', \"SOLDIER #1: You've got two empty halves of coconut and you're bangin' 'em together.\", 'ARTHUR: So?', \"We have ridden since the snows of winter covered this land, through the kingdom of Mercea, through--\\nSOLDIER #1: Where'd you get the coconuts?\", 'ARTHUR: We found them.', 'SOLDIER #1: Found them?', 'In Mercea?', \"The coconut's tropical!\", 'ARTHUR: What do you mean?', 'SOLDIER #1: Well, this is a temperate zone.', 'ARTHUR: The swallow may fly south with the sun or the house martin or the plover may seek warmer climes in winter, yet these are not strangers to our land?', 'SOLDIER #1: Are you suggesting coconuts migrate?', 'ARTHUR: Not at all.', 'They could be carried.', 'SOLDIER #1: What?', 'A swallow carrying a coconut?', 'ARTHUR: It could grip it by the husk!', \"SOLDIER #1: It's not a question of where he grips it!\", \"It's a simple question of weight ratios!\", 'A five ounce bird could not carry a one pound coconut.', \"ARTHUR: Well, it doesn't matter.\", 'Will you go and tell your master that Arthur from the Court of Camelot is here.', 'SOLDIER #1: Listen.', 'In order to maintain air-speed velocity, a swallow needs to beat its wings forty-three times every second, right?', 'ARTHUR: Please!', 'SOLDIER #1: Am I right?', \"ARTHUR: I'm not interested!\", 'SOLDIER #2: It could be carried by an African swallow!', 'SOLDIER #1: Oh, yeah, an African swallow maybe, but not a European swallow.', \"That's my point.\", 'SOLDIER #2: Oh, yeah, I agree with that.', 'ARTHUR: Will you ask your master if he wants to join my court at Camelot?!', 'SOLDIER #1: But then of course a-- African swallows are non-migratory.', 'SOLDIER #2: Oh, yeah...', \"SOLDIER #1: So they couldn't bring a coconut back anyway...  [clop clop clop] \\nSOLDIER #2: Wait a minute!\", 'Supposing two swallows carried it together?', \"SOLDIER #1: No, they'd have to have it on a line.\", 'SOLDIER #2: Well, simple!', \"They'd just use a strand of creeper!\", 'SOLDIER #1: What, held under the dorsal guiding feathers?', 'SOLDIER #2: Well, why not?']\n"
     ]
    }
   ],
   "source": [
    "print(sentences)"
   ]
  },
  {
   "cell_type": "code",
   "execution_count": 12,
   "metadata": {},
   "outputs": [
    {
     "name": "stdout",
     "output_type": "stream",
     "text": [
      "{'!', 'yet', \"'\", 'winter', 'sovereign', \"'d\", 'our', 'my', 'climes', '--', 'line', 'trusty', 'suggesting', 'Arthur', 'carry', 'simple', 'KING', 'Am', 'just', 'martin', 'What', 'halves', 'Mercea', 'strangers', 'to', 'ratios', 'times', 'Ridden', 'every', 'carried', 'horse', 'Pendragon', 'castle', 'five', 'question', 'of', 'south', 'anyway', 'or', 'strand', 'it', 'ARTHUR', 'he', 'wants', 'I', 'at', 'back', 'tell', 'through', 'creeper', 'them', 'Will', 'goes', 'Not', 'order', 'found', 'an', 'plover', 'be', '1', 'ask', 'may', 'then', 'using', 'get', 'if', ']', 'swallow', 'forty-three', 'go', \"'em\", ',', 'bangin', ':', 'A', 'African', 'am', 'feathers', 'England', 'Whoa', 'right', 'Uther', 'one', 'fly', 'why', 'air-speed', 'But', 'is', 'son', 'wind', 'speak', 'lord', 'interested', '#', 'No', 'ridden', 'agree', 'SCENE', 'since', 'clop', 'yeah', 'Camelot', 'Who', 'King', '...', 'have', 'zone', 'held', 'Britons', 'wings', 'from', 'knights', 'empty', 'other', '2', 'Pull', 'its', '?', 'Where', '.', 'who', 'point', 'by', 'dorsal', 'coconut', 'SOLDIER', 'course', 'In', 'ounce', 'these', 'Supposing', \"n't\", 'servant', 'here', 'but', 'they', 'European', 'and', 'snows', 'on', 'Listen', 'court', 'needs', 'Patsy', 'all', 'temperate', 'search', 'covered', 'Found', 'are', 'mean', 'your', 'a', 'got', \"'re\", 'Oh', 'carrying', 'Well', 'you', 'house', 'minute', 'coconuts', 'this', 'will', 'migrate', 'matter', 'Saxons', 'master', 'not', 'maintain', 'where', 'Please', \"'ve\", 'me', 'sun', 'grip', 'velocity', 'beat', 'maybe', 'warmer', 'in', 'You', 'two', 'seek', 'Are', 'grips', 'together', 'It', 'could', 'defeator', 'second', 'We', 'pound', 'Wait', 'with', 'join', 'do', 'weight', 'under', 'length', 'Yes', 'there', 'kingdom', '[', 'Halt', 'So', 'Court', 'husk', 'That', 'They', 'bird', 'the', 'non-migratory', 'use', 'that', 'breadth', 'guiding', \"'s\", 'must', 'does', 'land', 'bring', 'swallows', \"'m\", 'The', 'tropical'}\n"
     ]
    }
   ],
   "source": [
    "print(unique_tokens)"
   ]
  },
  {
   "cell_type": "code",
   "execution_count": 13,
   "metadata": {},
   "outputs": [
    {
     "name": "stdout",
     "output_type": "stream",
     "text": [
      "580 588\n"
     ]
    }
   ],
   "source": [
    "# Search for the first occurrence of \"coconuts\" in scene_one: match\n",
    "match = re.search(\"coconuts\", scene_one)\n",
    "\n",
    "# Print the start and end indexes of match\n",
    "print(match.start(), match.end())"
   ]
  },
  {
   "cell_type": "code",
   "execution_count": 14,
   "metadata": {},
   "outputs": [
    {
     "name": "stdout",
     "output_type": "stream",
     "text": [
      "<re.Match object; span=(9, 32), match='[wind] [clop clop clop]'>\n"
     ]
    }
   ],
   "source": [
    "# Write a regular expression to search for anything in square brackets: pattern1\n",
    "pattern1 = r\"\\[.*\\]\"\n",
    "\n",
    "# Use re.search to find the first text in square brackets\n",
    "print(re.search(pattern1, scene_one))"
   ]
  },
  {
   "cell_type": "code",
   "execution_count": 15,
   "metadata": {},
   "outputs": [
    {
     "name": "stdout",
     "output_type": "stream",
     "text": [
      "<re.Match object; span=(0, 7), match='ARTHUR:'>\n"
     ]
    }
   ],
   "source": [
    "# Find the script notation at the beginning of the fourth sentence and print it\n",
    "pattern2 = r\"[\\w\\s]+:\"\n",
    "print(re.match(pattern2, sentences[6]))"
   ]
  },
  {
   "cell_type": "code",
   "execution_count": 16,
   "metadata": {},
   "outputs": [
    {
     "data": {
      "text/plain": [
       "['He', 'has', '11', 'cats', '.']"
      ]
     },
     "execution_count": 16,
     "metadata": {},
     "output_type": "execute_result"
    }
   ],
   "source": [
    "# Advanced tokenization with NLTK and regex\n",
    "# regex |or .\n",
    "match_digits_and_words = ('(\\d+|\\w+|\\.+)')\n",
    "re.findall(match_digits_and_words, 'He has 11 cats.')"
   ]
  },
  {
   "cell_type": "code",
   "execution_count": 17,
   "metadata": {},
   "outputs": [
    {
     "data": {
      "text/plain": [
       "<re.Match object; span=(0, 31), match='match lower spaces nums like 12'>"
      ]
     },
     "execution_count": 17,
     "metadata": {},
     "output_type": "execute_result"
    }
   ],
   "source": [
    "my_str = 'match lower spaces nums like 12, but no commas'\n",
    "re.match('[a-z0-9 ]+', my_str)"
   ]
  },
  {
   "cell_type": "code",
   "execution_count": 18,
   "metadata": {},
   "outputs": [],
   "source": [
    "import matplotlib.pyplot as plt"
   ]
  },
  {
   "cell_type": "code",
   "execution_count": 19,
   "metadata": {},
   "outputs": [
    {
     "data": {
      "text/plain": [
       "['This', 'is', 'a', 'pretty', 'cool', 'tool', '!']"
      ]
     },
     "execution_count": 19,
     "metadata": {},
     "output_type": "execute_result"
    }
   ],
   "source": [
    "# Charting word length with NLTK\n",
    "words = word_tokenize(\"This is a pretty cool tool!\")\n",
    "words_each = [w for w in words]\n",
    "words_each"
   ]
  },
  {
   "cell_type": "code",
   "execution_count": 20,
   "metadata": {},
   "outputs": [
    {
     "data": {
      "text/plain": [
       "[4, 2, 1, 6, 4, 4, 1]"
      ]
     },
     "execution_count": 20,
     "metadata": {},
     "output_type": "execute_result"
    }
   ],
   "source": [
    "words_length = [len(w) for w in words]\n",
    "words_length"
   ]
  },
  {
   "cell_type": "code",
   "execution_count": 21,
   "metadata": {},
   "outputs": [
    {
     "data": {
      "image/png": "[encoded data removed]",
      "text/plain": [
       "<Figure size 432x288 with 1 Axes>"
      ]
     },
     "metadata": {
      "needs_background": "light"
     },
     "output_type": "display_data"
    }
   ],
   "source": [
    "plt.hist(words_length)\n",
    "plt.show()"
   ]
  },
  {
   "cell_type": "markdown",
   "metadata": {},
   "source": [
    "## Chapter 2\n",
    "## Simple topic identification"
   ]
  },
  {
   "cell_type": "code",
   "execution_count": 22,
   "metadata": {},
   "outputs": [],
   "source": [
    "#1. Word counts with bag-of-words\n",
    "from collections import Counter"
   ]
  },
  {
   "cell_type": "code",
   "execution_count": 23,
   "metadata": {},
   "outputs": [
    {
     "data": {
      "text/plain": [
       "Counter({'The': 3,\n",
       "         'cat': 3,\n",
       "         'is': 2,\n",
       "         'in': 1,\n",
       "         'the': 3,\n",
       "         'box': 3,\n",
       "         '.': 3,\n",
       "         'likes': 1,\n",
       "         'over': 1})"
      ]
     },
     "execution_count": 23,
     "metadata": {},
     "output_type": "execute_result"
    }
   ],
   "source": [
    "count_words = Counter(word_tokenize(\"\"\"The cat is in the box. The cat likes the box. The box is over the cat.\"\"\"))\n",
    "count_words"
   ]
  },
  {
   "cell_type": "code",
   "execution_count": 24,
   "metadata": {},
   "outputs": [
    {
     "data": {
      "text/plain": [
       "[('The', 3), ('cat', 3), ('the', 3)]"
      ]
     },
     "execution_count": 24,
     "metadata": {},
     "output_type": "execute_result"
    }
   ],
   "source": [
    "count_words.most_common(3)"
   ]
  },
  {
   "cell_type": "code",
   "execution_count": 25,
   "metadata": {},
   "outputs": [],
   "source": [
    "#2. Simple text preprocessing\n",
    "import nltk\n",
    "from nltk.corpus import stopwords"
   ]
  },
  {
   "cell_type": "code",
   "execution_count": 26,
   "metadata": {},
   "outputs": [],
   "source": [
    "text = \"\"\"The cat is in the box. The cat likes the box. The box is over the cat.\"\"\""
   ]
  },
  {
   "cell_type": "code",
   "execution_count": 27,
   "metadata": {},
   "outputs": [],
   "source": [
    "tokens = [w for w in word_tokenize(text.lower()) if w.isalpha()]"
   ]
  },
  {
   "cell_type": "code",
   "execution_count": 28,
   "metadata": {},
   "outputs": [],
   "source": [
    "no_stops = [t for t in tokens if t not in stopwords.words('english')]"
   ]
  },
  {
   "cell_type": "code",
   "execution_count": 29,
   "metadata": {},
   "outputs": [
    {
     "data": {
      "text/plain": [
       "['the',\n",
       " 'cat',\n",
       " 'is',\n",
       " 'in',\n",
       " 'the',\n",
       " 'box',\n",
       " 'the',\n",
       " 'cat',\n",
       " 'likes',\n",
       " 'the',\n",
       " 'box',\n",
       " 'the',\n",
       " 'box',\n",
       " 'is',\n",
       " 'over',\n",
       " 'the',\n",
       " 'cat']"
      ]
     },
     "execution_count": 29,
     "metadata": {},
     "output_type": "execute_result"
    }
   ],
   "source": [
    "tokens"
   ]
  },
  {
   "cell_type": "code",
   "execution_count": 30,
   "metadata": {},
   "outputs": [
    {
     "data": {
      "text/plain": [
       "[('the', 6), ('cat', 3)]"
      ]
     },
     "execution_count": 30,
     "metadata": {},
     "output_type": "execute_result"
    }
   ],
   "source": [
    "Counter(tokens).most_common(2)"
   ]
  },
  {
   "cell_type": "code",
   "execution_count": 31,
   "metadata": {},
   "outputs": [
    {
     "data": {
      "text/plain": [
       "['cat', 'box', 'cat', 'likes', 'box', 'box', 'cat']"
      ]
     },
     "execution_count": 31,
     "metadata": {},
     "output_type": "execute_result"
    }
   ],
   "source": [
    "no_stops"
   ]
  },
  {
   "cell_type": "code",
   "execution_count": 32,
   "metadata": {},
   "outputs": [
    {
     "data": {
      "text/plain": [
       "[('cat', 3), ('box', 3)]"
      ]
     },
     "execution_count": 32,
     "metadata": {},
     "output_type": "execute_result"
    }
   ],
   "source": [
    "Counter(no_stops).most_common(2)"
   ]
  },
  {
   "cell_type": "code",
   "execution_count": 33,
   "metadata": {},
   "outputs": [],
   "source": [
    "# 3. Introduction to Genism\n",
    "from gensim.corpora.dictionary import Dictionary"
   ]
  },
  {
   "cell_type": "code",
   "execution_count": 34,
   "metadata": {},
   "outputs": [],
   "source": [
    "article = ['Artificial intelligence (AI) has many different definitions; some see it as the created technology that allows computers and machines to function intelligently.',\n",
    "'Despite the different definitions, the common understanding of AI is that it is associated with machines and computers to help humankind solve problems and facilitate working processes.',\n",
    "'The term AI is used to describe these functions of human-made tool that emulates the “cognitive” abilities of the natural intelligence of human minds.']"
   ]
  },
  {
   "cell_type": "code",
   "execution_count": 35,
   "metadata": {},
   "outputs": [],
   "source": [
    "tokenized_doc = [word_tokenize(doc.lower()) for doc in article]"
   ]
  },
  {
   "cell_type": "code",
   "execution_count": 36,
   "metadata": {},
   "outputs": [
    {
     "data": {
      "text/plain": [
       "[['artificial',\n",
       "  'intelligence',\n",
       "  '(',\n",
       "  'ai',\n",
       "  ')',\n",
       "  'has',\n",
       "  'many',\n",
       "  'different',\n",
       "  'definitions',\n",
       "  ';',\n",
       "  'some',\n",
       "  'see',\n",
       "  'it',\n",
       "  'as',\n",
       "  'the',\n",
       "  'created',\n",
       "  'technology',\n",
       "  'that',\n",
       "  'allows',\n",
       "  'computers',\n",
       "  'and',\n",
       "  'machines',\n",
       "  'to',\n",
       "  'function',\n",
       "  'intelligently',\n",
       "  '.'],\n",
       " ['despite',\n",
       "  'the',\n",
       "  'different',\n",
       "  'definitions',\n",
       "  ',',\n",
       "  'the',\n",
       "  'common',\n",
       "  'understanding',\n",
       "  'of',\n",
       "  'ai',\n",
       "  'is',\n",
       "  'that',\n",
       "  'it',\n",
       "  'is',\n",
       "  'associated',\n",
       "  'with',\n",
       "  'machines',\n",
       "  'and',\n",
       "  'computers',\n",
       "  'to',\n",
       "  'help',\n",
       "  'humankind',\n",
       "  'solve',\n",
       "  'problems',\n",
       "  'and',\n",
       "  'facilitate',\n",
       "  'working',\n",
       "  'processes',\n",
       "  '.'],\n",
       " ['the',\n",
       "  'term',\n",
       "  'ai',\n",
       "  'is',\n",
       "  'used',\n",
       "  'to',\n",
       "  'describe',\n",
       "  'these',\n",
       "  'functions',\n",
       "  'of',\n",
       "  'human-made',\n",
       "  'tool',\n",
       "  'that',\n",
       "  'emulates',\n",
       "  'the',\n",
       "  '“',\n",
       "  'cognitive',\n",
       "  '”',\n",
       "  'abilities',\n",
       "  'of',\n",
       "  'the',\n",
       "  'natural',\n",
       "  'intelligence',\n",
       "  'of',\n",
       "  'human',\n",
       "  'minds',\n",
       "  '.']]"
      ]
     },
     "execution_count": 36,
     "metadata": {},
     "output_type": "execute_result"
    }
   ],
   "source": [
    "tokenized_doc"
   ]
  },
  {
   "cell_type": "code",
   "execution_count": 37,
   "metadata": {},
   "outputs": [],
   "source": [
    "dictionary = Dictionary(tokenized_doc)"
   ]
  },
  {
   "cell_type": "code",
   "execution_count": 38,
   "metadata": {},
   "outputs": [
    {
     "data": {
      "text/plain": [
       "<gensim.corpora.dictionary.Dictionary at 0x1c51f595f70>"
      ]
     },
     "execution_count": 38,
     "metadata": {},
     "output_type": "execute_result"
    }
   ],
   "source": [
    "dictionary"
   ]
  },
  {
   "cell_type": "code",
   "execution_count": 39,
   "metadata": {},
   "outputs": [
    {
     "data": {
      "text/plain": [
       "{'(': 0,\n",
       " ')': 1,\n",
       " '.': 2,\n",
       " ';': 3,\n",
       " 'ai': 4,\n",
       " 'allows': 5,\n",
       " 'and': 6,\n",
       " 'artificial': 7,\n",
       " 'as': 8,\n",
       " 'computers': 9,\n",
       " 'created': 10,\n",
       " 'definitions': 11,\n",
       " 'different': 12,\n",
       " 'function': 13,\n",
       " 'has': 14,\n",
       " 'intelligence': 15,\n",
       " 'intelligently': 16,\n",
       " 'it': 17,\n",
       " 'machines': 18,\n",
       " 'many': 19,\n",
       " 'see': 20,\n",
       " 'some': 21,\n",
       " 'technology': 22,\n",
       " 'that': 23,\n",
       " 'the': 24,\n",
       " 'to': 25,\n",
       " ',': 26,\n",
       " 'associated': 27,\n",
       " 'common': 28,\n",
       " 'despite': 29,\n",
       " 'facilitate': 30,\n",
       " 'help': 31,\n",
       " 'humankind': 32,\n",
       " 'is': 33,\n",
       " 'of': 34,\n",
       " 'problems': 35,\n",
       " 'processes': 36,\n",
       " 'solve': 37,\n",
       " 'understanding': 38,\n",
       " 'with': 39,\n",
       " 'working': 40,\n",
       " 'abilities': 41,\n",
       " 'cognitive': 42,\n",
       " 'describe': 43,\n",
       " 'emulates': 44,\n",
       " 'functions': 45,\n",
       " 'human': 46,\n",
       " 'human-made': 47,\n",
       " 'minds': 48,\n",
       " 'natural': 49,\n",
       " 'term': 50,\n",
       " 'these': 51,\n",
       " 'tool': 52,\n",
       " 'used': 53,\n",
       " '“': 54,\n",
       " '”': 55}"
      ]
     },
     "execution_count": 39,
     "metadata": {},
     "output_type": "execute_result"
    }
   ],
   "source": [
    "dictionary.token2id"
   ]
  },
  {
   "cell_type": "code",
   "execution_count": 40,
   "metadata": {},
   "outputs": [],
   "source": [
    "corpus = [dictionary.doc2bow(doc) for doc in tokenized_doc]"
   ]
  },
  {
   "cell_type": "code",
   "execution_count": 41,
   "metadata": {},
   "outputs": [
    {
     "data": {
      "text/plain": [
       "[[(0, 1),\n",
       "  (1, 1),\n",
       "  (2, 1),\n",
       "  (3, 1),\n",
       "  (4, 1),\n",
       "  (5, 1),\n",
       "  (6, 1),\n",
       "  (7, 1),\n",
       "  (8, 1),\n",
       "  (9, 1),\n",
       "  (10, 1),\n",
       "  (11, 1),\n",
       "  (12, 1),\n",
       "  (13, 1),\n",
       "  (14, 1),\n",
       "  (15, 1),\n",
       "  (16, 1),\n",
       "  (17, 1),\n",
       "  (18, 1),\n",
       "  (19, 1),\n",
       "  (20, 1),\n",
       "  (21, 1),\n",
       "  (22, 1),\n",
       "  (23, 1),\n",
       "  (24, 1),\n",
       "  (25, 1)],\n",
       " [(2, 1),\n",
       "  (4, 1),\n",
       "  (6, 2),\n",
       "  (9, 1),\n",
       "  (11, 1),\n",
       "  (12, 1),\n",
       "  (17, 1),\n",
       "  (18, 1),\n",
       "  (23, 1),\n",
       "  (24, 2),\n",
       "  (25, 1),\n",
       "  (26, 1),\n",
       "  (27, 1),\n",
       "  (28, 1),\n",
       "  (29, 1),\n",
       "  (30, 1),\n",
       "  (31, 1),\n",
       "  (32, 1),\n",
       "  (33, 2),\n",
       "  (34, 1),\n",
       "  (35, 1),\n",
       "  (36, 1),\n",
       "  (37, 1),\n",
       "  (38, 1),\n",
       "  (39, 1),\n",
       "  (40, 1)],\n",
       " [(2, 1),\n",
       "  (4, 1),\n",
       "  (15, 1),\n",
       "  (23, 1),\n",
       "  (24, 3),\n",
       "  (25, 1),\n",
       "  (33, 1),\n",
       "  (34, 3),\n",
       "  (41, 1),\n",
       "  (42, 1),\n",
       "  (43, 1),\n",
       "  (44, 1),\n",
       "  (45, 1),\n",
       "  (46, 1),\n",
       "  (47, 1),\n",
       "  (48, 1),\n",
       "  (49, 1),\n",
       "  (50, 1),\n",
       "  (51, 1),\n",
       "  (52, 1),\n",
       "  (53, 1),\n",
       "  (54, 1),\n",
       "  (55, 1)]]"
      ]
     },
     "execution_count": 41,
     "metadata": {},
     "output_type": "execute_result"
    }
   ],
   "source": [
    "corpus"
   ]
  },
  {
   "cell_type": "code",
   "execution_count": 42,
   "metadata": {},
   "outputs": [],
   "source": [
    "# Tf-idf with gensim\n",
    "from gensim.models.tfidfmodel import TfidfModel"
   ]
  },
  {
   "cell_type": "code",
   "execution_count": 43,
   "metadata": {},
   "outputs": [],
   "source": [
    "tfidf = TfidfModel(corpus)"
   ]
  },
  {
   "cell_type": "code",
   "execution_count": 44,
   "metadata": {},
   "outputs": [
    {
     "data": {
      "text/plain": [
       "[(6, 0.191180766367847),\n",
       " (9, 0.0955903831839235),\n",
       " (11, 0.0955903831839235),\n",
       " (12, 0.0955903831839235),\n",
       " (17, 0.0955903831839235),\n",
       " (18, 0.0955903831839235),\n",
       " (26, 0.259003222581453),\n",
       " (27, 0.259003222581453),\n",
       " (28, 0.259003222581453),\n",
       " (29, 0.259003222581453),\n",
       " (30, 0.259003222581453),\n",
       " (31, 0.259003222581453),\n",
       " (32, 0.259003222581453),\n",
       " (33, 0.191180766367847),\n",
       " (34, 0.0955903831839235),\n",
       " (35, 0.259003222581453),\n",
       " (36, 0.259003222581453),\n",
       " (37, 0.259003222581453),\n",
       " (38, 0.259003222581453),\n",
       " (39, 0.259003222581453),\n",
       " (40, 0.259003222581453)]"
      ]
     },
     "execution_count": 44,
     "metadata": {},
     "output_type": "execute_result"
    }
   ],
   "source": [
    "tfidf[corpus[1]]"
   ]
  },
  {
   "cell_type": "markdown",
   "metadata": {},
   "source": [
    "## Chapter no : 3\n",
    "## Named-entity recognition"
   ]
  },
  {
   "cell_type": "code",
   "execution_count": 45,
   "metadata": {},
   "outputs": [],
   "source": [
    "#1. Named Entity Recognition\n",
    "import nltk"
   ]
  },
  {
   "cell_type": "code",
   "execution_count": 46,
   "metadata": {},
   "outputs": [],
   "source": [
    "sentences = '''In New York, I like to ride the Metro to visit Moma and some restaurants rated well by Ruth Reichl.'''\n",
    "tokenized_sent = nltk.word_tokenize(sentences)"
   ]
  },
  {
   "cell_type": "code",
   "execution_count": 47,
   "metadata": {},
   "outputs": [
    {
     "data": {
      "text/plain": [
       "[('In', 'IN'), ('New', 'NNP'), ('York', 'NNP'), (',', ','), ('I', 'PRP')]"
      ]
     },
     "execution_count": 47,
     "metadata": {},
     "output_type": "execute_result"
    }
   ],
   "source": [
    "tagged_sent = nltk.pos_tag(tokenized_sent)\n",
    "tagged_sent[:5]"
   ]
  },
  {
   "cell_type": "code",
   "execution_count": 48,
   "metadata": {},
   "outputs": [
    {
     "name": "stderr",
     "output_type": "stream",
     "text": [
      "[nltk_data] Downloading package averaged_perceptron_tagger to\n",
      "[nltk_data]     C:\\Users\\Chacha Tech\\AppData\\Roaming\\nltk_data...\n",
      "[nltk_data]   Package averaged_perceptron_tagger is already up-to-\n",
      "[nltk_data]       date!\n"
     ]
    },
    {
     "data": {
      "text/plain": [
       "True"
      ]
     },
     "execution_count": 48,
     "metadata": {},
     "output_type": "execute_result"
    }
   ],
   "source": [
    " nltk.download('averaged_perceptron_tagger')"
   ]
  },
  {
   "cell_type": "code",
   "execution_count": 49,
   "metadata": {},
   "outputs": [
    {
     "name": "stderr",
     "output_type": "stream",
     "text": [
      "[nltk_data] Downloading package maxent_ne_chunker to C:\\Users\\Chacha\n",
      "[nltk_data]     Tech\\AppData\\Roaming\\nltk_data...\n",
      "[nltk_data]   Package maxent_ne_chunker is already up-to-date!\n"
     ]
    },
    {
     "data": {
      "text/plain": [
       "True"
      ]
     },
     "execution_count": 49,
     "metadata": {},
     "output_type": "execute_result"
    }
   ],
   "source": [
    "nltk.download('maxent_ne_chunker')"
   ]
  },
  {
   "cell_type": "code",
   "execution_count": 50,
   "metadata": {},
   "outputs": [
    {
     "name": "stderr",
     "output_type": "stream",
     "text": [
      "[nltk_data] Downloading package words to C:\\Users\\Chacha\n",
      "[nltk_data]     Tech\\AppData\\Roaming\\nltk_data...\n",
      "[nltk_data]   Package words is already up-to-date!\n"
     ]
    },
    {
     "data": {
      "text/plain": [
       "True"
      ]
     },
     "execution_count": 50,
     "metadata": {},
     "output_type": "execute_result"
    }
   ],
   "source": [
    "nltk.download('words')"
   ]
  },
  {
   "cell_type": "code",
   "execution_count": 51,
   "metadata": {},
   "outputs": [
    {
     "name": "stdout",
     "output_type": "stream",
     "text": [
      "(S\n",
      "  In/IN\n",
      "  (GPE New/NNP York/NNP)\n",
      "  ,/,\n",
      "  I/PRP\n",
      "  like/VBP\n",
      "  to/TO\n",
      "  ride/VB\n",
      "  the/DT\n",
      "  (ORGANIZATION Metro/NNP)\n",
      "  to/TO\n",
      "  visit/VB\n",
      "  (PERSON Moma/NNP)\n",
      "  and/CC\n",
      "  some/DT\n",
      "  restaurants/NNS\n",
      "  rated/VBN\n",
      "  well/RB\n",
      "  by/IN\n",
      "  (PERSON Ruth/NNP Reichl/NNP)\n",
      "  ./.)\n"
     ]
    }
   ],
   "source": [
    "print(nltk.ne_chunk(tagged_sent))"
   ]
  },
  {
   "cell_type": "code",
   "execution_count": 52,
   "metadata": {},
   "outputs": [],
   "source": [
    "# 2. Introduction to SpaCy\n",
    "import spacy\n",
    "nlp = spacy.load(\"en_core_web_sm\")"
   ]
  },
  {
   "cell_type": "code",
   "execution_count": 53,
   "metadata": {},
   "outputs": [
    {
     "data": {
      "text/plain": [
       "(Berlin, Germany, Angela Merker)"
      ]
     },
     "execution_count": 53,
     "metadata": {},
     "output_type": "execute_result"
    }
   ],
   "source": [
    "doc = nlp('Berlin is the capital of Germany, and the Chancellor of Angela Merker.')\n",
    "doc.ents"
   ]
  },
  {
   "cell_type": "code",
   "execution_count": 54,
   "metadata": {},
   "outputs": [
    {
     "name": "stdout",
     "output_type": "stream",
     "text": [
      "GPE | Berlin\n",
      "GPE | Germany\n",
      "PERSON | Angela Merker\n"
     ]
    }
   ],
   "source": [
    "for entity in doc.ents:\n",
    "    print(entity.label_, '|', entity.text)"
   ]
  },
  {
   "cell_type": "code",
   "execution_count": 55,
   "metadata": {},
   "outputs": [
    {
     "name": "stdout",
     "output_type": "stream",
     "text": [
      "Collecting polyglot\n",
      "  Using cached polyglot-16.7.4.tar.gz (126 kB)"
     ]
    },
    {
     "name": "stderr",
     "output_type": "stream",
     "text": [
      "  ERROR: Command errored out with exit status 1:\n",
      "   command: 'c:\\users\\chacha tech\\anaconda3\\python.exe' -c 'import io, os, sys, setuptools, tokenize; sys.argv[0] = '\"'\"'C:\\\\Users\\\\Chacha Tech\\\\AppData\\\\Local\\\\Temp\\\\pip-install-y5319pc0\\\\polyglot_d13940deab0148e48d4745f9210febd9\\\\setup.py'\"'\"'; __file__='\"'\"'C:\\\\Users\\\\Chacha Tech\\\\AppData\\\\Local\\\\Temp\\\\pip-install-y5319pc0\\\\polyglot_d13940deab0148e48d4745f9210febd9\\\\setup.py'\"'\"';f = getattr(tokenize, '\"'\"'open'\"'\"', open)(__file__) if os.path.exists(__file__) else io.StringIO('\"'\"'from setuptools import setup; setup()'\"'\"');code = f.read().replace('\"'\"'\\r\\n'\"'\"', '\"'\"'\\n'\"'\"');f.close();exec(compile(code, __file__, '\"'\"'exec'\"'\"'))' egg_info --egg-base 'C:\\Users\\Chacha Tech\\AppData\\Local\\Temp\\pip-pip-egg-info-8dd0n3q1'\n",
      "       cwd: C:\\Users\\Chacha Tech\\AppData\\Local\\Temp\\pip-install-y5319pc0\\polyglot_d13940deab0148e48d4745f9210febd9\\\n",
      "  Complete output (7 lines):\n",
      "  Traceback (most recent call last):\n",
      "    File \"<string>\", line 1, in <module>\n",
      "    File \"C:\\Users\\Chacha Tech\\AppData\\Local\\Temp\\pip-install-y5319pc0\\polyglot_d13940deab0148e48d4745f9210febd9\\setup.py\", line 15, in <module>\n",
      "      readme = readme_file.read()\n",
      "    File \"c:\\users\\chacha tech\\anaconda3\\lib\\encodings\\cp1252.py\", line 23, in decode\n",
      "      return codecs.charmap_decode(input,self.errors,decoding_table)[0]\n",
      "  UnicodeDecodeError: 'charmap' codec can't decode byte 0x81 in position 4941: character maps to <undefined>\n",
      "  ----------------------------------------\n",
      "WARNING: Discarding https://files.pythonhosted.org/packages/e7/98/e24e2489114c5112b083714277204d92d372f5bbe00d5507acf40370edb9/polyglot-16.7.4.tar.gz#sha256=f7d9cca9a212622548e9416fb89f1238b994b8860ef49e03b7c82c67f9b6269b (from https://pypi.org/simple/polyglot/). Command errored out with exit status 1: python setup.py egg_info Check the logs for full command output.\n",
      "  ERROR: Command errored out with exit status 1:\n",
      "   command: 'c:\\users\\chacha tech\\anaconda3\\python.exe' -c 'import io, os, sys, setuptools, tokenize; sys.argv[0] = '\"'\"'C:\\\\Users\\\\Chacha Tech\\\\AppData\\\\Local\\\\Temp\\\\pip-install-y5319pc0\\\\pyicu_8dfd14faa02345f7b43c1173f9afa98c\\\\setup.py'\"'\"'; __file__='\"'\"'C:\\\\Users\\\\Chacha Tech\\\\AppData\\\\Local\\\\Temp\\\\pip-install-y5319pc0\\\\pyicu_8dfd14faa02345f7b43c1173f9afa98c\\\\setup.py'\"'\"';f = getattr(tokenize, '\"'\"'open'\"'\"', open)(__file__) if os.path.exists(__file__) else io.StringIO('\"'\"'from setuptools import setup; setup()'\"'\"');code = f.read().replace('\"'\"'\\r\\n'\"'\"', '\"'\"'\\n'\"'\"');f.close();exec(compile(code, __file__, '\"'\"'exec'\"'\"'))' egg_info --egg-base 'C:\\Users\\Chacha Tech\\AppData\\Local\\Temp\\pip-pip-egg-info-8iwxiymg'\n",
      "       cwd: C:\\Users\\Chacha Tech\\AppData\\Local\\Temp\\pip-install-y5319pc0\\pyicu_8dfd14faa02345f7b43c1173f9afa98c\\\n",
      "  Complete output (53 lines):\n",
      "  Traceback (most recent call last):\n",
      "    File \"C:\\Users\\Chacha Tech\\AppData\\Local\\Temp\\pip-install-y5319pc0\\pyicu_8dfd14faa02345f7b43c1173f9afa98c\\setup.py\", line 63, in <module>\n",
      "      ICU_VERSION = os.environ['ICU_VERSION']\n",
      "    File \"c:\\users\\chacha tech\\anaconda3\\lib\\os.py\", line 675, in __getitem__\n",
      "      raise KeyError(key) from None\n",
      "  KeyError: 'ICU_VERSION'\n",
      "  \n",
      "  During handling of the above exception, another exception occurred:\n",
      "  \n",
      "  Traceback (most recent call last):\n",
      "    File \"C:\\Users\\Chacha Tech\\AppData\\Local\\Temp\\pip-install-y5319pc0\\pyicu_8dfd14faa02345f7b43c1173f9afa98c\\setup.py\", line 66, in <module>\n",
      "      ICU_VERSION = check_output(('icu-config', '--version')).strip()\n",
      "    File \"C:\\Users\\Chacha Tech\\AppData\\Local\\Temp\\pip-install-y5319pc0\\pyicu_8dfd14faa02345f7b43c1173f9afa98c\\setup.py\", line 19, in check_output\n",
      "      return subprocess_check_output(popenargs)\n",
      "    File \"c:\\users\\chacha tech\\anaconda3\\lib\\subprocess.py\", line 411, in check_output\n",
      "      return run(*popenargs, stdout=PIPE, timeout=timeout, check=True,\n",
      "    File \"c:\\users\\chacha tech\\anaconda3\\lib\\subprocess.py\", line 489, in run\n",
      "      with Popen(*popenargs, **kwargs) as process:\n",
      "    File \"c:\\users\\chacha tech\\anaconda3\\lib\\subprocess.py\", line 854, in __init__\n",
      "      self._execute_child(args, executable, preexec_fn, close_fds,\n",
      "    File \"c:\\users\\chacha tech\\anaconda3\\lib\\subprocess.py\", line 1307, in _execute_child\n",
      "      hp, ht, pid, tid = _winapi.CreateProcess(executable, args,\n",
      "  FileNotFoundError: [WinError 2] The system cannot find the file specified\n",
      "  \n",
      "  During handling of the above exception, another exception occurred:\n",
      "  \n",
      "  Traceback (most recent call last):\n",
      "    File \"C:\\Users\\Chacha Tech\\AppData\\Local\\Temp\\pip-install-y5319pc0\\pyicu_8dfd14faa02345f7b43c1173f9afa98c\\setup.py\", line 69, in <module>\n",
      "      ICU_VERSION = check_output(('pkg-config', '--modversion', 'icu-i18n')).strip()\n",
      "    File \"C:\\Users\\Chacha Tech\\AppData\\Local\\Temp\\pip-install-y5319pc0\\pyicu_8dfd14faa02345f7b43c1173f9afa98c\\setup.py\", line 19, in check_output\n",
      "      return subprocess_check_output(popenargs)\n",
      "    File \"c:\\users\\chacha tech\\anaconda3\\lib\\subprocess.py\", line 411, in check_output\n",
      "      return run(*popenargs, stdout=PIPE, timeout=timeout, check=True,\n",
      "    File \"c:\\users\\chacha tech\\anaconda3\\lib\\subprocess.py\", line 489, in run\n",
      "      with Popen(*popenargs, **kwargs) as process:\n",
      "    File \"c:\\users\\chacha tech\\anaconda3\\lib\\subprocess.py\", line 854, in __init__\n",
      "      self._execute_child(args, executable, preexec_fn, close_fds,\n",
      "    File \"c:\\users\\chacha tech\\anaconda3\\lib\\subprocess.py\", line 1307, in _execute_child\n",
      "      hp, ht, pid, tid = _winapi.CreateProcess(executable, args,\n",
      "  FileNotFoundError: [WinError 2] The system cannot find the file specified\n",
      "  \n",
      "  During handling of the above exception, another exception occurred:\n",
      "  \n",
      "  Traceback (most recent call last):\n",
      "    File \"<string>\", line 1, in <module>\n",
      "    File \"C:\\Users\\Chacha Tech\\AppData\\Local\\Temp\\pip-install-y5319pc0\\pyicu_8dfd14faa02345f7b43c1173f9afa98c\\setup.py\", line 71, in <module>\n",
      "      raise RuntimeError('''\n",
      "  RuntimeError:\n",
      "  Please install pkg-config on your system or set the ICU_VERSION environment\n",
      "  variable to the version of ICU you have installed.\n",
      "  \n",
      "  (running 'icu-config --version')\n",
      "  (running 'pkg-config --modversion icu-i18n')\n",
      "  ----------------------------------------\n",
      "WARNING: Discarding https://files.pythonhosted.org/packages/6b/ef/d495df371dcbfc36dc68b029495bbc386f59e3c4c6c5f327fc8b9c52c8b1/PyICU-2.7.4.tar.gz#sha256=c0655302e2aea16f9acefe04152f74e5d7d70542e9e15c89ee8d763c8e097f56 (from https://pypi.org/simple/pyicu/). Command errored out with exit status 1: python setup.py egg_info Check the logs for full command output.\n",
      "  ERROR: Command errored out with exit status 1:\n",
      "   command: 'c:\\users\\chacha tech\\anaconda3\\python.exe' -c 'import io, os, sys, setuptools, tokenize; sys.argv[0] = '\"'\"'C:\\\\Users\\\\Chacha Tech\\\\AppData\\\\Local\\\\Temp\\\\pip-install-y5319pc0\\\\pyicu_c2fe38c6d5f641d3a775ff51fd811993\\\\setup.py'\"'\"'; __file__='\"'\"'C:\\\\Users\\\\Chacha Tech\\\\AppData\\\\Local\\\\Temp\\\\pip-install-y5319pc0\\\\pyicu_c2fe38c6d5f641d3a775ff51fd811993\\\\setup.py'\"'\"';f = getattr(tokenize, '\"'\"'open'\"'\"', open)(__file__) if os.path.exists(__file__) else io.StringIO('\"'\"'from setuptools import setup; setup()'\"'\"');code = f.read().replace('\"'\"'\\r\\n'\"'\"', '\"'\"'\\n'\"'\"');f.close();exec(compile(code, __file__, '\"'\"'exec'\"'\"'))' egg_info --egg-base 'C:\\Users\\Chacha Tech\\AppData\\Local\\Temp\\pip-pip-egg-info-h2mcak6b'\n",
      "       cwd: C:\\Users\\Chacha Tech\\AppData\\Local\\Temp\\pip-install-y5319pc0\\pyicu_c2fe38c6d5f641d3a775ff51fd811993\\\n",
      "  Complete output (53 lines):\n",
      "  Traceback (most recent call last):\n",
      "    File \"C:\\Users\\Chacha Tech\\AppData\\Local\\Temp\\pip-install-y5319pc0\\pyicu_c2fe38c6d5f641d3a775ff51fd811993\\setup.py\", line 63, in <module>\n",
      "      ICU_VERSION = os.environ['ICU_VERSION']\n",
      "    File \"c:\\users\\chacha tech\\anaconda3\\lib\\os.py\", line 675, in __getitem__\n",
      "      raise KeyError(key) from None\n",
      "  KeyError: 'ICU_VERSION'\n",
      "  \n",
      "  During handling of the above exception, another exception occurred:\n",
      "  \n",
      "  Traceback (most recent call last):\n",
      "    File \"C:\\Users\\Chacha Tech\\AppData\\Local\\Temp\\pip-install-y5319pc0\\pyicu_c2fe38c6d5f641d3a775ff51fd811993\\setup.py\", line 66, in <module>\n",
      "      ICU_VERSION = check_output(('icu-config', '--version')).strip()\n",
      "    File \"C:\\Users\\Chacha Tech\\AppData\\Local\\Temp\\pip-install-y5319pc0\\pyicu_c2fe38c6d5f641d3a775ff51fd811993\\setup.py\", line 19, in check_output\n",
      "      return subprocess_check_output(popenargs)\n",
      "    File \"c:\\users\\chacha tech\\anaconda3\\lib\\subprocess.py\", line 411, in check_output\n",
      "      return run(*popenargs, stdout=PIPE, timeout=timeout, check=True,\n",
      "    File \"c:\\users\\chacha tech\\anaconda3\\lib\\subprocess.py\", line 489, in run\n",
      "      with Popen(*popenargs, **kwargs) as process:\n",
      "    File \"c:\\users\\chacha tech\\anaconda3\\lib\\subprocess.py\", line 854, in __init__\n",
      "      self._execute_child(args, executable, preexec_fn, close_fds,\n",
      "    File \"c:\\users\\chacha tech\\anaconda3\\lib\\subprocess.py\", line 1307, in _execute_child\n",
      "      hp, ht, pid, tid = _winapi.CreateProcess(executable, args,\n",
      "  FileNotFoundError: [WinError 2] The system cannot find the file specified\n",
      "  \n",
      "  During handling of the above exception, another exception occurred:\n",
      "  \n",
      "  Traceback (most recent call last):\n",
      "    File \"C:\\Users\\Chacha Tech\\AppData\\Local\\Temp\\pip-install-y5319pc0\\pyicu_c2fe38c6d5f641d3a775ff51fd811993\\setup.py\", line 69, in <module>\n",
      "      ICU_VERSION = check_output(('pkg-config', '--modversion', 'icu-i18n')).strip()\n",
      "    File \"C:\\Users\\Chacha Tech\\AppData\\Local\\Temp\\pip-install-y5319pc0\\pyicu_c2fe38c6d5f641d3a775ff51fd811993\\setup.py\", line 19, in check_output\n",
      "      return subprocess_check_output(popenargs)\n",
      "    File \"c:\\users\\chacha tech\\anaconda3\\lib\\subprocess.py\", line 411, in check_output\n",
      "      return run(*popenargs, stdout=PIPE, timeout=timeout, check=True,\n",
      "    File \"c:\\users\\chacha tech\\anaconda3\\lib\\subprocess.py\", line 489, in run\n",
      "      with Popen(*popenargs, **kwargs) as process:\n",
      "    File \"c:\\users\\chacha tech\\anaconda3\\lib\\subprocess.py\", line 854, in __init__\n",
      "      self._execute_child(args, executable, preexec_fn, close_fds,\n",
      "    File \"c:\\users\\chacha tech\\anaconda3\\lib\\subprocess.py\", line 1307, in _execute_child\n",
      "      hp, ht, pid, tid = _winapi.CreateProcess(executable, args,\n",
      "  FileNotFoundError: [WinError 2] The system cannot find the file specified\n",
      "  \n",
      "  During handling of the above exception, another exception occurred:\n",
      "  \n",
      "  Traceback (most recent call last):\n",
      "    File \"<string>\", line 1, in <module>\n",
      "    File \"C:\\Users\\Chacha Tech\\AppData\\Local\\Temp\\pip-install-y5319pc0\\pyicu_c2fe38c6d5f641d3a775ff51fd811993\\setup.py\", line 71, in <module>\n",
      "      raise RuntimeError('''\n",
      "  RuntimeError:\n",
      "  Please install pkg-config on your system or set the ICU_VERSION environment\n",
      "  variable to the version of ICU you have installed.\n",
      "  \n",
      "  (running 'icu-config --version')\n",
      "  (running 'pkg-config --modversion icu-i18n')\n",
      "  ----------------------------------------\n",
      "WARNING: Discarding https://files.pythonhosted.org/packages/50/62/230bb78141a03cb3849a1f8ab390eed290a9430b3dabb496c51228271e0b/PyICU-2.7.3.tar.gz#sha256=0892f927b825e6027478f5b3cae52deecc0a1cba488da1ffb0fb299274bb61cb (from https://pypi.org/simple/pyicu/). Command errored out with exit status 1: python setup.py egg_info Check the logs for full command output.\n",
      "  ERROR: Command errored out with exit status 1:\n",
      "   command: 'c:\\users\\chacha tech\\anaconda3\\python.exe' -c 'import io, os, sys, setuptools, tokenize; sys.argv[0] = '\"'\"'C:\\\\Users\\\\Chacha Tech\\\\AppData\\\\Local\\\\Temp\\\\pip-install-y5319pc0\\\\pyicu_7e40b5ba92eb44ef8e1fa23cd5367cb9\\\\setup.py'\"'\"'; __file__='\"'\"'C:\\\\Users\\\\Chacha Tech\\\\AppData\\\\Local\\\\Temp\\\\pip-install-y5319pc0\\\\pyicu_7e40b5ba92eb44ef8e1fa23cd5367cb9\\\\setup.py'\"'\"';f = getattr(tokenize, '\"'\"'open'\"'\"', open)(__file__) if os.path.exists(__file__) else io.StringIO('\"'\"'from setuptools import setup; setup()'\"'\"');code = f.read().replace('\"'\"'\\r\\n'\"'\"', '\"'\"'\\n'\"'\"');f.close();exec(compile(code, __file__, '\"'\"'exec'\"'\"'))' egg_info --egg-base 'C:\\Users\\Chacha Tech\\AppData\\Local\\Temp\\pip-pip-egg-info-z6n_qvky'\n",
      "       cwd: C:\\Users\\Chacha Tech\\AppData\\Local\\Temp\\pip-install-y5319pc0\\pyicu_7e40b5ba92eb44ef8e1fa23cd5367cb9\\\n",
      "  Complete output (53 lines):\n",
      "  Traceback (most recent call last):\n",
      "    File \"C:\\Users\\Chacha Tech\\AppData\\Local\\Temp\\pip-install-y5319pc0\\pyicu_7e40b5ba92eb44ef8e1fa23cd5367cb9\\setup.py\", line 63, in <module>\n",
      "      ICU_VERSION = os.environ['ICU_VERSION']\n",
      "    File \"c:\\users\\chacha tech\\anaconda3\\lib\\os.py\", line 675, in __getitem__\n",
      "      raise KeyError(key) from None\n",
      "  KeyError: 'ICU_VERSION'\n",
      "  \n",
      "  During handling of the above exception, another exception occurred:\n",
      "  \n",
      "  Traceback (most recent call last):\n",
      "    File \"C:\\Users\\Chacha Tech\\AppData\\Local\\Temp\\pip-install-y5319pc0\\pyicu_7e40b5ba92eb44ef8e1fa23cd5367cb9\\setup.py\", line 66, in <module>\n",
      "      ICU_VERSION = check_output(('icu-config', '--version')).strip()\n",
      "    File \"C:\\Users\\Chacha Tech\\AppData\\Local\\Temp\\pip-install-y5319pc0\\pyicu_7e40b5ba92eb44ef8e1fa23cd5367cb9\\setup.py\", line 19, in check_output\n",
      "      return subprocess_check_output(popenargs)\n",
      "    File \"c:\\users\\chacha tech\\anaconda3\\lib\\subprocess.py\", line 411, in check_output\n",
      "      return run(*popenargs, stdout=PIPE, timeout=timeout, check=True,\n",
      "    File \"c:\\users\\chacha tech\\anaconda3\\lib\\subprocess.py\", line 489, in run\n",
      "      with Popen(*popenargs, **kwargs) as process:\n",
      "    File \"c:\\users\\chacha tech\\anaconda3\\lib\\subprocess.py\", line 854, in __init__\n",
      "      self._execute_child(args, executable, preexec_fn, close_fds,\n",
      "    File \"c:\\users\\chacha tech\\anaconda3\\lib\\subprocess.py\", line 1307, in _execute_child\n",
      "      hp, ht, pid, tid = _winapi.CreateProcess(executable, args,\n",
      "  FileNotFoundError: [WinError 2] The system cannot find the file specified\n",
      "  \n",
      "  During handling of the above exception, another exception occurred:\n",
      "  \n",
      "  Traceback (most recent call last):\n",
      "    File \"C:\\Users\\Chacha Tech\\AppData\\Local\\Temp\\pip-install-y5319pc0\\pyicu_7e40b5ba92eb44ef8e1fa23cd5367cb9\\setup.py\", line 69, in <module>\n",
      "      ICU_VERSION = check_output(('pkg-config', '--modversion', 'icu-i18n')).strip()\n",
      "    File \"C:\\Users\\Chacha Tech\\AppData\\Local\\Temp\\pip-install-y5319pc0\\pyicu_7e40b5ba92eb44ef8e1fa23cd5367cb9\\setup.py\", line 19, in check_output\n",
      "      return subprocess_check_output(popenargs)\n",
      "    File \"c:\\users\\chacha tech\\anaconda3\\lib\\subprocess.py\", line 411, in check_output\n",
      "      return run(*popenargs, stdout=PIPE, timeout=timeout, check=True,\n",
      "    File \"c:\\users\\chacha tech\\anaconda3\\lib\\subprocess.py\", line 489, in run\n",
      "      with Popen(*popenargs, **kwargs) as process:\n",
      "    File \"c:\\users\\chacha tech\\anaconda3\\lib\\subprocess.py\", line 854, in __init__\n",
      "      self._execute_child(args, executable, preexec_fn, close_fds,\n",
      "    File \"c:\\users\\chacha tech\\anaconda3\\lib\\subprocess.py\", line 1307, in _execute_child\n",
      "      hp, ht, pid, tid = _winapi.CreateProcess(executable, args,\n",
      "  FileNotFoundError: [WinError 2] The system cannot find the file specified\n",
      "  \n",
      "  During handling of the above exception, another exception occurred:\n",
      "  \n",
      "  Traceback (most recent call last):\n",
      "    File \"<string>\", line 1, in <module>\n",
      "    File \"C:\\Users\\Chacha Tech\\AppData\\Local\\Temp\\pip-install-y5319pc0\\pyicu_7e40b5ba92eb44ef8e1fa23cd5367cb9\\setup.py\", line 71, in <module>\n",
      "      raise RuntimeError('''\n",
      "  RuntimeError:\n",
      "  Please install pkg-config on your system or set the ICU_VERSION environment\n",
      "  variable to the version of ICU you have installed.\n",
      "  \n",
      "  (running 'icu-config --version')\n",
      "  (running 'pkg-config --modversion icu-i18n')\n",
      "  ----------------------------------------\n",
      "WARNING: Discarding https://files.pythonhosted.org/packages/17/0f/9d6b7eb01650960239a5d4dc21cd6e7a96921807c043d287bae4b2f440e1/PyICU-2.7.2.tar.gz#sha256=1382869b22d91cc99274f9b525fa7d9199b44d9007ff0036a09747839a01e9dc (from https://pypi.org/simple/pyicu/). Command errored out with exit status 1: python setup.py egg_info Check the logs for full command output.\n",
      "  ERROR: Command errored out with exit status 1:\n",
      "   command: 'c:\\users\\chacha tech\\anaconda3\\python.exe' -c 'import io, os, sys, setuptools, tokenize; sys.argv[0] = '\"'\"'C:\\\\Users\\\\Chacha Tech\\\\AppData\\\\Local\\\\Temp\\\\pip-install-y5319pc0\\\\pyicu_90e6b380b190438ab78bb71c0ba56307\\\\setup.py'\"'\"'; __file__='\"'\"'C:\\\\Users\\\\Chacha Tech\\\\AppData\\\\Local\\\\Temp\\\\pip-install-y5319pc0\\\\pyicu_90e6b380b190438ab78bb71c0ba56307\\\\setup.py'\"'\"';f = getattr(tokenize, '\"'\"'open'\"'\"', open)(__file__) if os.path.exists(__file__) else io.StringIO('\"'\"'from setuptools import setup; setup()'\"'\"');code = f.read().replace('\"'\"'\\r\\n'\"'\"', '\"'\"'\\n'\"'\"');f.close();exec(compile(code, __file__, '\"'\"'exec'\"'\"'))' egg_info --egg-base 'C:\\Users\\Chacha Tech\\AppData\\Local\\Temp\\pip-pip-egg-info-1_zlety4'\n",
      "       cwd: C:\\Users\\Chacha Tech\\AppData\\Local\\Temp\\pip-install-y5319pc0\\pyicu_90e6b380b190438ab78bb71c0ba56307\\\n",
      "  Complete output (53 lines):\n",
      "  Traceback (most recent call last):\n",
      "    File \"C:\\Users\\Chacha Tech\\AppData\\Local\\Temp\\pip-install-y5319pc0\\pyicu_90e6b380b190438ab78bb71c0ba56307\\setup.py\", line 63, in <module>\n",
      "      ICU_VERSION = os.environ['ICU_VERSION']\n",
      "    File \"c:\\users\\chacha tech\\anaconda3\\lib\\os.py\", line 675, in __getitem__\n",
      "      raise KeyError(key) from None\n",
      "  KeyError: 'ICU_VERSION'\n",
      "  \n",
      "  During handling of the above exception, another exception occurred:\n",
      "  \n",
      "  Traceback (most recent call last):\n",
      "    File \"C:\\Users\\Chacha Tech\\AppData\\Local\\Temp\\pip-install-y5319pc0\\pyicu_90e6b380b190438ab78bb71c0ba56307\\setup.py\", line 66, in <module>\n",
      "      ICU_VERSION = check_output(('icu-config', '--version')).strip()\n",
      "    File \"C:\\Users\\Chacha Tech\\AppData\\Local\\Temp\\pip-install-y5319pc0\\pyicu_90e6b380b190438ab78bb71c0ba56307\\setup.py\", line 19, in check_output\n",
      "      return subprocess_check_output(popenargs)\n",
      "    File \"c:\\users\\chacha tech\\anaconda3\\lib\\subprocess.py\", line 411, in check_output\n",
      "      return run(*popenargs, stdout=PIPE, timeout=timeout, check=True,"
     ]
    },
    {
     "name": "stdout",
     "output_type": "stream",
     "text": [
      "\n",
      "  Preparing metadata (setup.py): started\n",
      "  Preparing metadata (setup.py): finished with status 'error'\n",
      "  Using cached polyglot-15.10.03-py2.py3-none-any.whl (54 kB)\n",
      "Requirement already satisfied: wheel>=0.23.0 in c:\\users\\chacha tech\\anaconda3\\lib\\site-packages (from polyglot) (0.35.1)\n",
      "Requirement already satisfied: six>=1.7.3 in c:\\users\\chacha tech\\anaconda3\\lib\\site-packages (from polyglot) (1.15.0)\n",
      "Collecting futures>=2.1.6\n",
      "  Using cached futures-3.1.0-py3-none-any.whl\n",
      "Collecting morfessor>=2.0.2a1\n",
      "  Using cached Morfessor-2.0.6-py3-none-any.whl (35 kB)\n",
      "Collecting pycld2>=0.3\n",
      "  Using cached pycld2-0.41.tar.gz (41.4 MB)\n",
      "  Preparing metadata (setup.py): started\n",
      "  Preparing metadata (setup.py): finished with status 'done'\n",
      "Collecting PyICU>=1.8\n",
      "  Using cached PyICU-2.7.4.tar.gz (298 kB)\n",
      "  Preparing metadata (setup.py): started\n",
      "  Preparing metadata (setup.py): finished with status 'error'\n",
      "  Using cached PyICU-2.7.3.tar.gz (295 kB)\n",
      "  Preparing metadata (setup.py): started\n",
      "  Preparing metadata (setup.py): finished with status 'error'\n",
      "  Using cached PyICU-2.7.2.tar.gz (293 kB)\n",
      "  Preparing metadata (setup.py): started\n",
      "  Preparing metadata (setup.py): finished with status 'error'\n",
      "  Using cached PyICU-2.7.1.tar.gz (189 kB)\n",
      "  Preparing metadata (setup.py): started\n",
      "  Preparing metadata (setup.py): finished with status 'error'\n",
      "  Using cached PyICU-2.7.tar.gz (189 kB)\n",
      "  Preparing metadata (setup.py): started\n",
      "  Preparing metadata (setup.py): finished with status 'error'\n",
      "  Using cached PyICU-2.6.tar.gz (233 kB)\n",
      "  Preparing metadata (setup.py): started\n",
      "  Preparing metadata (setup.py): finished with status 'error'\n",
      "  Using cached PyICU-2.5.tar.gz (225 kB)\n",
      "  Preparing metadata (setup.py): started\n",
      "  Preparing metadata (setup.py): finished with status 'error'\n",
      "  Using cached PyICU-2.4.3.tar.gz (219 kB)\n",
      "  Preparing metadata (setup.py): started\n",
      "  Preparing metadata (setup.py): finished with status 'error'\n",
      "  Using cached PyICU-2.4.2.tar.gz (219 kB)\n",
      "  Preparing metadata (setup.py): started\n",
      "  Preparing metadata (setup.py): finished with status 'error'\n",
      "  Using cached PyICU-2.4.1.tar.gz (219 kB)\n",
      "  Preparing metadata (setup.py): started\n",
      "  Preparing metadata (setup.py): finished with status 'error'\n",
      "  Using cached PyICU-2.4.tar.gz (219 kB)\n",
      "  Preparing metadata (setup.py): started\n",
      "  Preparing metadata (setup.py): finished with status 'error'\n",
      "  Using cached PyICU-2.3.1.tar.gz (214 kB)\n",
      "  Preparing metadata (setup.py): started\n",
      "  Preparing metadata (setup.py): finished with status 'error'\n",
      "  Using cached PyICU-2.3.tar.gz (214 kB)\n",
      "  Preparing metadata (setup.py): started\n",
      "  Preparing metadata (setup.py): finished with status 'error'\n",
      "  Using cached PyICU-2.2.tar.gz (211 kB)\n",
      "  Preparing metadata (setup.py): started\n",
      "  Preparing metadata (setup.py): finished with status 'error'\n",
      "  Using cached PyICU-2.1.tar.gz (203 kB)\n",
      "  Preparing metadata (setup.py): started\n",
      "  Preparing metadata (setup.py): finished with status 'error'\n",
      "  Using cached PyICU-2.0.6.tar.gz (203 kB)\n",
      "  Preparing metadata (setup.py): started\n",
      "  Preparing metadata (setup.py): finished with status 'error'\n",
      "  Using cached PyICU-2.0.5.tar.gz (203 kB)\n",
      "  Preparing metadata (setup.py): started\n",
      "  Preparing metadata (setup.py): finished with status 'error'\n",
      "  Using cached PyICU-2.0.4.tar.gz (202 kB)\n",
      "  Preparing metadata (setup.py): started\n",
      "  Preparing metadata (setup.py): finished with status 'error'\n",
      "  Using cached PyICU-2.0.3.tar.gz (201 kB)\n",
      "  Preparing metadata (setup.py): started\n",
      "  Preparing metadata (setup.py): finished with status 'error'\n",
      "  Using cached PyICU-2.0.2.tar.gz (194 kB)\n",
      "  Preparing metadata (setup.py): started\n",
      "  Preparing metadata (setup.py): finished with status 'error'\n",
      "  Using cached PyICU-2.0.1.tar.gz (194 kB)\n",
      "  Preparing metadata (setup.py): started\n",
      "  Preparing metadata (setup.py): finished with status 'error'\n",
      "  Using cached PyICU-2.0.tar.gz (194 kB)\n",
      "  Preparing metadata (setup.py): started\n",
      "  Preparing metadata (setup.py): finished with status 'error'\n",
      "  Using cached PyICU-1.9.8.tar.gz (183 kB)\n",
      "  Preparing metadata (setup.py): started\n",
      "  Preparing metadata (setup.py): finished with status 'error'\n",
      "  Using cached PyICU-1.9.7.tar.gz (183 kB)\n",
      "  Preparing metadata (setup.py): started\n",
      "  Preparing metadata (setup.py): finished with status 'error'\n",
      "  Using cached PyICU-1.9.6.tar.gz (183 kB)\n",
      "  Preparing metadata (setup.py): started\n",
      "  Preparing metadata (setup.py): finished with status 'error'\n",
      "  Using cached PyICU-1.9.5.tar.gz (181 kB)\n",
      "  Preparing metadata (setup.py): started\n",
      "  Preparing metadata (setup.py): finished with status 'error'\n",
      "  Using cached PyICU-1.9.4.tar.gz (181 kB)\n",
      "  Preparing metadata (setup.py): started\n",
      "  Preparing metadata (setup.py): finished with status 'done'\n",
      "Building wheels for collected packages: pycld2, PyICU\n",
      "  Building wheel for pycld2 (setup.py): started\n",
      "  Building wheel for pycld2 (setup.py): finished with status 'error'\n",
      "  Running setup.py clean for pycld2\n",
      "  Building wheel for PyICU (setup.py): started\n",
      "  Building wheel for PyICU (setup.py): finished with status 'error'\n",
      "  Running setup.py clean for PyICU\n",
      "Failed to build pycld2 PyICU\n",
      "Installing collected packages: PyICU, pycld2, morfessor, futures, polyglot\n",
      "    Running setup.py install for PyICU: started\n",
      "    Running setup.py install for PyICU: finished with status 'error'\n"
     ]
    },
    {
     "name": "stderr",
     "output_type": "stream",
     "text": [
      "\n",
      "    File \"c:\\users\\chacha tech\\anaconda3\\lib\\subprocess.py\", line 489, in run\n",
      "      with Popen(*popenargs, **kwargs) as process:\n",
      "    File \"c:\\users\\chacha tech\\anaconda3\\lib\\subprocess.py\", line 854, in __init__\n",
      "      self._execute_child(args, executable, preexec_fn, close_fds,\n",
      "    File \"c:\\users\\chacha tech\\anaconda3\\lib\\subprocess.py\", line 1307, in _execute_child\n",
      "      hp, ht, pid, tid = _winapi.CreateProcess(executable, args,\n",
      "  FileNotFoundError: [WinError 2] The system cannot find the file specified\n",
      "  \n",
      "  During handling of the above exception, another exception occurred:\n",
      "  \n",
      "  Traceback (most recent call last):\n",
      "    File \"C:\\Users\\Chacha Tech\\AppData\\Local\\Temp\\pip-install-y5319pc0\\pyicu_90e6b380b190438ab78bb71c0ba56307\\setup.py\", line 69, in <module>\n",
      "      ICU_VERSION = check_output(('pkg-config', '--modversion', 'icu-i18n')).strip()\n",
      "    File \"C:\\Users\\Chacha Tech\\AppData\\Local\\Temp\\pip-install-y5319pc0\\pyicu_90e6b380b190438ab78bb71c0ba56307\\setup.py\", line 19, in check_output\n",
      "      return subprocess_check_output(popenargs)\n",
      "    File \"c:\\users\\chacha tech\\anaconda3\\lib\\subprocess.py\", line 411, in check_output\n",
      "      return run(*popenargs, stdout=PIPE, timeout=timeout, check=True,\n",
      "    File \"c:\\users\\chacha tech\\anaconda3\\lib\\subprocess.py\", line 489, in run\n",
      "      with Popen(*popenargs, **kwargs) as process:\n",
      "    File \"c:\\users\\chacha tech\\anaconda3\\lib\\subprocess.py\", line 854, in __init__\n",
      "      self._execute_child(args, executable, preexec_fn, close_fds,\n",
      "    File \"c:\\users\\chacha tech\\anaconda3\\lib\\subprocess.py\", line 1307, in _execute_child\n",
      "      hp, ht, pid, tid = _winapi.CreateProcess(executable, args,\n",
      "  FileNotFoundError: [WinError 2] The system cannot find the file specified\n",
      "  \n",
      "  During handling of the above exception, another exception occurred:\n",
      "  \n",
      "  Traceback (most recent call last):\n",
      "    File \"<string>\", line 1, in <module>\n",
      "    File \"C:\\Users\\Chacha Tech\\AppData\\Local\\Temp\\pip-install-y5319pc0\\pyicu_90e6b380b190438ab78bb71c0ba56307\\setup.py\", line 71, in <module>\n",
      "      raise RuntimeError('''\n",
      "  RuntimeError:\n",
      "  Please install pkg-config on your system or set the ICU_VERSION environment\n",
      "  variable to the version of ICU you have installed.\n",
      "  \n",
      "  (running 'icu-config --version')\n",
      "  (running 'pkg-config --modversion icu-i18n')\n",
      "  ----------------------------------------\n",
      "WARNING: Discarding https://files.pythonhosted.org/packages/76/5d/6318f86c81665ddccc4a14408525297aec0c73a71a14994a3cbf822aef2a/PyICU-2.7.1.tar.gz#sha256=23191ec5cae0cf6172f84d3d06010d5c348b8d4d5428edbed4f817beecff2642 (from https://pypi.org/simple/pyicu/). Command errored out with exit status 1: python setup.py egg_info Check the logs for full command output.\n",
      "  ERROR: Command errored out with exit status 1:\n",
      "   command: 'c:\\users\\chacha tech\\anaconda3\\python.exe' -c 'import io, os, sys, setuptools, tokenize; sys.argv[0] = '\"'\"'C:\\\\Users\\\\Chacha Tech\\\\AppData\\\\Local\\\\Temp\\\\pip-install-y5319pc0\\\\pyicu_d053e8377da94abcb2bf5ac9037f3429\\\\setup.py'\"'\"'; __file__='\"'\"'C:\\\\Users\\\\Chacha Tech\\\\AppData\\\\Local\\\\Temp\\\\pip-install-y5319pc0\\\\pyicu_d053e8377da94abcb2bf5ac9037f3429\\\\setup.py'\"'\"';f = getattr(tokenize, '\"'\"'open'\"'\"', open)(__file__) if os.path.exists(__file__) else io.StringIO('\"'\"'from setuptools import setup; setup()'\"'\"');code = f.read().replace('\"'\"'\\r\\n'\"'\"', '\"'\"'\\n'\"'\"');f.close();exec(compile(code, __file__, '\"'\"'exec'\"'\"'))' egg_info --egg-base 'C:\\Users\\Chacha Tech\\AppData\\Local\\Temp\\pip-pip-egg-info-vhoa6kk9'\n",
      "       cwd: C:\\Users\\Chacha Tech\\AppData\\Local\\Temp\\pip-install-y5319pc0\\pyicu_d053e8377da94abcb2bf5ac9037f3429\\\n",
      "  Complete output (53 lines):\n",
      "  Traceback (most recent call last):\n",
      "    File \"C:\\Users\\Chacha Tech\\AppData\\Local\\Temp\\pip-install-y5319pc0\\pyicu_d053e8377da94abcb2bf5ac9037f3429\\setup.py\", line 63, in <module>\n",
      "      ICU_VERSION = os.environ['ICU_VERSION']\n",
      "    File \"c:\\users\\chacha tech\\anaconda3\\lib\\os.py\", line 675, in __getitem__\n",
      "      raise KeyError(key) from None\n",
      "  KeyError: 'ICU_VERSION'\n",
      "  \n",
      "  During handling of the above exception, another exception occurred:\n",
      "  \n",
      "  Traceback (most recent call last):\n",
      "    File \"C:\\Users\\Chacha Tech\\AppData\\Local\\Temp\\pip-install-y5319pc0\\pyicu_d053e8377da94abcb2bf5ac9037f3429\\setup.py\", line 66, in <module>\n",
      "      ICU_VERSION = check_output(('icu-config', '--version')).strip()\n",
      "    File \"C:\\Users\\Chacha Tech\\AppData\\Local\\Temp\\pip-install-y5319pc0\\pyicu_d053e8377da94abcb2bf5ac9037f3429\\setup.py\", line 19, in check_output\n",
      "      return subprocess_check_output(popenargs)\n",
      "    File \"c:\\users\\chacha tech\\anaconda3\\lib\\subprocess.py\", line 411, in check_output\n",
      "      return run(*popenargs, stdout=PIPE, timeout=timeout, check=True,\n",
      "    File \"c:\\users\\chacha tech\\anaconda3\\lib\\subprocess.py\", line 489, in run"
     ]
    }
   ],
   "source": [
    "!pip install polyglot"
   ]
  },
  {
   "cell_type": "code",
   "execution_count": 56,
   "metadata": {},
   "outputs": [
    {
     "name": "stderr",
     "output_type": "stream",
     "text": [
      "\n",
      "      with Popen(*popenargs, **kwargs) as process:\n",
      "    File \"c:\\users\\chacha tech\\anaconda3\\lib\\subprocess.py\", line 854, in __init__\n",
      "      self._execute_child(args, executable, preexec_fn, close_fds,\n",
      "    File \"c:\\users\\chacha tech\\anaconda3\\lib\\subprocess.py\", line 1307, in _execute_child\n",
      "      hp, ht, pid, tid = _winapi.CreateProcess(executable, args,\n",
      "  FileNotFoundError: [WinError 2] The system cannot find the file specified\n",
      "  \n",
      "  During handling of the above exception, another exception occurred:\n",
      "  \n",
      "  Traceback (most recent call last):\n",
      "    File \"C:\\Users\\Chacha Tech\\AppData\\Local\\Temp\\pip-install-y5319pc0\\pyicu_d053e8377da94abcb2bf5ac9037f3429\\setup.py\", line 69, in <module>\n",
      "      ICU_VERSION = check_output(('pkg-config', '--modversion', 'icu-i18n')).strip()\n",
      "    File \"C:\\Users\\Chacha Tech\\AppData\\Local\\Temp\\pip-install-y5319pc0\\pyicu_d053e8377da94abcb2bf5ac9037f3429\\setup.py\", line 19, in check_output\n",
      "      return subprocess_check_output(popenargs)\n",
      "    File \"c:\\users\\chacha tech\\anaconda3\\lib\\subprocess.py\", line 411, in check_output\n",
      "      return run(*popenargs, stdout=PIPE, timeout=timeout, check=True,\n",
      "    File \"c:\\users\\chacha tech\\anaconda3\\lib\\subprocess.py\", line 489, in run\n",
      "      with Popen(*popenargs, **kwargs) as process:\n",
      "    File \"c:\\users\\chacha tech\\anaconda3\\lib\\subprocess.py\", line 854, in __init__\n",
      "      self._execute_child(args, executable, preexec_fn, close_fds,\n",
      "    File \"c:\\users\\chacha tech\\anaconda3\\lib\\subprocess.py\", line 1307, in _execute_child\n",
      "      hp, ht, pid, tid = _winapi.CreateProcess(executable, args,\n",
      "  FileNotFoundError: [WinError 2] The system cannot find the file specified\n",
      "  \n",
      "  During handling of the above exception, another exception occurred:\n",
      "  \n",
      "  Traceback (most recent call last):\n",
      "    File \"<string>\", line 1, in <module>\n",
      "    File \"C:\\Users\\Chacha Tech\\AppData\\Local\\Temp\\pip-install-y5319pc0\\pyicu_d053e8377da94abcb2bf5ac9037f3429\\setup.py\", line 71, in <module>\n",
      "      raise RuntimeError('''\n",
      "  RuntimeError:\n",
      "  Please install pkg-config on your system or set the ICU_VERSION environment\n",
      "  variable to the version of ICU you have installed.\n",
      "  \n",
      "  (running 'icu-config --version')\n",
      "  (running 'pkg-config --modversion icu-i18n')\n",
      "  ----------------------------------------\n",
      "WARNING: Discarding https://files.pythonhosted.org/packages/3c/67/c5414fbeeb65d627ea15928b821a39ad42e9ff355cb3b63898b8020f503c/PyICU-2.7.tar.gz#sha256=56a0aae5f69e1191b0f466bde29f72374caadc8fa966a44ec07429afe5f68cd1 (from https://pypi.org/simple/pyicu/). Command errored out with exit status 1: python setup.py egg_info Check the logs for full command output.\n",
      "  ERROR: Command errored out with exit status 1:\n",
      "   command: 'c:\\users\\chacha tech\\anaconda3\\python.exe' -c 'import io, os, sys, setuptools, tokenize; sys.argv[0] = '\"'\"'C:\\\\Users\\\\Chacha Tech\\\\AppData\\\\Local\\\\Temp\\\\pip-install-y5319pc0\\\\pyicu_585e8c4a718b4227b133ca116b680847\\\\setup.py'\"'\"'; __file__='\"'\"'C:\\\\Users\\\\Chacha Tech\\\\AppData\\\\Local\\\\Temp\\\\pip-install-y5319pc0\\\\pyicu_585e8c4a718b4227b133ca116b680847\\\\setup.py'\"'\"';f = getattr(tokenize, '\"'\"'open'\"'\"', open)(__file__) if os.path.exists(__file__) else io.StringIO('\"'\"'from setuptools import setup; setup()'\"'\"');code = f.read().replace('\"'\"'\\r\\n'\"'\"', '\"'\"'\\n'\"'\"');f.close();exec(compile(code, __file__, '\"'\"'exec'\"'\"'))' egg_info --egg-base 'C:\\Users\\Chacha Tech\\AppData\\Local\\Temp\\pip-pip-egg-info-e9ixz3qf'\n",
      "       cwd: C:\\Users\\Chacha Tech\\AppData\\Local\\Temp\\pip-install-y5319pc0\\pyicu_585e8c4a718b4227b133ca116b680847\\\n",
      "  Complete output (53 lines):\n",
      "  Traceback (most recent call last):\n",
      "    File \"C:\\Users\\Chacha Tech\\AppData\\Local\\Temp\\pip-install-y5319pc0\\pyicu_585e8c4a718b4227b133ca116b680847\\setup.py\", line 63, in <module>\n",
      "      ICU_VERSION = os.environ['ICU_VERSION']\n",
      "    File \"c:\\users\\chacha tech\\anaconda3\\lib\\os.py\", line 675, in __getitem__\n",
      "      raise KeyError(key) from None\n",
      "  KeyError: 'ICU_VERSION'\n",
      "  \n",
      "  During handling of the above exception, another exception occurred:\n",
      "  \n",
      "  Traceback (most recent call last):\n",
      "    File \"C:\\Users\\Chacha Tech\\AppData\\Local\\Temp\\pip-install-y5319pc0\\pyicu_585e8c4a718b4227b133ca116b680847\\setup.py\", line 66, in <module>\n",
      "      ICU_VERSION = check_output(('icu-config', '--version')).strip()\n",
      "    File \"C:\\Users\\Chacha Tech\\AppData\\Local\\Temp\\pip-install-y5319pc0\\pyicu_585e8c4a718b4227b133ca116b680847\\setup.py\", line 19, in check_output\n",
      "      return subprocess_check_output(popenargs)\n",
      "    File \"c:\\users\\chacha tech\\anaconda3\\lib\\subprocess.py\", line 411, in check_output\n",
      "      return run(*popenargs, stdout=PIPE, timeout=timeout, check=True,\n",
      "    File \"c:\\users\\chacha tech\\anaconda3\\lib\\subprocess.py\", line 489, in run\n",
      "      with Popen(*popenargs, **kwargs) as process:\n",
      "    File \"c:\\users\\chacha tech\\anaconda3\\lib\\subprocess.py\", line 854, in __init__\n",
      "      self._execute_child(args, executable, preexec_fn, close_fds,\n",
      "    File \"c:\\users\\chacha tech\\anaconda3\\lib\\subprocess.py\", line 1307, in _execute_child\n",
      "      hp, ht, pid, tid = _winapi.CreateProcess(executable, args,\n",
      "  FileNotFoundError: [WinError 2] The system cannot find the file specified\n",
      "  \n",
      "  During handling of the above exception, another exception occurred:\n",
      "  \n",
      "  Traceback (most recent call last):\n",
      "    File \"C:\\Users\\Chacha Tech\\AppData\\Local\\Temp\\pip-install-y5319pc0\\pyicu_585e8c4a718b4227b133ca116b680847\\setup.py\", line 69, in <module>\n",
      "      ICU_VERSION = check_output(('pkg-config', '--modversion', 'icu-i18n')).strip()\n",
      "    File \"C:\\Users\\Chacha Tech\\AppData\\Local\\Temp\\pip-install-y5319pc0\\pyicu_585e8c4a718b4227b133ca116b680847\\setup.py\", line 19, in check_output\n",
      "      return subprocess_check_output(popenargs)\n",
      "    File \"c:\\users\\chacha tech\\anaconda3\\lib\\subprocess.py\", line 411, in check_output\n",
      "      return run(*popenargs, stdout=PIPE, timeout=timeout, check=True,\n",
      "    File \"c:\\users\\chacha tech\\anaconda3\\lib\\subprocess.py\", line 489, in run\n",
      "      with Popen(*popenargs, **kwargs) as process:\n",
      "    File \"c:\\users\\chacha tech\\anaconda3\\lib\\subprocess.py\", line 854, in __init__\n",
      "      self._execute_child(args, executable, preexec_fn, close_fds,\n",
      "    File \"c:\\users\\chacha tech\\anaconda3\\lib\\subprocess.py\", line 1307, in _execute_child\n",
      "      hp, ht, pid, tid = _winapi.CreateProcess(executable, args,\n",
      "  FileNotFoundError: [WinError 2] The system cannot find the file specified\n",
      "  \n",
      "  During handling of the above exception, another exception occurred:\n",
      "  \n",
      "  Traceback (most recent call last):\n",
      "    File \"<string>\", line 1, in <module>\n",
      "    File \"C:\\Users\\Chacha Tech\\AppData\\Local\\Temp\\pip-install-y5319pc0\\pyicu_585e8c4a718b4227b133ca116b680847\\setup.py\", line 71, in <module>\n",
      "      raise RuntimeError('''\n",
      "  RuntimeError:\n",
      "  Please install pkg-config on your system or set the ICU_VERSION environment\n",
      "  variable to the version of ICU you have installed.\n",
      "  \n",
      "  (running 'icu-config --version')\n",
      "  (running 'pkg-config --modversion icu-i18n')\n",
      "  ----------------------------------------\n",
      "WARNING: Discarding https://files.pythonhosted.org/packages/31/46/fa08c8efae2951e67681ec24319f789fc1a74e2096dd74373e34c79319de/PyICU-2.6.tar.gz#sha256=a9a5bf6833360f8f69e9375b91c1a7dd6e0c9157a42aee5bb7d6891804d96371 (from https://pypi.org/simple/pyicu/). Command errored out with exit status 1: python setup.py egg_info Check the logs for full command output.\n",
      "  ERROR: Command errored out with exit status 1:\n",
      "   command: 'c:\\users\\chacha tech\\anaconda3\\python.exe' -c 'import io, os, sys, setuptools, tokenize; sys.argv[0] = '\"'\"'C:\\\\Users\\\\Chacha Tech\\\\AppData\\\\Local\\\\Temp\\\\pip-install-y5319pc0\\\\pyicu_1275451fb24240e8bd6e4d2a4fe3a817\\\\setup.py'\"'\"'; __file__='\"'\"'C:\\\\Users\\\\Chacha Tech\\\\AppData\\\\Local\\\\Temp\\\\pip-install-y5319pc0\\\\pyicu_1275451fb24240e8bd6e4d2a4fe3a817\\\\setup.py'\"'\"';f = getattr(tokenize, '\"'\"'open'\"'\"', open)(__file__) if os.path.exists(__file__) else io.StringIO('\"'\"'from setuptools import setup; setup()'\"'\"');code = f.read().replace('\"'\"'\\r\\n'\"'\"', '\"'\"'\\n'\"'\"');f.close();exec(compile(code, __file__, '\"'\"'exec'\"'\"'))' egg_info --egg-base 'C:\\Users\\Chacha Tech\\AppData\\Local\\Temp\\pip-pip-egg-info-k0r0yhj6'\n",
      "       cwd: C:\\Users\\Chacha Tech\\AppData\\Local\\Temp\\pip-install-y5319pc0\\pyicu_1275451fb24240e8bd6e4d2a4fe3a817\\\n",
      "  Complete output (53 lines):\n",
      "  Traceback (most recent call last):\n",
      "    File \"C:\\Users\\Chacha Tech\\AppData\\Local\\Temp\\pip-install-y5319pc0\\pyicu_1275451fb24240e8bd6e4d2a4fe3a817\\setup.py\", line 63, in <module>\n",
      "      ICU_VERSION = os.environ['ICU_VERSION']\n",
      "    File \"c:\\users\\chacha tech\\anaconda3\\lib\\os.py\", line 675, in __getitem__\n",
      "      raise KeyError(key) from None\n",
      "  KeyError: 'ICU_VERSION'\n",
      "  \n",
      "  During handling of the above exception, another exception occurred:\n",
      "  \n",
      "  Traceback (most recent call last):\n",
      "    File \"C:\\Users\\Chacha Tech\\AppData\\Local\\Temp\\pip-install-y5319pc0\\pyicu_1275451fb24240e8bd6e4d2a4fe3a817\\setup.py\", line 66, in <module>\n",
      "      ICU_VERSION = check_output(('icu-config', '--version')).strip()\n",
      "    File \"C:\\Users\\Chacha Tech\\AppData\\Local\\Temp\\pip-install-y5319pc0\\pyicu_1275451fb24240e8bd6e4d2a4fe3a817\\setup.py\", line 19, in check_output\n",
      "      return subprocess_check_output(popenargs)\n",
      "    File \"c:\\users\\chacha tech\\anaconda3\\lib\\subprocess.py\", line 411, in check_output\n",
      "      return run(*popenargs, stdout=PIPE, timeout=timeout, check=True,\n",
      "    File \"c:\\users\\chacha tech\\anaconda3\\lib\\subprocess.py\", line 489, in run\n",
      "      with Popen(*popenargs, **kwargs) as process:\n",
      "    File \"c:\\users\\chacha tech\\anaconda3\\lib\\subprocess.py\", line 854, in __init__\n",
      "      self._execute_child(args, executable, preexec_fn, close_fds,\n",
      "    File \"c:\\users\\chacha tech\\anaconda3\\lib\\subprocess.py\", line 1307, in _execute_child\n",
      "      hp, ht, pid, tid = _winapi.CreateProcess(executable, args,\n",
      "  FileNotFoundError: [WinError 2] The system cannot find the file specified\n",
      "  \n",
      "  During handling of the above exception, another exception occurred:\n",
      "  \n",
      "  Traceback (most recent call last):\n",
      "    File \"C:\\Users\\Chacha Tech\\AppData\\Local\\Temp\\pip-install-y5319pc0\\pyicu_1275451fb24240e8bd6e4d2a4fe3a817\\setup.py\", line 69, in <module>\n",
      "      ICU_VERSION = check_output(('pkg-config', '--modversion', 'icu-i18n')).strip()\n",
      "    File \"C:\\Users\\Chacha Tech\\AppData\\Local\\Temp\\pip-install-y5319pc0\\pyicu_1275451fb24240e8bd6e4d2a4fe3a817\\setup.py\", line 19, in check_output\n",
      "      return subprocess_check_output(popenargs)\n",
      "    File \"c:\\users\\chacha tech\\anaconda3\\lib\\subprocess.py\", line 411, in check_output\n",
      "      return run(*popenargs, stdout=PIPE, timeout=timeout, check=True,\n",
      "    File \"c:\\users\\chacha tech\\anaconda3\\lib\\subprocess.py\", line 489, in run\n",
      "      with Popen(*popenargs, **kwargs) as process:\n",
      "    File \"c:\\users\\chacha tech\\anaconda3\\lib\\subprocess.py\", line 854, in __init__\n",
      "      self._execute_child(args, executable, preexec_fn, close_fds,\n",
      "    File \"c:\\users\\chacha tech\\anaconda3\\lib\\subprocess.py\", line 1307, in _execute_child\n",
      "      hp, ht, pid, tid = _winapi.CreateProcess(executable, args,\n",
      "  FileNotFoundError: [WinError 2] The system cannot find the file specified\n",
      "  \n",
      "  During handling of the above exception, another exception occurred:\n",
      "  \n",
      "  Traceback (most recent call last):\n",
      "    File \"<string>\", line 1, in <module>\n",
      "    File \"C:\\Users\\Chacha Tech\\AppData\\Local\\Temp\\pip-install-y5319pc0\\pyicu_1275451fb24240e8bd6e4d2a4fe3a817\\setup.py\", line 71, in <module>\n",
      "      raise RuntimeError('''\n",
      "  RuntimeError:\n",
      "  Please install pkg-config on your system or set the ICU_VERSION environment\n",
      "  variable to the version of ICU you have installed.\n",
      "  \n",
      "  (running 'icu-config --version')\n",
      "  (running 'pkg-config --modversion icu-i18n')\n",
      "  ----------------------------------------\n",
      "WARNING: Discarding https://files.pythonhosted.org/packages/5a/99/c48c816095208bf3f4936ff67e571621fbddef461303a35a076f234e31f6/PyICU-2.5.tar.gz#sha256=a120b68c53f769f37bfb70b7e84ca12c3f4ab1e4df43e87a02dff05ae472cdbc (from https://pypi.org/simple/pyicu/). Command errored out with exit status 1: python setup.py egg_info Check the logs for full command output.\n",
      "  ERROR: Command errored out with exit status 1:\n",
      "   command: 'c:\\users\\chacha tech\\anaconda3\\python.exe' -c 'import io, os, sys, setuptools, tokenize; sys.argv[0] = '\"'\"'C:\\\\Users\\\\Chacha Tech\\\\AppData\\\\Local\\\\Temp\\\\pip-install-y5319pc0\\\\pyicu_6442c26d83ac4a1ea8b31c1fd14fe471\\\\setup.py'\"'\"'; __file__='\"'\"'C:\\\\Users\\\\Chacha Tech\\\\AppData\\\\Local\\\\Temp\\\\pip-install-y5319pc0\\\\pyicu_6442c26d83ac4a1ea8b31c1fd14fe471\\\\setup.py'\"'\"';f = getattr(tokenize, '\"'\"'open'\"'\"', open)(__file__) if os.path.exists(__file__) else io.StringIO('\"'\"'from setuptools import setup; setup()'\"'\"');code = f.read().replace('\"'\"'\\r\\n'\"'\"', '\"'\"'\\n'\"'\"');f.close();exec(compile(code, __file__, '\"'\"'exec'\"'\"'))' egg_info --egg-base 'C:\\Users\\Chacha Tech\\AppData\\Local\\Temp\\pip-pip-egg-info-7ea385my'\n",
      "       cwd: C:\\Users\\Chacha Tech\\AppData\\Local\\Temp\\pip-install-y5319pc0\\pyicu_6442c26d83ac4a1ea8b31c1fd14fe471\\\n",
      "  Complete output (53 lines):\n",
      "  Traceback (most recent call last):\n",
      "    File \"C:\\Users\\Chacha Tech\\AppData\\Local\\Temp\\pip-install-y5319pc0\\pyicu_6442c26d83ac4a1ea8b31c1fd14fe471\\setup.py\", line 62, in <module>\n",
      "      ICU_VERSION = os.environ['ICU_VERSION']\n",
      "    File \"c:\\users\\chacha tech\\anaconda3\\lib\\os.py\", line 675, in __getitem__\n",
      "      raise KeyError(key) from None\n",
      "  KeyError: 'ICU_VERSION'\n",
      "  \n",
      "  During handling of the above exception, another exception occurred:\n",
      "  \n",
      "  Traceback (most recent call last):\n",
      "    File \"C:\\Users\\Chacha Tech\\AppData\\Local\\Temp\\pip-install-y5319pc0\\pyicu_6442c26d83ac4a1ea8b31c1fd14fe471\\setup.py\", line 65, in <module>\n",
      "      ICU_VERSION = check_output(('icu-config', '--version')).strip()\n",
      "    File \"C:\\Users\\Chacha Tech\\AppData\\Local\\Temp\\pip-install-y5319pc0\\pyicu_6442c26d83ac4a1ea8b31c1fd14fe471\\setup.py\", line 18, in check_output\n",
      "      return subprocess_check_output(popenargs)\n",
      "    File \"c:\\users\\chacha tech\\anaconda3\\lib\\subprocess.py\", line 411, in check_output\n",
      "      return run(*popenargs, stdout=PIPE, timeout=timeout, check=True,\n",
      "    File \"c:\\users\\chacha tech\\anaconda3\\lib\\subprocess.py\", line 489, in run\n",
      "      with Popen(*popenargs, **kwargs) as process:\n",
      "    File \"c:\\users\\chacha tech\\anaconda3\\lib\\subprocess.py\", line 854, in __init__\n",
      "      self._execute_child(args, executable, preexec_fn, close_fds,\n",
      "    File \"c:\\users\\chacha tech\\anaconda3\\lib\\subprocess.py\", line 1307, in _execute_child\n",
      "      hp, ht, pid, tid = _winapi.CreateProcess(executable, args,\n",
      "  FileNotFoundError: [WinError 2] The system cannot find the file specified\n",
      "  \n",
      "  During handling of the above exception, another exception occurred:\n",
      "  \n",
      "  Traceback (most recent call last):\n",
      "    File \"C:\\Users\\Chacha Tech\\AppData\\Local\\Temp\\pip-install-y5319pc0\\pyicu_6442c26d83ac4a1ea8b31c1fd14fe471\\setup.py\", line 68, in <module>\n",
      "      ICU_VERSION = check_output(('pkg-config', '--modversion', 'icu-i18n')).strip()\n",
      "    File \"C:\\Users\\Chacha Tech\\AppData\\Local\\Temp\\pip-install-y5319pc0\\pyicu_6442c26d83ac4a1ea8b31c1fd14fe471\\setup.py\", line 18, in check_output\n",
      "      return subprocess_check_output(popenargs)\n",
      "    File \"c:\\users\\chacha tech\\anaconda3\\lib\\subprocess.py\", line 411, in check_output\n",
      "      return run(*popenargs, stdout=PIPE, timeout=timeout, check=True,\n",
      "    File \"c:\\users\\chacha tech\\anaconda3\\lib\\subprocess.py\", line 489, in run\n",
      "      with Popen(*popenargs, **kwargs) as process:\n",
      "    File \"c:\\users\\chacha tech\\anaconda3\\lib\\subprocess.py\", line 854, in __init__\n",
      "      self._execute_child(args, executable, preexec_fn, close_fds,\n",
      "    File \"c:\\users\\chacha tech\\anaconda3\\lib\\subprocess.py\", line 1307, in _execute_child\n",
      "      hp, ht, pid, tid = _winapi.CreateProcess(executable, args,\n",
      "  FileNotFoundError: [WinError 2] The system cannot find the file specified\n",
      "  \n",
      "  During handling of the above exception, another exception occurred:\n",
      "  \n",
      "  Traceback (most recent call last):\n",
      "    File \"<string>\", line 1, in <module>\n",
      "    File \"C:\\Users\\Chacha Tech\\AppData\\Local\\Temp\\pip-install-y5319pc0\\pyicu_6442c26d83ac4a1ea8b31c1fd14fe471\\setup.py\", line 70, in <module>\n",
      "      raise RuntimeError('''\n",
      "  RuntimeError:\n",
      "  Please install pkg-config on your system or set the ICU_VERSION environment\n",
      "  variable to the version of ICU you have installed.\n",
      "  \n",
      "  (running 'icu-config --version')\n",
      "  (running 'pkg-config --modversion icu-i18n')\n",
      "  ----------------------------------------\n",
      "WARNING: Discarding https://files.pythonhosted.org/packages/57/b2/66a58057a537527d7307576f2d32f239cc411b911401276d6922caa94755/PyICU-2.4.3.tar.gz#sha256=c0ca7741ad0e8b20781578a876dac0357b982b7762ccc2aae116f0b18ce1ab1c (from https://pypi.org/simple/pyicu/). Command errored out with exit status 1: python setup.py egg_info Check the logs for full command output.\n",
      "  ERROR: Command errored out with exit status 1:\n",
      "   command: 'c:\\users\\chacha tech\\anaconda3\\python.exe' -c 'import io, os, sys, setuptools, tokenize; sys.argv[0] = '\"'\"'C:\\\\Users\\\\Chacha Tech\\\\AppData\\\\Local\\\\Temp\\\\pip-install-y5319pc0\\\\pyicu_8b1e5d384cb8419785a8a010bfccb00e\\\\setup.py'\"'\"'; __file__='\"'\"'C:\\\\Users\\\\Chacha Tech\\\\AppData\\\\Local\\\\Temp\\\\pip-install-y5319pc0\\\\pyicu_8b1e5d384cb8419785a8a010bfccb00e\\\\setup.py'\"'\"';f = getattr(tokenize, '\"'\"'open'\"'\"', open)(__file__) if os.path.exists(__file__) else io.StringIO('\"'\"'from setuptools import setup; setup()'\"'\"');code = f.read().replace('\"'\"'\\r\\n'\"'\"', '\"'\"'\\n'\"'\"');f.close();exec(compile(code, __file__, '\"'\"'exec'\"'\"'))' egg_info --egg-base 'C:\\Users\\Chacha Tech\\AppData\\Local\\Temp\\pip-pip-egg-info-r0b0oc2g'\n",
      "       cwd: C:\\Users\\Chacha Tech\\AppData\\Local\\Temp\\pip-install-y5319pc0\\pyicu_8b1e5d384cb8419785a8a010bfccb00e\\\n",
      "  Complete output (53 lines):\n",
      "  Traceback (most recent call last):\n",
      "    File \"C:\\Users\\Chacha Tech\\AppData\\Local\\Temp\\pip-install-y5319pc0\\pyicu_8b1e5d384cb8419785a8a010bfccb00e\\setup.py\", line 62, in <module>\n",
      "      ICU_VERSION = os.environ['ICU_VERSION']\n",
      "    File \"c:\\users\\chacha tech\\anaconda3\\lib\\os.py\", line 675, in __getitem__\n",
      "      raise KeyError(key) from None\n",
      "  KeyError: 'ICU_VERSION'\n",
      "  \n",
      "  During handling of the above exception, another exception occurred:\n",
      "  \n",
      "  Traceback (most recent call last):\n",
      "    File \"C:\\Users\\Chacha Tech\\AppData\\Local\\Temp\\pip-install-y5319pc0\\pyicu_8b1e5d384cb8419785a8a010bfccb00e\\setup.py\", line 65, in <module>\n",
      "      ICU_VERSION = check_output(('icu-config', '--version')).strip()\n",
      "    File \"C:\\Users\\Chacha Tech\\AppData\\Local\\Temp\\pip-install-y5319pc0\\pyicu_8b1e5d384cb8419785a8a010bfccb00e\\setup.py\", line 18, in check_output\n",
      "      return subprocess_check_output(popenargs)\n",
      "    File \"c:\\users\\chacha tech\\anaconda3\\lib\\subprocess.py\", line 411, in check_output\n",
      "      return run(*popenargs, stdout=PIPE, timeout=timeout, check=True,\n",
      "    File \"c:\\users\\chacha tech\\anaconda3\\lib\\subprocess.py\", line 489, in run\n",
      "      with Popen(*popenargs, **kwargs) as process:\n",
      "    File \"c:\\users\\chacha tech\\anaconda3\\lib\\subprocess.py\", line 854, in __init__\n",
      "      self._execute_child(args, executable, preexec_fn, close_fds,\n",
      "    File \"c:\\users\\chacha tech\\anaconda3\\lib\\subprocess.py\", line 1307, in _execute_child\n",
      "      hp, ht, pid, tid = _winapi.CreateProcess(executable, args,\n",
      "  FileNotFoundError: [WinError 2] The system cannot find the file specified\n",
      "  \n",
      "  During handling of the above exception, another exception occurred:\n",
      "  \n",
      "  Traceback (most recent call last):\n",
      "    File \"C:\\Users\\Chacha Tech\\AppData\\Local\\Temp\\pip-install-y5319pc0\\pyicu_8b1e5d384cb8419785a8a010bfccb00e\\setup.py\", line 68, in <module>\n",
      "      ICU_VERSION = check_output(('pkg-config', '--modversion', 'icu-i18n')).strip()\n",
      "    File \"C:\\Users\\Chacha Tech\\AppData\\Local\\Temp\\pip-install-y5319pc0\\pyicu_8b1e5d384cb8419785a8a010bfccb00e\\setup.py\", line 18, in check_output\n",
      "      return subprocess_check_output(popenargs)\n",
      "    File \"c:\\users\\chacha tech\\anaconda3\\lib\\subprocess.py\", line 411, in check_output\n",
      "      return run(*popenargs, stdout=PIPE, timeout=timeout, check=True,\n",
      "    File \"c:\\users\\chacha tech\\anaconda3\\lib\\subprocess.py\", line 489, in run\n",
      "      with Popen(*popenargs, **kwargs) as process:\n",
      "    File \"c:\\users\\chacha tech\\anaconda3\\lib\\subprocess.py\", line 854, in __init__\n",
      "      self._execute_child(args, executable, preexec_fn, close_fds,\n",
      "    File \"c:\\users\\chacha tech\\anaconda3\\lib\\subprocess.py\", line 1307, in _execute_child\n",
      "      hp, ht, pid, tid = _winapi.CreateProcess(executable, args,\n",
      "  FileNotFoundError: [WinError 2] The system cannot find the file specified\n",
      "  \n",
      "  During handling of the above exception, another exception occurred:\n",
      "  \n",
      "  Traceback (most recent call last):\n",
      "    File \"<string>\", line 1, in <module>\n",
      "    File \"C:\\Users\\Chacha Tech\\AppData\\Local\\Temp\\pip-install-y5319pc0\\pyicu_8b1e5d384cb8419785a8a010bfccb00e\\setup.py\", line 70, in <module>\n",
      "      raise RuntimeError('''\n",
      "  RuntimeError:\n",
      "  Please install pkg-config on your system or set the ICU_VERSION environment\n",
      "  variable to the version of ICU you have installed.\n",
      "  \n",
      "  (running 'icu-config --version')\n",
      "  (running 'pkg-config --modversion icu-i18n')\n",
      "  ----------------------------------------\n",
      "WARNING: Discarding https://files.pythonhosted.org/packages/95/0c/0fb09019efb65a29789ec5538f8e521b8f548da6935a3a474e19fbf2ea4d/PyICU-2.4.2.tar.gz#sha256=48c43424b67090c4028d8743132d141d8477f390f93e26c2cb67c26485622c20 (from https://pypi.org/simple/pyicu/). Command errored out with exit status 1: python setup.py egg_info Check the logs for full command output.\n",
      "  ERROR: Command errored out with exit status 1:\n",
      "   command: 'c:\\users\\chacha tech\\anaconda3\\python.exe' -c 'import io, os, sys, setuptools, tokenize; sys.argv[0] = '\"'\"'C:\\\\Users\\\\Chacha Tech\\\\AppData\\\\Local\\\\Temp\\\\pip-install-y5319pc0\\\\pyicu_572ba9195be44147bc831ad15d6e83cb\\\\setup.py'\"'\"'; __file__='\"'\"'C:\\\\Users\\\\Chacha Tech\\\\AppData\\\\Local\\\\Temp\\\\pip-install-y5319pc0\\\\pyicu_572ba9195be44147bc831ad15d6e83cb\\\\setup.py'\"'\"';f = getattr(tokenize, '\"'\"'open'\"'\"', open)(__file__) if os.path.exists(__file__) else io.StringIO('\"'\"'from setuptools import setup; setup()'\"'\"');code = f.read().replace('\"'\"'\\r\\n'\"'\"', '\"'\"'\\n'\"'\"');f.close();exec(compile(code, __file__, '\"'\"'exec'\"'\"'))' egg_info --egg-base 'C:\\Users\\Chacha Tech\\AppData\\Local\\Temp\\pip-pip-egg-info-ik_mzveo'\n",
      "       cwd: C:\\Users\\Chacha Tech\\AppData\\Local\\Temp\\pip-install-y5319pc0\\pyicu_572ba9195be44147bc831ad15d6e83cb\\\n",
      "  Complete output (53 lines):\n",
      "  Traceback (most recent call last):\n",
      "    File \"C:\\Users\\Chacha Tech\\AppData\\Local\\Temp\\pip-install-y5319pc0\\pyicu_572ba9195be44147bc831ad15d6e83cb\\setup.py\", line 62, in <module>\n",
      "      ICU_VERSION = os.environ['ICU_VERSION']\n",
      "    File \"c:\\users\\chacha tech\\anaconda3\\lib\\os.py\", line 675, in __getitem__\n",
      "      raise KeyError(key) from None\n",
      "  KeyError: 'ICU_VERSION'\n",
      "  \n",
      "  During handling of the above exception, another exception occurred:\n",
      "  \n",
      "  Traceback (most recent call last):\n",
      "    File \"C:\\Users\\Chacha Tech\\AppData\\Local\\Temp\\pip-install-y5319pc0\\pyicu_572ba9195be44147bc831ad15d6e83cb\\setup.py\", line 65, in <module>\n",
      "      ICU_VERSION = check_output(('icu-config', '--version')).strip()\n",
      "    File \"C:\\Users\\Chacha Tech\\AppData\\Local\\Temp\\pip-install-y5319pc0\\pyicu_572ba9195be44147bc831ad15d6e83cb\\setup.py\", line 18, in check_output\n",
      "      return subprocess_check_output(popenargs)\n",
      "    File \"c:\\users\\chacha tech\\anaconda3\\lib\\subprocess.py\", line 411, in check_output\n",
      "      return run(*popenargs, stdout=PIPE, timeout=timeout, check=True,\n",
      "    File \"c:\\users\\chacha tech\\anaconda3\\lib\\subprocess.py\", line 489, in run\n",
      "      with Popen(*popenargs, **kwargs) as process:\n",
      "    File \"c:\\users\\chacha tech\\anaconda3\\lib\\subprocess.py\", line 854, in __init__\n",
      "      self._execute_child(args, executable, preexec_fn, close_fds,\n",
      "    File \"c:\\users\\chacha tech\\anaconda3\\lib\\subprocess.py\", line 1307, in _execute_child\n",
      "      hp, ht, pid, tid = _winapi.CreateProcess(executable, args,\n",
      "  FileNotFoundError: [WinError 2] The system cannot find the file specified\n",
      "  \n",
      "  During handling of the above exception, another exception occurred:\n",
      "  \n",
      "  Traceback (most recent call last):\n",
      "    File \"C:\\Users\\Chacha Tech\\AppData\\Local\\Temp\\pip-install-y5319pc0\\pyicu_572ba9195be44147bc831ad15d6e83cb\\setup.py\", line 68, in <module>\n",
      "      ICU_VERSION = check_output(('pkg-config', '--modversion', 'icu-i18n')).strip()\n",
      "    File \"C:\\Users\\Chacha Tech\\AppData\\Local\\Temp\\pip-install-y5319pc0\\pyicu_572ba9195be44147bc831ad15d6e83cb\\setup.py\", line 18, in check_output\n",
      "      return subprocess_check_output(popenargs)\n",
      "    File \"c:\\users\\chacha tech\\anaconda3\\lib\\subprocess.py\", line 411, in check_output\n",
      "      return run(*popenargs, stdout=PIPE, timeout=timeout, check=True,\n",
      "    File \"c:\\users\\chacha tech\\anaconda3\\lib\\subprocess.py\", line 489, in run\n",
      "      with Popen(*popenargs, **kwargs) as process:\n",
      "    File \"c:\\users\\chacha tech\\anaconda3\\lib\\subprocess.py\", line 854, in __init__\n",
      "      self._execute_child(args, executable, preexec_fn, close_fds,\n",
      "    File \"c:\\users\\chacha tech\\anaconda3\\lib\\subprocess.py\", line 1307, in _execute_child\n",
      "      hp, ht, pid, tid = _winapi.CreateProcess(executable, args,\n",
      "  FileNotFoundError: [WinError 2] The system cannot find the file specified\n",
      "  \n",
      "  During handling of the above exception, another exception occurred:\n",
      "  \n",
      "  Traceback (most recent call last):\n",
      "    File \"<string>\", line 1, in <module>\n",
      "    File \"C:\\Users\\Chacha Tech\\AppData\\Local\\Temp\\pip-install-y5319pc0\\pyicu_572ba9195be44147bc831ad15d6e83cb\\setup.py\", line 70, in <module>\n",
      "      raise RuntimeError('''\n",
      "  RuntimeError:\n",
      "  Please install pkg-config on your system or set the ICU_VERSION environment\n",
      "  variable to the version of ICU you have installed.\n",
      "  \n",
      "  (running 'icu-config --version')\n",
      "  (running 'pkg-config --modversion icu-i18n')\n",
      "  ----------------------------------------\n",
      "WARNING: Discarding https://files.pythonhosted.org/packages/77/a2/7c22b63c3cab7e41cbf4a930b033f5fc3e47bc5b6b673020f5ba58cecdf2/PyICU-2.4.1.tar.gz#sha256=00727a2d85c6a62ce78846a5f80bfa79bd26c35126f9cc793d269b336fd2ef47 (from https://pypi.org/simple/pyicu/). Command errored out with exit status 1: python setup.py egg_info Check the logs for full command output.\n",
      "  ERROR: Command errored out with exit status 1:\n",
      "   command: 'c:\\users\\chacha tech\\anaconda3\\python.exe' -c 'import io, os, sys, setuptools, tokenize; sys.argv[0] = '\"'\"'C:\\\\Users\\\\Chacha Tech\\\\AppData\\\\Local\\\\Temp\\\\pip-install-y5319pc0\\\\pyicu_fd7c99a1c6ac453f8444ba333799faf9\\\\setup.py'\"'\"'; __file__='\"'\"'C:\\\\Users\\\\Chacha Tech\\\\AppData\\\\Local\\\\Temp\\\\pip-install-y5319pc0\\\\pyicu_fd7c99a1c6ac453f8444ba333799faf9\\\\setup.py'\"'\"';f = getattr(tokenize, '\"'\"'open'\"'\"', open)(__file__) if os.path.exists(__file__) else io.StringIO('\"'\"'from setuptools import setup; setup()'\"'\"');code = f.read().replace('\"'\"'\\r\\n'\"'\"', '\"'\"'\\n'\"'\"');f.close();exec(compile(code, __file__, '\"'\"'exec'\"'\"'))' egg_info --egg-base 'C:\\Users\\Chacha Tech\\AppData\\Local\\Temp\\pip-pip-egg-info-5ktv2tzj'\n",
      "       cwd: C:\\Users\\Chacha Tech\\AppData\\Local\\Temp\\pip-install-y5319pc0\\pyicu_fd7c99a1c6ac453f8444ba333799faf9\\\n",
      "  Complete output (53 lines):\n",
      "  Traceback (most recent call last):\n",
      "    File \"C:\\Users\\Chacha Tech\\AppData\\Local\\Temp\\pip-install-y5319pc0\\pyicu_fd7c99a1c6ac453f8444ba333799faf9\\setup.py\", line 62, in <module>\n",
      "      ICU_VERSION = os.environ['ICU_VERSION']\n",
      "    File \"c:\\users\\chacha tech\\anaconda3\\lib\\os.py\", line 675, in __getitem__\n",
      "      raise KeyError(key) from None\n",
      "  KeyError: 'ICU_VERSION'\n",
      "  \n",
      "  During handling of the above exception, another exception occurred:\n",
      "  \n",
      "  Traceback (most recent call last):\n",
      "    File \"C:\\Users\\Chacha Tech\\AppData\\Local\\Temp\\pip-install-y5319pc0\\pyicu_fd7c99a1c6ac453f8444ba333799faf9\\setup.py\", line 65, in <module>\n",
      "      ICU_VERSION = check_output(('icu-config', '--version')).strip()\n",
      "    File \"C:\\Users\\Chacha Tech\\AppData\\Local\\Temp\\pip-install-y5319pc0\\pyicu_fd7c99a1c6ac453f8444ba333799faf9\\setup.py\", line 18, in check_output\n",
      "      return subprocess_check_output(popenargs)\n",
      "    File \"c:\\users\\chacha tech\\anaconda3\\lib\\subprocess.py\", line 411, in check_output\n",
      "      return run(*popenargs, stdout=PIPE, timeout=timeout, check=True,\n",
      "    File \"c:\\users\\chacha tech\\anaconda3\\lib\\subprocess.py\", line 489, in run\n",
      "      with Popen(*popenargs, **kwargs) as process:\n",
      "    File \"c:\\users\\chacha tech\\anaconda3\\lib\\subprocess.py\", line 854, in __init__\n",
      "      self._execute_child(args, executable, preexec_fn, close_fds,\n",
      "    File \"c:\\users\\chacha tech\\anaconda3\\lib\\subprocess.py\", line 1307, in _execute_child\n",
      "      hp, ht, pid, tid = _winapi.CreateProcess(executable, args,\n",
      "  FileNotFoundError: [WinError 2] The system cannot find the file specified\n",
      "  \n",
      "  During handling of the above exception, another exception occurred:\n",
      "  \n",
      "  Traceback (most recent call last):\n",
      "    File \"C:\\Users\\Chacha Tech\\AppData\\Local\\Temp\\pip-install-y5319pc0\\pyicu_fd7c99a1c6ac453f8444ba333799faf9\\setup.py\", line 68, in <module>\n",
      "      ICU_VERSION = check_output(('pkg-config', '--modversion', 'icu-i18n')).strip()\n",
      "    File \"C:\\Users\\Chacha Tech\\AppData\\Local\\Temp\\pip-install-y5319pc0\\pyicu_fd7c99a1c6ac453f8444ba333799faf9\\setup.py\", line 18, in check_output\n",
      "      return subprocess_check_output(popenargs)\n",
      "    File \"c:\\users\\chacha tech\\anaconda3\\lib\\subprocess.py\", line 411, in check_output\n",
      "      return run(*popenargs, stdout=PIPE, timeout=timeout, check=True,\n",
      "    File \"c:\\users\\chacha tech\\anaconda3\\lib\\subprocess.py\", line 489, in run\n",
      "      with Popen(*popenargs, **kwargs) as process:\n",
      "    File \"c:\\users\\chacha tech\\anaconda3\\lib\\subprocess.py\", line 854, in __init__\n",
      "      self._execute_child(args, executable, preexec_fn, close_fds,\n",
      "    File \"c:\\users\\chacha tech\\anaconda3\\lib\\subprocess.py\", line 1307, in _execute_child\n",
      "      hp, ht, pid, tid = _winapi.CreateProcess(executable, args,\n",
      "  FileNotFoundError: [WinError 2] The system cannot find the file specified\n",
      "  \n",
      "  During handling of the above exception, another exception occurred:\n",
      "  \n",
      "  Traceback (most recent call last):\n",
      "    File \"<string>\", line 1, in <module>\n",
      "    File \"C:\\Users\\Chacha Tech\\AppData\\Local\\Temp\\pip-install-y5319pc0\\pyicu_fd7c99a1c6ac453f8444ba333799faf9\\setup.py\", line 70, in <module>\n",
      "      raise RuntimeError('''\n",
      "  RuntimeError:\n",
      "  Please install pkg-config on your system or set the ICU_VERSION environment\n",
      "  variable to the version of ICU you have installed.\n",
      "  \n",
      "  (running 'icu-config --version')\n",
      "  (running 'pkg-config --modversion icu-i18n')\n",
      "  ----------------------------------------\n",
      "WARNING: Discarding https://files.pythonhosted.org/packages/50/65/974ccd4e01f6517f150e5841518afdec64fa0e6993e4b7a3a6291b327962/PyICU-2.4.tar.gz#sha256=8d1907c1f8659b77f5b62fe81c62ac91731c8a56cb3ea0af1dc4db59f8326242 (from https://pypi.org/simple/pyicu/). Command errored out with exit status 1: python setup.py egg_info Check the logs for full command output.\n",
      "  ERROR: Command errored out with exit status 1:\n",
      "   command: 'c:\\users\\chacha tech\\anaconda3\\python.exe' -c 'import io, os, sys, setuptools, tokenize; sys.argv[0] = '\"'\"'C:\\\\Users\\\\Chacha Tech\\\\AppData\\\\Local\\\\Temp\\\\pip-install-y5319pc0\\\\pyicu_4e805505bf804ad6b7a56698e45198e3\\\\setup.py'\"'\"'; __file__='\"'\"'C:\\\\Users\\\\Chacha Tech\\\\AppData\\\\Local\\\\Temp\\\\pip-install-y5319pc0\\\\pyicu_4e805505bf804ad6b7a56698e45198e3\\\\setup.py'\"'\"';f = getattr(tokenize, '\"'\"'open'\"'\"', open)(__file__) if os.path.exists(__file__) else io.StringIO('\"'\"'from setuptools import setup; setup()'\"'\"');code = f.read().replace('\"'\"'\\r\\n'\"'\"', '\"'\"'\\n'\"'\"');f.close();exec(compile(code, __file__, '\"'\"'exec'\"'\"'))' egg_info --egg-base 'C:\\Users\\Chacha Tech\\AppData\\Local\\Temp\\pip-pip-egg-info-z0k4nqgc'\n",
      "       cwd: C:\\Users\\Chacha Tech\\AppData\\Local\\Temp\\pip-install-y5319pc0\\pyicu_4e805505bf804ad6b7a56698e45198e3\\\n",
      "  Complete output (53 lines):\n",
      "  Traceback (most recent call last):\n",
      "    File \"C:\\Users\\Chacha Tech\\AppData\\Local\\Temp\\pip-install-y5319pc0\\pyicu_4e805505bf804ad6b7a56698e45198e3\\setup.py\", line 62, in <module>\n",
      "      ICU_VERSION = os.environ['ICU_VERSION']\n",
      "    File \"c:\\users\\chacha tech\\anaconda3\\lib\\os.py\", line 675, in __getitem__\n",
      "      raise KeyError(key) from None\n",
      "  KeyError: 'ICU_VERSION'\n",
      "  \n",
      "  During handling of the above exception, another exception occurred:\n",
      "  \n",
      "  Traceback (most recent call last):\n",
      "    File \"C:\\Users\\Chacha Tech\\AppData\\Local\\Temp\\pip-install-y5319pc0\\pyicu_4e805505bf804ad6b7a56698e45198e3\\setup.py\", line 65, in <module>\n",
      "      ICU_VERSION = check_output(('icu-config', '--version')).strip()\n",
      "    File \"C:\\Users\\Chacha Tech\\AppData\\Local\\Temp\\pip-install-y5319pc0\\pyicu_4e805505bf804ad6b7a56698e45198e3\\setup.py\", line 18, in check_output\n",
      "      return subprocess_check_output(popenargs)\n",
      "    File \"c:\\users\\chacha tech\\anaconda3\\lib\\subprocess.py\", line 411, in check_output\n",
      "      return run(*popenargs, stdout=PIPE, timeout=timeout, check=True,\n",
      "    File \"c:\\users\\chacha tech\\anaconda3\\lib\\subprocess.py\", line 489, in run\n",
      "      with Popen(*popenargs, **kwargs) as process:\n",
      "    File \"c:\\users\\chacha tech\\anaconda3\\lib\\subprocess.py\", line 854, in __init__\n"
     ]
    },
    {
     "name": "stderr",
     "output_type": "stream",
     "text": [
      "      self._execute_child(args, executable, preexec_fn, close_fds,\n",
      "    File \"c:\\users\\chacha tech\\anaconda3\\lib\\subprocess.py\", line 1307, in _execute_child\n",
      "      hp, ht, pid, tid = _winapi.CreateProcess(executable, args,\n",
      "  FileNotFoundError: [WinError 2] The system cannot find the file specified\n",
      "  \n",
      "  During handling of the above exception, another exception occurred:\n",
      "  \n",
      "  Traceback (most recent call last):\n",
      "    File \"C:\\Users\\Chacha Tech\\AppData\\Local\\Temp\\pip-install-y5319pc0\\pyicu_4e805505bf804ad6b7a56698e45198e3\\setup.py\", line 68, in <module>\n",
      "      ICU_VERSION = check_output(('pkg-config', '--modversion', 'icu-i18n')).strip()\n",
      "    File \"C:\\Users\\Chacha Tech\\AppData\\Local\\Temp\\pip-install-y5319pc0\\pyicu_4e805505bf804ad6b7a56698e45198e3\\setup.py\", line 18, in check_output\n",
      "      return subprocess_check_output(popenargs)\n",
      "    File \"c:\\users\\chacha tech\\anaconda3\\lib\\subprocess.py\", line 411, in check_output\n",
      "      return run(*popenargs, stdout=PIPE, timeout=timeout, check=True,\n",
      "    File \"c:\\users\\chacha tech\\anaconda3\\lib\\subprocess.py\", line 489, in run\n",
      "      with Popen(*popenargs, **kwargs) as process:\n",
      "    File \"c:\\users\\chacha tech\\anaconda3\\lib\\subprocess.py\", line 854, in __init__\n",
      "      self._execute_child(args, executable, preexec_fn, close_fds,\n",
      "    File \"c:\\users\\chacha tech\\anaconda3\\lib\\subprocess.py\", line 1307, in _execute_child\n",
      "      hp, ht, pid, tid = _winapi.CreateProcess(executable, args,\n",
      "  FileNotFoundError: [WinError 2] The system cannot find the file specified\n",
      "  \n",
      "  During handling of the above exception, another exception occurred:\n",
      "  \n",
      "  Traceback (most recent call last):\n",
      "    File \"<string>\", line 1, in <module>\n",
      "    File \"C:\\Users\\Chacha Tech\\AppData\\Local\\Temp\\pip-install-y5319pc0\\pyicu_4e805505bf804ad6b7a56698e45198e3\\setup.py\", line 70, in <module>\n",
      "      raise RuntimeError('''\n",
      "  RuntimeError:\n",
      "  Please set the ICU_VERSION environment variable to the version of\n",
      "  ICU you have installed.\n",
      "  \n",
      "  (running 'icu-config --version')\n",
      "  (running 'pkg-config --modversion icu-i18n')\n",
      "  ----------------------------------------\n",
      "WARNING: Discarding https://files.pythonhosted.org/packages/e9/35/211ffb949c68e688ade7d40426de030a24eaec4b6c45330eeb9c0285f43a/PyICU-2.3.1.tar.gz#sha256=ddb2b453853b4c25db382bc5e8c4cde09b3f4696ef1e1494f8294e174f459cf4 (from https://pypi.org/simple/pyicu/). Command errored out with exit status 1: python setup.py egg_info Check the logs for full command output.\n",
      "  ERROR: Command errored out with exit status 1:\n",
      "   command: 'c:\\users\\chacha tech\\anaconda3\\python.exe' -c 'import io, os, sys, setuptools, tokenize; sys.argv[0] = '\"'\"'C:\\\\Users\\\\Chacha Tech\\\\AppData\\\\Local\\\\Temp\\\\pip-install-y5319pc0\\\\pyicu_ce5ce7e867884a49bf0282bd26b0d872\\\\setup.py'\"'\"'; __file__='\"'\"'C:\\\\Users\\\\Chacha Tech\\\\AppData\\\\Local\\\\Temp\\\\pip-install-y5319pc0\\\\pyicu_ce5ce7e867884a49bf0282bd26b0d872\\\\setup.py'\"'\"';f = getattr(tokenize, '\"'\"'open'\"'\"', open)(__file__) if os.path.exists(__file__) else io.StringIO('\"'\"'from setuptools import setup; setup()'\"'\"');code = f.read().replace('\"'\"'\\r\\n'\"'\"', '\"'\"'\\n'\"'\"');f.close();exec(compile(code, __file__, '\"'\"'exec'\"'\"'))' egg_info --egg-base 'C:\\Users\\Chacha Tech\\AppData\\Local\\Temp\\pip-pip-egg-info-uq1a9fz5'\n",
      "       cwd: C:\\Users\\Chacha Tech\\AppData\\Local\\Temp\\pip-install-y5319pc0\\pyicu_ce5ce7e867884a49bf0282bd26b0d872\\\n",
      "  Complete output (53 lines):\n",
      "  Traceback (most recent call last):\n",
      "    File \"C:\\Users\\Chacha Tech\\AppData\\Local\\Temp\\pip-install-y5319pc0\\pyicu_ce5ce7e867884a49bf0282bd26b0d872\\setup.py\", line 62, in <module>\n",
      "      ICU_VERSION = os.environ['ICU_VERSION']\n",
      "    File \"c:\\users\\chacha tech\\anaconda3\\lib\\os.py\", line 675, in __getitem__\n",
      "      raise KeyError(key) from None\n",
      "  KeyError: 'ICU_VERSION'\n",
      "  \n",
      "  During handling of the above exception, another exception occurred:\n",
      "  \n",
      "  Traceback (most recent call last):\n",
      "    File \"C:\\Users\\Chacha Tech\\AppData\\Local\\Temp\\pip-install-y5319pc0\\pyicu_ce5ce7e867884a49bf0282bd26b0d872\\setup.py\", line 65, in <module>\n",
      "      ICU_VERSION = check_output(('icu-config', '--version')).strip()\n",
      "    File \"C:\\Users\\Chacha Tech\\AppData\\Local\\Temp\\pip-install-y5319pc0\\pyicu_ce5ce7e867884a49bf0282bd26b0d872\\setup.py\", line 18, in check_output\n",
      "      return subprocess_check_output(popenargs)\n",
      "    File \"c:\\users\\chacha tech\\anaconda3\\lib\\subprocess.py\", line 411, in check_output\n",
      "      return run(*popenargs, stdout=PIPE, timeout=timeout, check=True,\n",
      "    File \"c:\\users\\chacha tech\\anaconda3\\lib\\subprocess.py\", line 489, in run\n",
      "      with Popen(*popenargs, **kwargs) as process:\n",
      "    File \"c:\\users\\chacha tech\\anaconda3\\lib\\subprocess.py\", line 854, in __init__\n",
      "      self._execute_child(args, executable, preexec_fn, close_fds,\n",
      "    File \"c:\\users\\chacha tech\\anaconda3\\lib\\subprocess.py\", line 1307, in _execute_child\n",
      "      hp, ht, pid, tid = _winapi.CreateProcess(executable, args,\n",
      "  FileNotFoundError: [WinError 2] The system cannot find the file specified\n",
      "  \n",
      "  During handling of the above exception, another exception occurred:\n",
      "  \n",
      "  Traceback (most recent call last):\n",
      "    File \"C:\\Users\\Chacha Tech\\AppData\\Local\\Temp\\pip-install-y5319pc0\\pyicu_ce5ce7e867884a49bf0282bd26b0d872\\setup.py\", line 68, in <module>\n",
      "      ICU_VERSION = check_output(('pkg-config', '--modversion', 'icu-i18n')).strip()\n",
      "    File \"C:\\Users\\Chacha Tech\\AppData\\Local\\Temp\\pip-install-y5319pc0\\pyicu_ce5ce7e867884a49bf0282bd26b0d872\\setup.py\", line 18, in check_output\n",
      "      return subprocess_check_output(popenargs)\n",
      "    File \"c:\\users\\chacha tech\\anaconda3\\lib\\subprocess.py\", line 411, in check_output\n",
      "      return run(*popenargs, stdout=PIPE, timeout=timeout, check=True,\n",
      "    File \"c:\\users\\chacha tech\\anaconda3\\lib\\subprocess.py\", line 489, in run\n",
      "      with Popen(*popenargs, **kwargs) as process:\n",
      "    File \"c:\\users\\chacha tech\\anaconda3\\lib\\subprocess.py\", line 854, in __init__\n",
      "      self._execute_child(args, executable, preexec_fn, close_fds,\n",
      "    File \"c:\\users\\chacha tech\\anaconda3\\lib\\subprocess.py\", line 1307, in _execute_child\n",
      "      hp, ht, pid, tid = _winapi.CreateProcess(executable, args,\n",
      "  FileNotFoundError: [WinError 2] The system cannot find the file specified\n",
      "  \n",
      "  During handling of the above exception, another exception occurred:\n",
      "  \n",
      "  Traceback (most recent call last):\n",
      "    File \"<string>\", line 1, in <module>\n",
      "    File \"C:\\Users\\Chacha Tech\\AppData\\Local\\Temp\\pip-install-y5319pc0\\pyicu_ce5ce7e867884a49bf0282bd26b0d872\\setup.py\", line 70, in <module>\n",
      "      raise RuntimeError('''\n",
      "  RuntimeError:\n",
      "  Please set the ICU_VERSION environment variable to the version of\n",
      "  ICU you have installed.\n",
      "  \n",
      "  (running 'icu-config --version')\n",
      "  (running 'pkg-config --modversion icu-i18n')\n",
      "  ----------------------------------------\n",
      "WARNING: Discarding https://files.pythonhosted.org/packages/87/10/fdf5842f42834f6e3141668b607c07bc3c94de39acf582c3d4015e7a7fc5/PyICU-2.3.tar.gz#sha256=419d389b014ee48f31014920f300c842df0770a283ab1fb4de82a6af334cac4d (from https://pypi.org/simple/pyicu/). Command errored out with exit status 1: python setup.py egg_info Check the logs for full command output.\n",
      "  ERROR: Command errored out with exit status 1:\n",
      "   command: 'c:\\users\\chacha tech\\anaconda3\\python.exe' -c 'import io, os, sys, setuptools, tokenize; sys.argv[0] = '\"'\"'C:\\\\Users\\\\Chacha Tech\\\\AppData\\\\Local\\\\Temp\\\\pip-install-y5319pc0\\\\pyicu_52cc3bee3e854ba4ba8586e655bb820c\\\\setup.py'\"'\"'; __file__='\"'\"'C:\\\\Users\\\\Chacha Tech\\\\AppData\\\\Local\\\\Temp\\\\pip-install-y5319pc0\\\\pyicu_52cc3bee3e854ba4ba8586e655bb820c\\\\setup.py'\"'\"';f = getattr(tokenize, '\"'\"'open'\"'\"', open)(__file__) if os.path.exists(__file__) else io.StringIO('\"'\"'from setuptools import setup; setup()'\"'\"');code = f.read().replace('\"'\"'\\r\\n'\"'\"', '\"'\"'\\n'\"'\"');f.close();exec(compile(code, __file__, '\"'\"'exec'\"'\"'))' egg_info --egg-base 'C:\\Users\\Chacha Tech\\AppData\\Local\\Temp\\pip-pip-egg-info-yaj7lmye'\n",
      "       cwd: C:\\Users\\Chacha Tech\\AppData\\Local\\Temp\\pip-install-y5319pc0\\pyicu_52cc3bee3e854ba4ba8586e655bb820c\\\n",
      "  Complete output (32 lines):\n",
      "  Traceback (most recent call last):\n",
      "    File \"C:\\Users\\Chacha Tech\\AppData\\Local\\Temp\\pip-install-y5319pc0\\pyicu_52cc3bee3e854ba4ba8586e655bb820c\\setup.py\", line 43, in <module>\n",
      "      ICU_VERSION = os.environ['ICU_VERSION']\n",
      "    File \"c:\\users\\chacha tech\\anaconda3\\lib\\os.py\", line 675, in __getitem__\n",
      "      raise KeyError(key) from None\n",
      "  KeyError: 'ICU_VERSION'\n",
      "  \n",
      "  During handling of the above exception, another exception occurred:\n",
      "  \n",
      "  Traceback (most recent call last):\n",
      "    File \"C:\\Users\\Chacha Tech\\AppData\\Local\\Temp\\pip-install-y5319pc0\\pyicu_52cc3bee3e854ba4ba8586e655bb820c\\setup.py\", line 46, in <module>\n",
      "      ICU_VERSION = check_output(('icu-config', '--version')).strip()\n",
      "    File \"c:\\users\\chacha tech\\anaconda3\\lib\\subprocess.py\", line 411, in check_output\n",
      "      return run(*popenargs, stdout=PIPE, timeout=timeout, check=True,\n",
      "    File \"c:\\users\\chacha tech\\anaconda3\\lib\\subprocess.py\", line 489, in run\n",
      "      with Popen(*popenargs, **kwargs) as process:\n",
      "    File \"c:\\users\\chacha tech\\anaconda3\\lib\\subprocess.py\", line 854, in __init__\n",
      "      self._execute_child(args, executable, preexec_fn, close_fds,\n",
      "    File \"c:\\users\\chacha tech\\anaconda3\\lib\\subprocess.py\", line 1307, in _execute_child\n",
      "      hp, ht, pid, tid = _winapi.CreateProcess(executable, args,\n",
      "  FileNotFoundError: [WinError 2] The system cannot find the file specified"
     ]
    }
   ],
   "source": [
    "# Multilingual NER with polyglot\n",
    "# from polyglot import text"
   ]
  },
  {
   "cell_type": "markdown",
   "metadata": {},
   "source": [
    "## Chapter no : 4\n",
    "## Building a \"fake news\" classifier \n",
    "## Classifying fake news using supervised learning with NLP\n"
   ]
  },
  {
   "cell_type": "code",
   "execution_count": 57,
   "metadata": {},
   "outputs": [
    {
     "name": "stderr",
     "output_type": "stream",
     "text": [
      "\n",
      "  \n",
      "  During handling of the above exception, another exception occurred:\n",
      "  \n",
      "  Traceback (most recent call last):\n",
      "    File \"<string>\", line 1, in <module>\n",
      "    File \"C:\\Users\\Chacha Tech\\AppData\\Local\\Temp\\pip-install-y5319pc0\\pyicu_52cc3bee3e854ba4ba8586e655bb820c\\setup.py\", line 50, in <module>\n",
      "      raise RuntimeError('''\n",
      "  RuntimeError:\n",
      "  Please set the ICU_VERSION environment variable to the version of\n",
      "  ICU you have installed.\n",
      "  \n",
      "  ----------------------------------------\n",
      "WARNING: Discarding https://files.pythonhosted.org/packages/c2/15/0af20b540c828943b6ffea5677c86e908dcac108813b522adebb75c827c1/PyICU-2.2.tar.gz#sha256=ea6ae8bb6845e2e145cf03cd80cf258487b80fca3669ae8a7bf0c5105df10973 (from https://pypi.org/simple/pyicu/). Command errored out with exit status 1: python setup.py egg_info Check the logs for full command output.\n",
      "  ERROR: Command errored out with exit status 1:\n",
      "   command: 'c:\\users\\chacha tech\\anaconda3\\python.exe' -c 'import io, os, sys, setuptools, tokenize; sys.argv[0] = '\"'\"'C:\\\\Users\\\\Chacha Tech\\\\AppData\\\\Local\\\\Temp\\\\pip-install-y5319pc0\\\\pyicu_10684f50ce62441188e38a0d13760497\\\\setup.py'\"'\"'; __file__='\"'\"'C:\\\\Users\\\\Chacha Tech\\\\AppData\\\\Local\\\\Temp\\\\pip-install-y5319pc0\\\\pyicu_10684f50ce62441188e38a0d13760497\\\\setup.py'\"'\"';f = getattr(tokenize, '\"'\"'open'\"'\"', open)(__file__) if os.path.exists(__file__) else io.StringIO('\"'\"'from setuptools import setup; setup()'\"'\"');code = f.read().replace('\"'\"'\\r\\n'\"'\"', '\"'\"'\\n'\"'\"');f.close();exec(compile(code, __file__, '\"'\"'exec'\"'\"'))' egg_info --egg-base 'C:\\Users\\Chacha Tech\\AppData\\Local\\Temp\\pip-pip-egg-info-nl_yvp4f'\n",
      "       cwd: C:\\Users\\Chacha Tech\\AppData\\Local\\Temp\\pip-install-y5319pc0\\pyicu_10684f50ce62441188e38a0d13760497\\\n",
      "  Complete output (32 lines):\n",
      "  Traceback (most recent call last):\n",
      "    File \"C:\\Users\\Chacha Tech\\AppData\\Local\\Temp\\pip-install-y5319pc0\\pyicu_10684f50ce62441188e38a0d13760497\\setup.py\", line 43, in <module>\n",
      "      ICU_VERSION = os.environ['ICU_VERSION']\n",
      "    File \"c:\\users\\chacha tech\\anaconda3\\lib\\os.py\", line 675, in __getitem__\n",
      "      raise KeyError(key) from None\n",
      "  KeyError: 'ICU_VERSION'\n",
      "  \n",
      "  During handling of the above exception, another exception occurred:\n",
      "  \n",
      "  Traceback (most recent call last):\n",
      "    File \"C:\\Users\\Chacha Tech\\AppData\\Local\\Temp\\pip-install-y5319pc0\\pyicu_10684f50ce62441188e38a0d13760497\\setup.py\", line 46, in <module>\n",
      "      ICU_VERSION = check_output(('icu-config', '--version')).strip()\n",
      "    File \"c:\\users\\chacha tech\\anaconda3\\lib\\subprocess.py\", line 411, in check_output\n",
      "      return run(*popenargs, stdout=PIPE, timeout=timeout, check=True,\n",
      "    File \"c:\\users\\chacha tech\\anaconda3\\lib\\subprocess.py\", line 489, in run\n",
      "      with Popen(*popenargs, **kwargs) as process:\n",
      "    File \"c:\\users\\chacha tech\\anaconda3\\lib\\subprocess.py\", line 854, in __init__\n",
      "      self._execute_child(args, executable, preexec_fn, close_fds,\n",
      "    File \"c:\\users\\chacha tech\\anaconda3\\lib\\subprocess.py\", line 1307, in _execute_child\n",
      "      hp, ht, pid, tid = _winapi.CreateProcess(executable, args,\n",
      "  FileNotFoundError: [WinError 2] The system cannot find the file specified\n",
      "  \n",
      "  During handling of the above exception, another exception occurred:\n",
      "  \n",
      "  Traceback (most recent call last):\n",
      "    File \"<string>\", line 1, in <module>\n",
      "    File \"C:\\Users\\Chacha Tech\\AppData\\Local\\Temp\\pip-install-y5319pc0\\pyicu_10684f50ce62441188e38a0d13760497\\setup.py\", line 50, in <module>\n",
      "      raise RuntimeError('''\n",
      "  RuntimeError:\n",
      "  Please set the ICU_VERSION environment variable to the version of\n",
      "  ICU you have installed.\n",
      "  \n",
      "  ----------------------------------------\n",
      "WARNING: Discarding https://files.pythonhosted.org/packages/1b/28/9a92361dfdd3e967409885dc9829643d005d8950bba04f0a60fc238f7fd9/PyICU-2.1.tar.gz#sha256=5fdab441c91adf9ceb6373dfdca18fbde3676f906babda45d85cf0fa8e43fd8a (from https://pypi.org/simple/pyicu/). Command errored out with exit status 1: python setup.py egg_info Check the logs for full command output.\n",
      "  ERROR: Command errored out with exit status 1:\n",
      "   command: 'c:\\users\\chacha tech\\anaconda3\\python.exe' -c 'import io, os, sys, setuptools, tokenize; sys.argv[0] = '\"'\"'C:\\\\Users\\\\Chacha Tech\\\\AppData\\\\Local\\\\Temp\\\\pip-install-y5319pc0\\\\pyicu_63cf2626a2dc4aa7a516ce4a80cf76f3\\\\setup.py'\"'\"'; __file__='\"'\"'C:\\\\Users\\\\Chacha Tech\\\\AppData\\\\Local\\\\Temp\\\\pip-install-y5319pc0\\\\pyicu_63cf2626a2dc4aa7a516ce4a80cf76f3\\\\setup.py'\"'\"';f = getattr(tokenize, '\"'\"'open'\"'\"', open)(__file__) if os.path.exists(__file__) else io.StringIO('\"'\"'from setuptools import setup; setup()'\"'\"');code = f.read().replace('\"'\"'\\r\\n'\"'\"', '\"'\"'\\n'\"'\"');f.close();exec(compile(code, __file__, '\"'\"'exec'\"'\"'))' egg_info --egg-base 'C:\\Users\\Chacha Tech\\AppData\\Local\\Temp\\pip-pip-egg-info-frwuqh2z'\n",
      "       cwd: C:\\Users\\Chacha Tech\\AppData\\Local\\Temp\\pip-install-y5319pc0\\pyicu_63cf2626a2dc4aa7a516ce4a80cf76f3\\\n",
      "  Complete output (32 lines):\n",
      "  Traceback (most recent call last):\n",
      "    File \"C:\\Users\\Chacha Tech\\AppData\\Local\\Temp\\pip-install-y5319pc0\\pyicu_63cf2626a2dc4aa7a516ce4a80cf76f3\\setup.py\", line 43, in <module>\n",
      "      ICU_VERSION = os.environ['ICU_VERSION']\n",
      "    File \"c:\\users\\chacha tech\\anaconda3\\lib\\os.py\", line 675, in __getitem__\n",
      "      raise KeyError(key) from None\n",
      "  KeyError: 'ICU_VERSION'\n",
      "  \n",
      "  During handling of the above exception, another exception occurred:\n",
      "  \n",
      "  Traceback (most recent call last):\n",
      "    File \"C:\\Users\\Chacha Tech\\AppData\\Local\\Temp\\pip-install-y5319pc0\\pyicu_63cf2626a2dc4aa7a516ce4a80cf76f3\\setup.py\", line 46, in <module>\n",
      "      ICU_VERSION = check_output(('icu-config', '--version')).strip()\n",
      "    File \"c:\\users\\chacha tech\\anaconda3\\lib\\subprocess.py\", line 411, in check_output\n",
      "      return run(*popenargs, stdout=PIPE, timeout=timeout, check=True,\n",
      "    File \"c:\\users\\chacha tech\\anaconda3\\lib\\subprocess.py\", line 489, in run\n",
      "      with Popen(*popenargs, **kwargs) as process:\n",
      "    File \"c:\\users\\chacha tech\\anaconda3\\lib\\subprocess.py\", line 854, in __init__\n",
      "      self._execute_child(args, executable, preexec_fn, close_fds,\n",
      "    File \"c:\\users\\chacha tech\\anaconda3\\lib\\subprocess.py\", line 1307, in _execute_child\n",
      "      hp, ht, pid, tid = _winapi.CreateProcess(executable, args,\n",
      "  FileNotFoundError: [WinError 2] The system cannot find the file specified\n",
      "  \n",
      "  During handling of the above exception, another exception occurred:\n",
      "  \n",
      "  Traceback (most recent call last):\n",
      "    File \"<string>\", line 1, in <module>\n",
      "    File \"C:\\Users\\Chacha Tech\\AppData\\Local\\Temp\\pip-install-y5319pc0\\pyicu_63cf2626a2dc4aa7a516ce4a80cf76f3\\setup.py\", line 50, in <module>\n",
      "      raise RuntimeError('''\n",
      "  RuntimeError:\n",
      "  Please set the ICU_VERSION environment variable to the version of\n",
      "  ICU you have installed.\n",
      "  \n",
      "  ----------------------------------------\n",
      "WARNING: Discarding https://files.pythonhosted.org/packages/9a/bb/724e7dd095c87398664b8eea91fdfd2d5ea9782949e13f2f28bcd5e11a0e/PyICU-2.0.6.tar.gz#sha256=dd233737d9fd0399ac5a06382c3c387c257c17bae80aef4e15195bf63d70db67 (from https://pypi.org/simple/pyicu/). Command errored out with exit status 1: python setup.py egg_info Check the logs for full command output.\n",
      "  ERROR: Command errored out with exit status 1:\n",
      "   command: 'c:\\users\\chacha tech\\anaconda3\\python.exe' -c 'import io, os, sys, setuptools, tokenize; sys.argv[0] = '\"'\"'C:\\\\Users\\\\Chacha Tech\\\\AppData\\\\Local\\\\Temp\\\\pip-install-y5319pc0\\\\pyicu_74e942ca501c4d9d8e8cfec43ac9ba54\\\\setup.py'\"'\"'; __file__='\"'\"'C:\\\\Users\\\\Chacha Tech\\\\AppData\\\\Local\\\\Temp\\\\pip-install-y5319pc0\\\\pyicu_74e942ca501c4d9d8e8cfec43ac9ba54\\\\setup.py'\"'\"';f = getattr(tokenize, '\"'\"'open'\"'\"', open)(__file__) if os.path.exists(__file__) else io.StringIO('\"'\"'from setuptools import setup; setup()'\"'\"');code = f.read().replace('\"'\"'\\r\\n'\"'\"', '\"'\"'\\n'\"'\"');f.close();exec(compile(code, __file__, '\"'\"'exec'\"'\"'))' egg_info --egg-base 'C:\\Users\\Chacha Tech\\AppData\\Local\\Temp\\pip-pip-egg-info-83lxvnpk'\n",
      "       cwd: C:\\Users\\Chacha Tech\\AppData\\Local\\Temp\\pip-install-y5319pc0\\pyicu_74e942ca501c4d9d8e8cfec43ac9ba54\\\n",
      "  Complete output (32 lines):\n",
      "  Traceback (most recent call last):\n",
      "    File \"C:\\Users\\Chacha Tech\\AppData\\Local\\Temp\\pip-install-y5319pc0\\pyicu_74e942ca501c4d9d8e8cfec43ac9ba54\\setup.py\", line 43, in <module>\n",
      "      ICU_VERSION = os.environ['ICU_VERSION']\n",
      "    File \"c:\\users\\chacha tech\\anaconda3\\lib\\os.py\", line 675, in __getitem__\n",
      "      raise KeyError(key) from None\n",
      "  KeyError: 'ICU_VERSION'\n",
      "  \n",
      "  During handling of the above exception, another exception occurred:\n",
      "  \n",
      "  Traceback (most recent call last):\n",
      "    File \"C:\\Users\\Chacha Tech\\AppData\\Local\\Temp\\pip-install-y5319pc0\\pyicu_74e942ca501c4d9d8e8cfec43ac9ba54\\setup.py\", line 46, in <module>\n",
      "      ICU_VERSION = check_output(('icu-config', '--version')).strip()\n",
      "    File \"c:\\users\\chacha tech\\anaconda3\\lib\\subprocess.py\", line 411, in check_output\n",
      "      return run(*popenargs, stdout=PIPE, timeout=timeout, check=True,\n",
      "    File \"c:\\users\\chacha tech\\anaconda3\\lib\\subprocess.py\", line 489, in run\n",
      "      with Popen(*popenargs, **kwargs) as process:\n",
      "    File \"c:\\users\\chacha tech\\anaconda3\\lib\\subprocess.py\", line 854, in __init__\n",
      "      self._execute_child(args, executable, preexec_fn, close_fds,\n",
      "    File \"c:\\users\\chacha tech\\anaconda3\\lib\\subprocess.py\", line 1307, in _execute_child\n",
      "      hp, ht, pid, tid = _winapi.CreateProcess(executable, args,\n",
      "  FileNotFoundError: [WinError 2] The system cannot find the file specified\n",
      "  \n",
      "  During handling of the above exception, another exception occurred:\n",
      "  \n",
      "  Traceback (most recent call last):\n",
      "    File \"<string>\", line 1, in <module>\n",
      "    File \"C:\\Users\\Chacha Tech\\AppData\\Local\\Temp\\pip-install-y5319pc0\\pyicu_74e942ca501c4d9d8e8cfec43ac9ba54\\setup.py\", line 50, in <module>\n",
      "      raise RuntimeError('''\n",
      "  RuntimeError:\n",
      "  Please set the ICU_VERSION environment variable to the version of\n",
      "  ICU you have installed.\n",
      "  \n",
      "  ----------------------------------------\n",
      "WARNING: Discarding https://files.pythonhosted.org/packages/b9/26/9e993785441f90595e0aad169c1d011e941c3995c207838cc25702e91c5b/PyICU-2.0.5.tar.gz#sha256=9122ff2f813bced986e03679f4c6d24f4d09feb3dc85d2a47f92410797275222 (from https://pypi.org/simple/pyicu/). Command errored out with exit status 1: python setup.py egg_info Check the logs for full command output.\n",
      "  ERROR: Command errored out with exit status 1:\n",
      "   command: 'c:\\users\\chacha tech\\anaconda3\\python.exe' -c 'import io, os, sys, setuptools, tokenize; sys.argv[0] = '\"'\"'C:\\\\Users\\\\Chacha Tech\\\\AppData\\\\Local\\\\Temp\\\\pip-install-y5319pc0\\\\pyicu_f8b1c19c127f4b11894a80a06c5193c2\\\\setup.py'\"'\"'; __file__='\"'\"'C:\\\\Users\\\\Chacha Tech\\\\AppData\\\\Local\\\\Temp\\\\pip-install-y5319pc0\\\\pyicu_f8b1c19c127f4b11894a80a06c5193c2\\\\setup.py'\"'\"';f = getattr(tokenize, '\"'\"'open'\"'\"', open)(__file__) if os.path.exists(__file__) else io.StringIO('\"'\"'from setuptools import setup; setup()'\"'\"');code = f.read().replace('\"'\"'\\r\\n'\"'\"', '\"'\"'\\n'\"'\"');f.close();exec(compile(code, __file__, '\"'\"'exec'\"'\"'))' egg_info --egg-base 'C:\\Users\\Chacha Tech\\AppData\\Local\\Temp\\pip-pip-egg-info-1u3ee2dz'\n",
      "       cwd: C:\\Users\\Chacha Tech\\AppData\\Local\\Temp\\pip-install-y5319pc0\\pyicu_f8b1c19c127f4b11894a80a06c5193c2\\\n",
      "  Complete output (32 lines):\n",
      "  Traceback (most recent call last):\n",
      "    File \"C:\\Users\\Chacha Tech\\AppData\\Local\\Temp\\pip-install-y5319pc0\\pyicu_f8b1c19c127f4b11894a80a06c5193c2\\setup.py\", line 43, in <module>\n",
      "      ICU_VERSION = os.environ['ICU_VERSION']\n",
      "    File \"c:\\users\\chacha tech\\anaconda3\\lib\\os.py\", line 675, in __getitem__\n",
      "      raise KeyError(key) from None\n",
      "  KeyError: 'ICU_VERSION'\n",
      "  \n",
      "  During handling of the above exception, another exception occurred:\n",
      "  \n",
      "  Traceback (most recent call last):\n",
      "    File \"C:\\Users\\Chacha Tech\\AppData\\Local\\Temp\\pip-install-y5319pc0\\pyicu_f8b1c19c127f4b11894a80a06c5193c2\\setup.py\", line 46, in <module>\n",
      "      ICU_VERSION = check_output(('icu-config', '--version')).strip()\n",
      "    File \"c:\\users\\chacha tech\\anaconda3\\lib\\subprocess.py\", line 411, in check_output\n",
      "      return run(*popenargs, stdout=PIPE, timeout=timeout, check=True,\n",
      "    File \"c:\\users\\chacha tech\\anaconda3\\lib\\subprocess.py\", line 489, in run\n",
      "      with Popen(*popenargs, **kwargs) as process:\n",
      "    File \"c:\\users\\chacha tech\\anaconda3\\lib\\subprocess.py\", line 854, in __init__\n",
      "      self._execute_child(args, executable, preexec_fn, close_fds,\n",
      "    File \"c:\\users\\chacha tech\\anaconda3\\lib\\subprocess.py\", line 1307, in _execute_child\n",
      "      hp, ht, pid, tid = _winapi.CreateProcess(executable, args,\n",
      "  FileNotFoundError: [WinError 2] The system cannot find the file specified\n",
      "  \n",
      "  During handling of the above exception, another exception occurred:\n",
      "  \n",
      "  Traceback (most recent call last):\n",
      "    File \"<string>\", line 1, in <module>\n",
      "    File \"C:\\Users\\Chacha Tech\\AppData\\Local\\Temp\\pip-install-y5319pc0\\pyicu_f8b1c19c127f4b11894a80a06c5193c2\\setup.py\", line 50, in <module>\n",
      "      raise RuntimeError('''\n",
      "  RuntimeError:\n",
      "  Please set the ICU_VERSION environment variable to the version of\n",
      "  ICU you have installed.\n",
      "  \n",
      "  ----------------------------------------\n",
      "WARNING: Discarding https://files.pythonhosted.org/packages/52/95/72d75fba16401bd452ae581c3661bbf2e588d6068a9a726726bf7f6b16f5/PyICU-2.0.4.tar.gz#sha256=e074bfbe74919a21bc2ed8e4f98006711888b11efa0e3414ad084c75c340e1bd (from https://pypi.org/simple/pyicu/). Command errored out with exit status 1: python setup.py egg_info Check the logs for full command output.\n",
      "  ERROR: Command errored out with exit status 1:\n",
      "   command: 'c:\\users\\chacha tech\\anaconda3\\python.exe' -c 'import io, os, sys, setuptools, tokenize; sys.argv[0] = '\"'\"'C:\\\\Users\\\\Chacha Tech\\\\AppData\\\\Local\\\\Temp\\\\pip-install-y5319pc0\\\\pyicu_31ea5b9618b94e0eae6e2d95c3c97ea2\\\\setup.py'\"'\"'; __file__='\"'\"'C:\\\\Users\\\\Chacha Tech\\\\AppData\\\\Local\\\\Temp\\\\pip-install-y5319pc0\\\\pyicu_31ea5b9618b94e0eae6e2d95c3c97ea2\\\\setup.py'\"'\"';f = getattr(tokenize, '\"'\"'open'\"'\"', open)(__file__) if os.path.exists(__file__) else io.StringIO('\"'\"'from setuptools import setup; setup()'\"'\"');code = f.read().replace('\"'\"'\\r\\n'\"'\"', '\"'\"'\\n'\"'\"');f.close();exec(compile(code, __file__, '\"'\"'exec'\"'\"'))' egg_info --egg-base 'C:\\Users\\Chacha Tech\\AppData\\Local\\Temp\\pip-pip-egg-info-xv7yp0g6'\n",
      "       cwd: C:\\Users\\Chacha Tech\\AppData\\Local\\Temp\\pip-install-y5319pc0\\pyicu_31ea5b9618b94e0eae6e2d95c3c97ea2\\\n",
      "  Complete output (32 lines):\n",
      "  Traceback (most recent call last):\n",
      "    File \"C:\\Users\\Chacha Tech\\AppData\\Local\\Temp\\pip-install-y5319pc0\\pyicu_31ea5b9618b94e0eae6e2d95c3c97ea2\\setup.py\", line 43, in <module>\n",
      "      ICU_VERSION = os.environ['ICU_VERSION']\n",
      "    File \"c:\\users\\chacha tech\\anaconda3\\lib\\os.py\", line 675, in __getitem__\n",
      "      raise KeyError(key) from None\n",
      "  KeyError: 'ICU_VERSION'\n",
      "  \n",
      "  During handling of the above exception, another exception occurred:\n",
      "  \n",
      "  Traceback (most recent call last):\n",
      "    File \"C:\\Users\\Chacha Tech\\AppData\\Local\\Temp\\pip-install-y5319pc0\\pyicu_31ea5b9618b94e0eae6e2d95c3c97ea2\\setup.py\", line 46, in <module>\n",
      "      ICU_VERSION = check_output(('icu-config', '--version')).strip()\n",
      "    File \"c:\\users\\chacha tech\\anaconda3\\lib\\subprocess.py\", line 411, in check_output\n",
      "      return run(*popenargs, stdout=PIPE, timeout=timeout, check=True,\n",
      "    File \"c:\\users\\chacha tech\\anaconda3\\lib\\subprocess.py\", line 489, in run\n",
      "      with Popen(*popenargs, **kwargs) as process:\n",
      "    File \"c:\\users\\chacha tech\\anaconda3\\lib\\subprocess.py\", line 854, in __init__\n",
      "      self._execute_child(args, executable, preexec_fn, close_fds,\n",
      "    File \"c:\\users\\chacha tech\\anaconda3\\lib\\subprocess.py\", line 1307, in _execute_child\n",
      "      hp, ht, pid, tid = _winapi.CreateProcess(executable, args,\n",
      "  FileNotFoundError: [WinError 2] The system cannot find the file specified\n",
      "  \n",
      "  During handling of the above exception, another exception occurred:\n",
      "  \n",
      "  Traceback (most recent call last):\n",
      "    File \"<string>\", line 1, in <module>\n",
      "    File \"C:\\Users\\Chacha Tech\\AppData\\Local\\Temp\\pip-install-y5319pc0\\pyicu_31ea5b9618b94e0eae6e2d95c3c97ea2\\setup.py\", line 50, in <module>\n",
      "      raise RuntimeError('''\n",
      "  RuntimeError:\n",
      "  Please set the ICU_VERSION environment variable to the version of\n",
      "  ICU you have installed.\n",
      "  \n",
      "  ----------------------------------------\n",
      "WARNING: Discarding https://files.pythonhosted.org/packages/bb/ef/3a7fcbba81bfd213e479131ae21445a2ddd14b46d70ef0109640b580bc5d/PyICU-2.0.3.tar.gz#sha256=c452d14409d93819a398a93d27d5d58d6236af690d537eb2d76c8305e8d0fa5f (from https://pypi.org/simple/pyicu/). Command errored out with exit status 1: python setup.py egg_info Check the logs for full command output.\n",
      "  ERROR: Command errored out with exit status 1:\n",
      "   command: 'c:\\users\\chacha tech\\anaconda3\\python.exe' -c 'import io, os, sys, setuptools, tokenize; sys.argv[0] = '\"'\"'C:\\\\Users\\\\Chacha Tech\\\\AppData\\\\Local\\\\Temp\\\\pip-install-y5319pc0\\\\pyicu_a7395b65614141d383c321f81537f8f8\\\\setup.py'\"'\"'; __file__='\"'\"'C:\\\\Users\\\\Chacha Tech\\\\AppData\\\\Local\\\\Temp\\\\pip-install-y5319pc0\\\\pyicu_a7395b65614141d383c321f81537f8f8\\\\setup.py'\"'\"';f = getattr(tokenize, '\"'\"'open'\"'\"', open)(__file__) if os.path.exists(__file__) else io.StringIO('\"'\"'from setuptools import setup; setup()'\"'\"');code = f.read().replace('\"'\"'\\r\\n'\"'\"', '\"'\"'\\n'\"'\"');f.close();exec(compile(code, __file__, '\"'\"'exec'\"'\"'))' egg_info --egg-base 'C:\\Users\\Chacha Tech\\AppData\\Local\\Temp\\pip-pip-egg-info-jtke7lhj'\n",
      "       cwd: C:\\Users\\Chacha Tech\\AppData\\Local\\Temp\\pip-install-y5319pc0\\pyicu_a7395b65614141d383c321f81537f8f8\\\n",
      "  Complete output (32 lines):\n",
      "  Traceback (most recent call last):\n",
      "    File \"C:\\Users\\Chacha Tech\\AppData\\Local\\Temp\\pip-install-y5319pc0\\pyicu_a7395b65614141d383c321f81537f8f8\\setup.py\", line 43, in <module>\n",
      "      ICU_VERSION = os.environ['ICU_VERSION']\n",
      "    File \"c:\\users\\chacha tech\\anaconda3\\lib\\os.py\", line 675, in __getitem__\n",
      "      raise KeyError(key) from None\n",
      "  KeyError: 'ICU_VERSION'\n",
      "  \n",
      "  During handling of the above exception, another exception occurred:\n",
      "  \n",
      "  Traceback (most recent call last):\n",
      "    File \"C:\\Users\\Chacha Tech\\AppData\\Local\\Temp\\pip-install-y5319pc0\\pyicu_a7395b65614141d383c321f81537f8f8\\setup.py\", line 46, in <module>\n",
      "      ICU_VERSION = check_output(('icu-config', '--version')).strip()\n",
      "    File \"c:\\users\\chacha tech\\anaconda3\\lib\\subprocess.py\", line 411, in check_output\n",
      "      return run(*popenargs, stdout=PIPE, timeout=timeout, check=True,\n",
      "    File \"c:\\users\\chacha tech\\anaconda3\\lib\\subprocess.py\", line 489, in run\n",
      "      with Popen(*popenargs, **kwargs) as process:\n",
      "    File \"c:\\users\\chacha tech\\anaconda3\\lib\\subprocess.py\", line 854, in __init__\n",
      "      self._execute_child(args, executable, preexec_fn, close_fds,\n",
      "    File \"c:\\users\\chacha tech\\anaconda3\\lib\\subprocess.py\", line 1307, in _execute_child\n",
      "      hp, ht, pid, tid = _winapi.CreateProcess(executable, args,\n",
      "  FileNotFoundError: [WinError 2] The system cannot find the file specified\n",
      "  \n",
      "  During handling of the above exception, another exception occurred:\n",
      "  \n",
      "  Traceback (most recent call last):\n",
      "    File \"<string>\", line 1, in <module>\n",
      "    File \"C:\\Users\\Chacha Tech\\AppData\\Local\\Temp\\pip-install-y5319pc0\\pyicu_a7395b65614141d383c321f81537f8f8\\setup.py\", line 50, in <module>\n",
      "      raise RuntimeError('''\n",
      "  RuntimeError:\n",
      "  Please set the ICU_VERSION environment variable to the version of\n",
      "  ICU you have installed.\n",
      "  \n",
      "  ----------------------------------------\n",
      "WARNING: Discarding https://files.pythonhosted.org/packages/57/c2/565670f72e3955a3935118be0e44155f8ba823715c45cca123034585ff79/PyICU-2.0.2.tar.gz#sha256=dd8fedfb7e790fb829d0051a27295770146447e4176cb1b6425992e9b5016f10 (from https://pypi.org/simple/pyicu/). Command errored out with exit status 1: python setup.py egg_info Check the logs for full command output.\n",
      "  ERROR: Command errored out with exit status 1:\n",
      "   command: 'c:\\users\\chacha tech\\anaconda3\\python.exe' -c 'import io, os, sys, setuptools, tokenize; sys.argv[0] = '\"'\"'C:\\\\Users\\\\Chacha Tech\\\\AppData\\\\Local\\\\Temp\\\\pip-install-y5319pc0\\\\pyicu_4224f5ad3cd44148b4949ffca7114934\\\\setup.py'\"'\"'; __file__='\"'\"'C:\\\\Users\\\\Chacha Tech\\\\AppData\\\\Local\\\\Temp\\\\pip-install-y5319pc0\\\\pyicu_4224f5ad3cd44148b4949ffca7114934\\\\setup.py'\"'\"';f = getattr(tokenize, '\"'\"'open'\"'\"', open)(__file__) if os.path.exists(__file__) else io.StringIO('\"'\"'from setuptools import setup; setup()'\"'\"');code = f.read().replace('\"'\"'\\r\\n'\"'\"', '\"'\"'\\n'\"'\"');f.close();exec(compile(code, __file__, '\"'\"'exec'\"'\"'))' egg_info --egg-base 'C:\\Users\\Chacha Tech\\AppData\\Local\\Temp\\pip-pip-egg-info-gji4e12r'\n",
      "       cwd: C:\\Users\\Chacha Tech\\AppData\\Local\\Temp\\pip-install-y5319pc0\\pyicu_4224f5ad3cd44148b4949ffca7114934\\\n",
      "  Complete output (32 lines):\n",
      "  Traceback (most recent call last):\n",
      "    File \"C:\\Users\\Chacha Tech\\AppData\\Local\\Temp\\pip-install-y5319pc0\\pyicu_4224f5ad3cd44148b4949ffca7114934\\setup.py\", line 43, in <module>\n",
      "      ICU_VERSION = os.environ['ICU_VERSION']\n",
      "    File \"c:\\users\\chacha tech\\anaconda3\\lib\\os.py\", line 675, in __getitem__\n",
      "      raise KeyError(key) from None\n",
      "  KeyError: 'ICU_VERSION'\n",
      "  \n",
      "  During handling of the above exception, another exception occurred:\n",
      "  \n",
      "  Traceback (most recent call last):\n",
      "    File \"C:\\Users\\Chacha Tech\\AppData\\Local\\Temp\\pip-install-y5319pc0\\pyicu_4224f5ad3cd44148b4949ffca7114934\\setup.py\", line 46, in <module>\n",
      "      ICU_VERSION = check_output(('icu-config', '--version')).strip()\n",
      "    File \"c:\\users\\chacha tech\\anaconda3\\lib\\subprocess.py\", line 411, in check_output\n",
      "      return run(*popenargs, stdout=PIPE, timeout=timeout, check=True,\n",
      "    File \"c:\\users\\chacha tech\\anaconda3\\lib\\subprocess.py\", line 489, in run\n",
      "      with Popen(*popenargs, **kwargs) as process:\n",
      "    File \"c:\\users\\chacha tech\\anaconda3\\lib\\subprocess.py\", line 854, in __init__\n",
      "      self._execute_child(args, executable, preexec_fn, close_fds,\n",
      "    File \"c:\\users\\chacha tech\\anaconda3\\lib\\subprocess.py\", line 1307, in _execute_child\n",
      "      hp, ht, pid, tid = _winapi.CreateProcess(executable, args,\n",
      "  FileNotFoundError: [WinError 2] The system cannot find the file specified\n",
      "  \n",
      "  During handling of the above exception, another exception occurred:\n",
      "  \n",
      "  Traceback (most recent call last):\n",
      "    File \"<string>\", line 1, in <module>\n",
      "    File \"C:\\Users\\Chacha Tech\\AppData\\Local\\Temp\\pip-install-y5319pc0\\pyicu_4224f5ad3cd44148b4949ffca7114934\\setup.py\", line 50, in <module>\n",
      "      raise RuntimeError('''\n",
      "  RuntimeError:\n",
      "  Please set the ICU_VERSION environment variable to the version of\n",
      "  ICU you have installed.\n",
      "  \n",
      "  ----------------------------------------\n",
      "WARNING: Discarding https://files.pythonhosted.org/packages/78/3c/1541fb461e4564676650cf1842fe5dd538b7a89443291592d24788ff1e65/PyICU-2.0.1.tar.gz#sha256=230cc9b28b445da9199e09120593bf6439a55bcac2c44742c612d56becf4366f (from https://pypi.org/simple/pyicu/). Command errored out with exit status 1: python setup.py egg_info Check the logs for full command output.\n",
      "  ERROR: Command errored out with exit status 1:\n",
      "   command: 'c:\\users\\chacha tech\\anaconda3\\python.exe' -c 'import io, os, sys, setuptools, tokenize; sys.argv[0] = '\"'\"'C:\\\\Users\\\\Chacha Tech\\\\AppData\\\\Local\\\\Temp\\\\pip-install-y5319pc0\\\\pyicu_f7dd22ee4914435eb54ba87a510ccf38\\\\setup.py'\"'\"'; __file__='\"'\"'C:\\\\Users\\\\Chacha Tech\\\\AppData\\\\Local\\\\Temp\\\\pip-install-y5319pc0\\\\pyicu_f7dd22ee4914435eb54ba87a510ccf38\\\\setup.py'\"'\"';f = getattr(tokenize, '\"'\"'open'\"'\"', open)(__file__) if os.path.exists(__file__) else io.StringIO('\"'\"'from setuptools import setup; setup()'\"'\"');code = f.read().replace('\"'\"'\\r\\n'\"'\"', '\"'\"'\\n'\"'\"');f.close();exec(compile(code, __file__, '\"'\"'exec'\"'\"'))' egg_info --egg-base 'C:\\Users\\Chacha Tech\\AppData\\Local\\Temp\\pip-pip-egg-info-bede419z'\n",
      "       cwd: C:\\Users\\Chacha Tech\\AppData\\Local\\Temp\\pip-install-y5319pc0\\pyicu_f7dd22ee4914435eb54ba87a510ccf38\\\n",
      "  Complete output (32 lines):\n",
      "  Traceback (most recent call last):\n",
      "    File \"C:\\Users\\Chacha Tech\\AppData\\Local\\Temp\\pip-install-y5319pc0\\pyicu_f7dd22ee4914435eb54ba87a510ccf38\\setup.py\", line 43, in <module>\n",
      "      ICU_VERSION = os.environ['ICU_VERSION']\n",
      "    File \"c:\\users\\chacha tech\\anaconda3\\lib\\os.py\", line 675, in __getitem__\n",
      "      raise KeyError(key) from None\n",
      "  KeyError: 'ICU_VERSION'\n",
      "  \n",
      "  During handling of the above exception, another exception occurred:\n",
      "  \n",
      "  Traceback (most recent call last):\n",
      "    File \"C:\\Users\\Chacha Tech\\AppData\\Local\\Temp\\pip-install-y5319pc0\\pyicu_f7dd22ee4914435eb54ba87a510ccf38\\setup.py\", line 46, in <module>\n",
      "      ICU_VERSION = check_output(('icu-config', '--version')).strip()\n",
      "    File \"c:\\users\\chacha tech\\anaconda3\\lib\\subprocess.py\", line 411, in check_output\n",
      "      return run(*popenargs, stdout=PIPE, timeout=timeout, check=True,\n",
      "    File \"c:\\users\\chacha tech\\anaconda3\\lib\\subprocess.py\", line 489, in run\n",
      "      with Popen(*popenargs, **kwargs) as process:\n",
      "    File \"c:\\users\\chacha tech\\anaconda3\\lib\\subprocess.py\", line 854, in __init__\n",
      "      self._execute_child(args, executable, preexec_fn, close_fds,\n",
      "    File \"c:\\users\\chacha tech\\anaconda3\\lib\\subprocess.py\", line 1307, in _execute_child\n",
      "      hp, ht, pid, tid = _winapi.CreateProcess(executable, args,\n",
      "  FileNotFoundError: [WinError 2] The system cannot find the file specified\n",
      "  \n",
      "  During handling of the above exception, another exception occurred:\n",
      "  \n",
      "  Traceback (most recent call last):\n",
      "    File \"<string>\", line 1, in <module>\n",
      "    File \"C:\\Users\\Chacha Tech\\AppData\\Local\\Temp\\pip-install-y5319pc0\\pyicu_f7dd22ee4914435eb54ba87a510ccf38\\setup.py\", line 50, in <module>\n",
      "      raise RuntimeError('''\n",
      "  RuntimeError:\n",
      "  Please set the ICU_VERSION environment variable to the version of\n",
      "  ICU you have installed.\n",
      "  \n",
      "  ----------------------------------------\n",
      "WARNING: Discarding https://files.pythonhosted.org/packages/12/59/cf242872420615cbcee0a74fe69e2e9c3687a3c11142535569db531571a9/PyICU-2.0.tar.gz#sha256=fff7a9adbfc8501a3d61d0de4a6e6a79b45866c4f41df8b0d95dff7e267b337e (from https://pypi.org/simple/pyicu/). Command errored out with exit status 1: python setup.py egg_info Check the logs for full command output.\n",
      "  ERROR: Command errored out with exit status 1:\n",
      "   command: 'c:\\users\\chacha tech\\anaconda3\\python.exe' -c 'import io, os, sys, setuptools, tokenize; sys.argv[0] = '\"'\"'C:\\\\Users\\\\Chacha Tech\\\\AppData\\\\Local\\\\Temp\\\\pip-install-y5319pc0\\\\pyicu_f906877fe46c42abb8950cc4c2a7ff80\\\\setup.py'\"'\"'; __file__='\"'\"'C:\\\\Users\\\\Chacha Tech\\\\AppData\\\\Local\\\\Temp\\\\pip-install-y5319pc0\\\\pyicu_f906877fe46c42abb8950cc4c2a7ff80\\\\setup.py'\"'\"';f = getattr(tokenize, '\"'\"'open'\"'\"', open)(__file__) if os.path.exists(__file__) else io.StringIO('\"'\"'from setuptools import setup; setup()'\"'\"');code = f.read().replace('\"'\"'\\r\\n'\"'\"', '\"'\"'\\n'\"'\"');f.close();exec(compile(code, __file__, '\"'\"'exec'\"'\"'))' egg_info --egg-base 'C:\\Users\\Chacha Tech\\AppData\\Local\\Temp\\pip-pip-egg-info-nd3o9s14'\n",
      "       cwd: C:\\Users\\Chacha Tech\\AppData\\Local\\Temp\\pip-install-y5319pc0\\pyicu_f906877fe46c42abb8950cc4c2a7ff80\\\n",
      "  Complete output (32 lines):\n",
      "  Traceback (most recent call last):\n",
      "    File \"C:\\Users\\Chacha Tech\\AppData\\Local\\Temp\\pip-install-y5319pc0\\pyicu_f906877fe46c42abb8950cc4c2a7ff80\\setup.py\", line 12, in <module>\n",
      "      ICU_VERSION = os.environ['ICU_VERSION']\n",
      "    File \"c:\\users\\chacha tech\\anaconda3\\lib\\os.py\", line 675, in __getitem__\n",
      "      raise KeyError(key) from None\n",
      "  KeyError: 'ICU_VERSION'\n",
      "  \n",
      "  During handling of the above exception, another exception occurred:\n",
      "  \n",
      "  Traceback (most recent call last):\n",
      "    File \"C:\\Users\\Chacha Tech\\AppData\\Local\\Temp\\pip-install-y5319pc0\\pyicu_f906877fe46c42abb8950cc4c2a7ff80\\setup.py\", line 26, in <module>\n",
      "      ICU_VERSION = check_output(('icu-config', '--version')).strip()\n",
      "    File \"c:\\users\\chacha tech\\anaconda3\\lib\\subprocess.py\", line 411, in check_output\n",
      "      return run(*popenargs, stdout=PIPE, timeout=timeout, check=True,\n",
      "    File \"c:\\users\\chacha tech\\anaconda3\\lib\\subprocess.py\", line 489, in run\n",
      "      with Popen(*popenargs, **kwargs) as process:\n",
      "    File \"c:\\users\\chacha tech\\anaconda3\\lib\\subprocess.py\", line 854, in __init__\n",
      "      self._execute_child(args, executable, preexec_fn, close_fds,\n",
      "    File \"c:\\users\\chacha tech\\anaconda3\\lib\\subprocess.py\", line 1307, in _execute_child\n",
      "      hp, ht, pid, tid = _winapi.CreateProcess(executable, args,\n",
      "  FileNotFoundError: [WinError 2] The system cannot find the file specified\n",
      "  \n",
      "  During handling of the above exception, another exception occurred:\n",
      "  \n",
      "  Traceback (most recent call last):\n",
      "    File \"<string>\", line 1, in <module>\n",
      "    File \"C:\\Users\\Chacha Tech\\AppData\\Local\\Temp\\pip-install-y5319pc0\\pyicu_f906877fe46c42abb8950cc4c2a7ff80\\setup.py\", line 30, in <module>\n",
      "      raise RuntimeError('''\n",
      "  RuntimeError:\n",
      "  Please set the ICU_VERSION environment variable to the version of\n",
      "  ICU you have installed.\n",
      "  \n",
      "  ----------------------------------------\n",
      "WARNING: Discarding https://files.pythonhosted.org/packages/17/13/12b5631b67fd27b8827fb805df5015c32406ec739d700af68ab49da1203f/PyICU-1.9.8.tar.gz#sha256=cd76e3fe73e96e0b9806bc036ad388b2bbba572762c699bc911ccedbc425df16 (from https://pypi.org/simple/pyicu/). Command errored out with exit status 1: python setup.py egg_info Check the logs for full command output.\n",
      "  ERROR: Command errored out with exit status 1:\n",
      "   command: 'c:\\users\\chacha tech\\anaconda3\\python.exe' -c 'import io, os, sys, setuptools, tokenize; sys.argv[0] = '\"'\"'C:\\\\Users\\\\Chacha Tech\\\\AppData\\\\Local\\\\Temp\\\\pip-install-y5319pc0\\\\pyicu_d4a57fe9d866492a8f1f59aa8a529b07\\\\setup.py'\"'\"'; __file__='\"'\"'C:\\\\Users\\\\Chacha Tech\\\\AppData\\\\Local\\\\Temp\\\\pip-install-y5319pc0\\\\pyicu_d4a57fe9d866492a8f1f59aa8a529b07\\\\setup.py'\"'\"';f = getattr(tokenize, '\"'\"'open'\"'\"', open)(__file__) if os.path.exists(__file__) else io.StringIO('\"'\"'from setuptools import setup; setup()'\"'\"');code = f.read().replace('\"'\"'\\r\\n'\"'\"', '\"'\"'\\n'\"'\"');f.close();exec(compile(code, __file__, '\"'\"'exec'\"'\"'))' egg_info --egg-base 'C:\\Users\\Chacha Tech\\AppData\\Local\\Temp\\pip-pip-egg-info-fxgggbts'\n",
      "       cwd: C:\\Users\\Chacha Tech\\AppData\\Local\\Temp\\pip-install-y5319pc0\\pyicu_d4a57fe9d866492a8f1f59aa8a529b07\\\n",
      "  Complete output (32 lines):\n",
      "  Traceback (most recent call last):\n",
      "    File \"C:\\Users\\Chacha Tech\\AppData\\Local\\Temp\\pip-install-y5319pc0\\pyicu_d4a57fe9d866492a8f1f59aa8a529b07\\setup.py\", line 12, in <module>\n",
      "      ICU_VERSION = os.environ['ICU_VERSION']\n",
      "    File \"c:\\users\\chacha tech\\anaconda3\\lib\\os.py\", line 675, in __getitem__\n",
      "      raise KeyError(key) from None\n",
      "  KeyError: 'ICU_VERSION'\n",
      "  \n",
      "  During handling of the above exception, another exception occurred:\n",
      "  \n",
      "  Traceback (most recent call last):\n",
      "    File \"C:\\Users\\Chacha Tech\\AppData\\Local\\Temp\\pip-install-y5319pc0\\pyicu_d4a57fe9d866492a8f1f59aa8a529b07\\setup.py\", line 26, in <module>\n",
      "      ICU_VERSION = check_output(('icu-config', '--version')).strip()\n",
      "    File \"c:\\users\\chacha tech\\anaconda3\\lib\\subprocess.py\", line 411, in check_output\n",
      "      return run(*popenargs, stdout=PIPE, timeout=timeout, check=True,\n",
      "    File \"c:\\users\\chacha tech\\anaconda3\\lib\\subprocess.py\", line 489, in run\n",
      "      with Popen(*popenargs, **kwargs) as process:\n",
      "    File \"c:\\users\\chacha tech\\anaconda3\\lib\\subprocess.py\", line 854, in __init__\n",
      "      self._execute_child(args, executable, preexec_fn, close_fds,\n",
      "    File \"c:\\users\\chacha tech\\anaconda3\\lib\\subprocess.py\", line 1307, in _execute_child\n",
      "      hp, ht, pid, tid = _winapi.CreateProcess(executable, args,\n",
      "  FileNotFoundError: [WinError 2] The system cannot find the file specified\n",
      "  \n",
      "  During handling of the above exception, another exception occurred:\n",
      "  \n",
      "  Traceback (most recent call last):\n",
      "    File \"<string>\", line 1, in <module>\n",
      "    File \"C:\\Users\\Chacha Tech\\AppData\\Local\\Temp\\pip-install-y5319pc0\\pyicu_d4a57fe9d866492a8f1f59aa8a529b07\\setup.py\", line 30, in <module>\n",
      "      raise RuntimeError('''\n",
      "  RuntimeError:\n",
      "  Please set the ICU_VERSION environment variable to the version of\n",
      "  ICU you have installed.\n",
      "  \n",
      "  ----------------------------------------\n",
      "WARNING: Discarding https://files.pythonhosted.org/packages/6e/88/f42a1297909ca6d9113ba37b37067011ae29432fe592fdd98cf52ad23b77/PyICU-1.9.7.tar.gz#sha256=db27cd1cc150b879c5465872bec7fdaf340eca140aa922be03891d5b9f855b61 (from https://pypi.org/simple/pyicu/). Command errored out with exit status 1: python setup.py egg_info Check the logs for full command output.\n",
      "  ERROR: Command errored out with exit status 1:\n",
      "   command: 'c:\\users\\chacha tech\\anaconda3\\python.exe' -c 'import io, os, sys, setuptools, tokenize; sys.argv[0] = '\"'\"'C:\\\\Users\\\\Chacha Tech\\\\AppData\\\\Local\\\\Temp\\\\pip-install-y5319pc0\\\\pyicu_01214ce9d92d4c1aadd81f3c2cf6325e\\\\setup.py'\"'\"'; __file__='\"'\"'C:\\\\Users\\\\Chacha Tech\\\\AppData\\\\Local\\\\Temp\\\\pip-install-y5319pc0\\\\pyicu_01214ce9d92d4c1aadd81f3c2cf6325e\\\\setup.py'\"'\"';f = getattr(tokenize, '\"'\"'open'\"'\"', open)(__file__) if os.path.exists(__file__) else io.StringIO('\"'\"'from setuptools import setup; setup()'\"'\"');code = f.read().replace('\"'\"'\\r\\n'\"'\"', '\"'\"'\\n'\"'\"');f.close();exec(compile(code, __file__, '\"'\"'exec'\"'\"'))' egg_info --egg-base 'C:\\Users\\Chacha Tech\\AppData\\Local\\Temp\\pip-pip-egg-info-6nso1nwz'\n",
      "       cwd: C:\\Users\\Chacha Tech\\AppData\\Local\\Temp\\pip-install-y5319pc0\\pyicu_01214ce9d92d4c1aadd81f3c2cf6325e\\\n",
      "  Complete output (32 lines):\n",
      "  Traceback (most recent call last):\n",
      "    File \"C:\\Users\\Chacha Tech\\AppData\\Local\\Temp\\pip-install-y5319pc0\\pyicu_01214ce9d92d4c1aadd81f3c2cf6325e\\setup.py\", line 12, in <module>\n",
      "      ICU_VERSION = os.environ['ICU_VERSION']\n",
      "    File \"c:\\users\\chacha tech\\anaconda3\\lib\\os.py\", line 675, in __getitem__\n",
      "      raise KeyError(key) from None\n",
      "  KeyError: 'ICU_VERSION'\n",
      "  \n",
      "  During handling of the above exception, another exception occurred:\n",
      "  \n",
      "  Traceback (most recent call last):\n",
      "    File \"C:\\Users\\Chacha Tech\\AppData\\Local\\Temp\\pip-install-y5319pc0\\pyicu_01214ce9d92d4c1aadd81f3c2cf6325e\\setup.py\", line 26, in <module>\n",
      "      ICU_VERSION = check_output(('icu-config', '--version')).strip()\n",
      "    File \"c:\\users\\chacha tech\\anaconda3\\lib\\subprocess.py\", line 411, in check_output\n",
      "      return run(*popenargs, stdout=PIPE, timeout=timeout, check=True,\n",
      "    File \"c:\\users\\chacha tech\\anaconda3\\lib\\subprocess.py\", line 489, in run\n",
      "      with Popen(*popenargs, **kwargs) as process:\n",
      "    File \"c:\\users\\chacha tech\\anaconda3\\lib\\subprocess.py\", line 854, in __init__\n",
      "      self._execute_child(args, executable, preexec_fn, close_fds,\n",
      "    File \"c:\\users\\chacha tech\\anaconda3\\lib\\subprocess.py\", line 1307, in _execute_child\n",
      "      hp, ht, pid, tid = _winapi.CreateProcess(executable, args,\n",
      "  FileNotFoundError: [WinError 2] The system cannot find the file specified\n",
      "  \n",
      "  During handling of the above exception, another exception occurred:\n",
      "  \n",
      "  Traceback (most recent call last):\n",
      "    File \"<string>\", line 1, in <module>\n",
      "    File \"C:\\Users\\Chacha Tech\\AppData\\Local\\Temp\\pip-install-y5319pc0\\pyicu_01214ce9d92d4c1aadd81f3c2cf6325e\\setup.py\", line 28, in <module>\n",
      "      raise RuntimeError('''\n",
      "  RuntimeError:\n",
      "  Please set the ICU_VERSION environment variable to the version of\n",
      "  ICU you have installed.\n",
      "  \n",
      "  ----------------------------------------\n",
      "WARNING: Discarding https://files.pythonhosted.org/packages/bc/78/f4e26f67c9b6b9074baa576ae67947e42fb86039199a65e9ab91ddb51d26/PyICU-1.9.6.tar.gz#sha256=c5c2134f7ad5aa939a899633816f52d8921e787efd4e8d7efb5f450fe10f2550 (from https://pypi.org/simple/pyicu/). Command errored out with exit status 1: python setup.py egg_info Check the logs for full command output.\n",
      "  ERROR: Command errored out with exit status 1:\n",
      "   command: 'c:\\users\\chacha tech\\anaconda3\\python.exe' -c 'import io, os, sys, setuptools, tokenize; sys.argv[0] = '\"'\"'C:\\\\Users\\\\Chacha Tech\\\\AppData\\\\Local\\\\Temp\\\\pip-install-y5319pc0\\\\pyicu_c5f359e89d1d41b197d4c09ca2d5ae40\\\\setup.py'\"'\"'; __file__='\"'\"'C:\\\\Users\\\\Chacha Tech\\\\AppData\\\\Local\\\\Temp\\\\pip-install-y5319pc0\\\\pyicu_c5f359e89d1d41b197d4c09ca2d5ae40\\\\setup.py'\"'\"';f = getattr(tokenize, '\"'\"'open'\"'\"', open)(__file__) if os.path.exists(__file__) else io.StringIO('\"'\"'from setuptools import setup; setup()'\"'\"');code = f.read().replace('\"'\"'\\r\\n'\"'\"', '\"'\"'\\n'\"'\"');f.close();exec(compile(code, __file__, '\"'\"'exec'\"'\"'))' egg_info --egg-base 'C:\\Users\\Chacha Tech\\AppData\\Local\\Temp\\pip-pip-egg-info-2kwdyqlw'\n",
      "       cwd: C:\\Users\\Chacha Tech\\AppData\\Local\\Temp\\pip-install-y5319pc0\\pyicu_c5f359e89d1d41b197d4c09ca2d5ae40\\\n",
      "  Complete output (13 lines):\n",
      "  Traceback (most recent call last):\n",
      "    File \"<string>\", line 1, in <module>\n",
      "    File \"C:\\Users\\Chacha Tech\\AppData\\Local\\Temp\\pip-install-y5319pc0\\pyicu_c5f359e89d1d41b197d4c09ca2d5ae40\\setup.py\", line 11, in <module>\n",
      "      ICU_VERSION = subprocess.check_output(('icu-config', '--version')).strip()\n",
      "    File \"c:\\users\\chacha tech\\anaconda3\\lib\\subprocess.py\", line 411, in check_output\n",
      "      return run(*popenargs, stdout=PIPE, timeout=timeout, check=True,\n",
      "    File \"c:\\users\\chacha tech\\anaconda3\\lib\\subprocess.py\", line 489, in run\n",
      "      with Popen(*popenargs, **kwargs) as process:\n",
      "    File \"c:\\users\\chacha tech\\anaconda3\\lib\\subprocess.py\", line 854, in __init__\n",
      "      self._execute_child(args, executable, preexec_fn, close_fds,\n",
      "    File \"c:\\users\\chacha tech\\anaconda3\\lib\\subprocess.py\", line 1307, in _execute_child\n",
      "      hp, ht, pid, tid = _winapi.CreateProcess(executable, args,\n",
      "  FileNotFoundError: [WinError 2] The system cannot find the file specified\n",
      "  ----------------------------------------\n",
      "WARNING: Discarding https://files.pythonhosted.org/packages/a2/9f/1947f288143191b903e58633ee597cb98bc284de28dafb1231b6f8b67b99/PyICU-1.9.5.tar.gz#sha256=73b052b800861fae3281dbaf9c92d12a81cabf3d31912d94c51862e093ef359b (from https://pypi.org/simple/pyicu/). Command errored out with exit status 1: python setup.py egg_info Check the logs for full command output.\n",
      "  ERROR: Command errored out with exit status 1:\n",
      "   command: 'c:\\users\\chacha tech\\anaconda3\\python.exe' -u -c 'import io, os, sys, setuptools, tokenize; sys.argv[0] = '\"'\"'C:\\\\Users\\\\Chacha Tech\\\\AppData\\\\Local\\\\Temp\\\\pip-install-y5319pc0\\\\pycld2_9a20f0864492488da2673cf65d819bf2\\\\setup.py'\"'\"'; __file__='\"'\"'C:\\\\Users\\\\Chacha Tech\\\\AppData\\\\Local\\\\Temp\\\\pip-install-y5319pc0\\\\pycld2_9a20f0864492488da2673cf65d819bf2\\\\setup.py'\"'\"';f = getattr(tokenize, '\"'\"'open'\"'\"', open)(__file__) if os.path.exists(__file__) else io.StringIO('\"'\"'from setuptools import setup; setup()'\"'\"');code = f.read().replace('\"'\"'\\r\\n'\"'\"', '\"'\"'\\n'\"'\"');f.close();exec(compile(code, __file__, '\"'\"'exec'\"'\"'))' bdist_wheel -d 'C:\\Users\\Chacha Tech\\AppData\\Local\\Temp\\pip-wheel-f92kqzns'\n",
      "       cwd: C:\\Users\\Chacha Tech\\AppData\\Local\\Temp\\pip-install-y5319pc0\\pycld2_9a20f0864492488da2673cf65d819bf2\\\n",
      "  Complete output (11 lines):\n",
      "  running bdist_wheel\n",
      "  The [wheel] section is deprecated. Use [bdist_wheel] instead.\n",
      "  running build\n",
      "  running build_py\n",
      "  creating build\n",
      "  creating build\\lib.win-amd64-3.8\n",
      "  creating build\\lib.win-amd64-3.8\\pycld2\n",
      "  copying pycld2\\__init__.py -> build\\lib.win-amd64-3.8\\pycld2\n",
      "  running build_ext\n",
      "  building 'pycld2._pycld2' extension\n",
      "  error: Microsoft Visual C++ 14.0 or greater is required. Get it with \"Microsoft C++ Build Tools\": https://visualstudio.microsoft.com/visual-cpp-build-tools/\n",
      "  ----------------------------------------\n",
      "  ERROR: Failed building wheel for pycld2\n",
      "  ERROR: Command errored out with exit status 1:\n",
      "   command: 'c:\\users\\chacha tech\\anaconda3\\python.exe' -u -c 'import io, os, sys, setuptools, tokenize; sys.argv[0] = '\"'\"'C:\\\\Users\\\\Chacha Tech\\\\AppData\\\\Local\\\\Temp\\\\pip-install-y5319pc0\\\\pyicu_f20b95d583ce40d59250437389d87cde\\\\setup.py'\"'\"'; __file__='\"'\"'C:\\\\Users\\\\Chacha Tech\\\\AppData\\\\Local\\\\Temp\\\\pip-install-y5319pc0\\\\pyicu_f20b95d583ce40d59250437389d87cde\\\\setup.py'\"'\"';f = getattr(tokenize, '\"'\"'open'\"'\"', open)(__file__) if os.path.exists(__file__) else io.StringIO('\"'\"'from setuptools import setup; setup()'\"'\"');code = f.read().replace('\"'\"'\\r\\n'\"'\"', '\"'\"'\\n'\"'\"');f.close();exec(compile(code, __file__, '\"'\"'exec'\"'\"'))' bdist_wheel -d 'C:\\Users\\Chacha Tech\\AppData\\Local\\Temp\\pip-wheel-fluttlha'\n",
      "       cwd: C:\\Users\\Chacha Tech\\AppData\\Local\\Temp\\pip-install-y5319pc0\\pyicu_f20b95d583ce40d59250437389d87cde\\\n",
      "  Complete output (11 lines):\n",
      "  running bdist_wheel\n",
      "  running build\n",
      "  running build_py\n",
      "  creating build\n",
      "  creating build\\lib.win-amd64-3.8\n",
      "  copying icu.py -> build\\lib.win-amd64-3.8\n",
      "  copying PyICU.py -> build\\lib.win-amd64-3.8\n",
      "  copying docs.py -> build\\lib.win-amd64-3.8\n",
      "  running build_ext\n",
      "  building '_icu' extension\n",
      "  error: Microsoft Visual C++ 14.0 or greater is required. Get it with \"Microsoft C++ Build Tools\": https://visualstudio.microsoft.com/visual-cpp-build-tools/\n",
      "  ----------------------------------------\n",
      "  ERROR: Failed building wheel for PyICU\n",
      "    ERROR: Command errored out with exit status 1:\n",
      "     command: 'c:\\users\\chacha tech\\anaconda3\\python.exe' -u -c 'import io, os, sys, setuptools, tokenize; sys.argv[0] = '\"'\"'C:\\\\Users\\\\Chacha Tech\\\\AppData\\\\Local\\\\Temp\\\\pip-install-y5319pc0\\\\pyicu_f20b95d583ce40d59250437389d87cde\\\\setup.py'\"'\"'; __file__='\"'\"'C:\\\\Users\\\\Chacha Tech\\\\AppData\\\\Local\\\\Temp\\\\pip-install-y5319pc0\\\\pyicu_f20b95d583ce40d59250437389d87cde\\\\setup.py'\"'\"';f = getattr(tokenize, '\"'\"'open'\"'\"', open)(__file__) if os.path.exists(__file__) else io.StringIO('\"'\"'from setuptools import setup; setup()'\"'\"');code = f.read().replace('\"'\"'\\r\\n'\"'\"', '\"'\"'\\n'\"'\"');f.close();exec(compile(code, __file__, '\"'\"'exec'\"'\"'))' install --record 'C:\\Users\\Chacha Tech\\AppData\\Local\\Temp\\pip-record-mzmcs237\\install-record.txt' --single-version-externally-managed --compile --install-headers 'c:\\users\\chacha tech\\anaconda3\\Include\\PyICU'\n",
      "         cwd: C:\\Users\\Chacha Tech\\AppData\\Local\\Temp\\pip-install-y5319pc0\\pyicu_f20b95d583ce40d59250437389d87cde\\\n",
      "    Complete output (11 lines):\n",
      "    running install\n",
      "    running build\n",
      "    running build_py\n",
      "    creating build\n",
      "    creating build\\lib.win-amd64-3.8\n",
      "    copying icu.py -> build\\lib.win-amd64-3.8\n",
      "    copying PyICU.py -> build\\lib.win-amd64-3.8\n",
      "    copying docs.py -> build\\lib.win-amd64-3.8\n",
      "    running build_ext\n",
      "    building '_icu' extension\n",
      "    error: Microsoft Visual C++ 14.0 or greater is required. Get it with \"Microsoft C++ Build Tools\": https://visualstudio.microsoft.com/visual-cpp-build-tools/\n",
      "    ----------------------------------------\n",
      "ERROR: Command errored out with exit status 1: 'c:\\users\\chacha tech\\anaconda3\\python.exe' -u -c 'import io, os, sys, setuptools, tokenize; sys.argv[0] = '\"'\"'C:\\\\Users\\\\Chacha Tech\\\\AppData\\\\Local\\\\Temp\\\\pip-install-y5319pc0\\\\pyicu_f20b95d583ce40d59250437389d87cde\\\\setup.py'\"'\"'; __file__='\"'\"'C:\\\\Users\\\\Chacha Tech\\\\AppData\\\\Local\\\\Temp\\\\pip-install-y5319pc0\\\\pyicu_f20b95d583ce40d59250437389d87cde\\\\setup.py'\"'\"';f = getattr(tokenize, '\"'\"'open'\"'\"', open)(__file__) if os.path.exists(__file__) else io.StringIO('\"'\"'from setuptools import setup; setup()'\"'\"');code = f.read().replace('\"'\"'\\r\\n'\"'\"', '\"'\"'\\n'\"'\"');f.close();exec(compile(code, __file__, '\"'\"'exec'\"'\"'))' install --record 'C:\\Users\\Chacha Tech\\AppData\\Local\\Temp\\pip-record-mzmcs237\\install-record.txt' --single-version-externally-managed --compile --install-headers 'c:\\users\\chacha tech\\anaconda3\\Include\\PyICU' Check the logs for full command output.\n"
     ]
    },
    {
     "name": "stdout",
     "output_type": "stream",
     "text": [
      "   Unnamed: 0                                              title  \\\n",
      "0        8476                       You Can Smell Hillary’s Fear   \n",
      "1       10294  Watch The Exact Moment Paul Ryan Committed Pol...   \n",
      "2        3608        Kerry to go to Paris in gesture of sympathy   \n",
      "3       10142  Bernie supporters on Twitter erupt in anger ag...   \n",
      "4         875   The Battle of New York: Why This Primary Matters   \n",
      "\n",
      "                                                text label  \n",
      "0  Daniel Greenfield, a Shillman Journalism Fello...  FAKE  \n",
      "1  Google Pinterest Digg Linkedin Reddit Stumbleu...  FAKE  \n",
      "2  U.S. Secretary of State John F. Kerry said Mon...  REAL  \n",
      "3  — Kaydee King (@KaydeeKing) November 9, 2016 T...  FAKE  \n",
      "4  It's primary day in New York and front-runners...  REAL  \n",
      "['00', '000', '0000', '00000031', '000035', '00006', '0001', '0001pt', '000ft', '000km']\n"
     ]
    }
   ],
   "source": [
    "# Classifying fake news using supervised learning with NLP\n",
    "#  Import the necessary modules\n",
    "import pandas as pd\n",
    "from sklearn.feature_extraction.text import CountVectorizer\n",
    "from sklearn.model_selection import train_test_split\n",
    "\n",
    "df = pd.read_csv('fake_or_real_news.csv')\n",
    "# Print the head of df\n",
    "print(df.head())\n",
    "\n",
    "# Create a series to store the labels: y\n",
    "y = df.label\n",
    "\n",
    "# Create training and test sets\n",
    "X_train, X_test, y_train, y_test = train_test_split(df[\"text\"], y, test_size=0.33, random_state=53)\n",
    "\n",
    "# Initialize a CountVectorizer object: count_vectorizer\n",
    "count_vectorizer = CountVectorizer(stop_words=\"english\")\n",
    "\n",
    "# Transform the training data using only the 'text' column values: count_train \n",
    "count_train = count_vectorizer.fit_transform(X_train)\n",
    "\n",
    "# Transform the test data using only the 'text' column values: count_test \n",
    "count_test = count_vectorizer.transform(X_test)\n",
    "\n",
    "# Print the first 10 features of the count_vectorizer\n",
    "print(count_vectorizer.get_feature_names()[:10])"
   ]
  },
  {
   "cell_type": "code",
   "execution_count": 58,
   "metadata": {},
   "outputs": [
    {
     "name": "stdout",
     "output_type": "stream",
     "text": [
      "['00', '000', '0000', '00000031', '000035', '00006', '0001', '0001pt', '000ft', '000km']\n",
      "[[0. 0. 0. ... 0. 0. 0.]\n",
      " [0. 0. 0. ... 0. 0. 0.]\n",
      " [0. 0. 0. ... 0. 0. 0.]\n",
      " [0. 0. 0. ... 0. 0. 0.]\n",
      " [0. 0. 0. ... 0. 0. 0.]]\n"
     ]
    }
   ],
   "source": [
    "# Import TfidfVectorizer\n",
    "from sklearn.feature_extraction.text import TfidfVectorizer\n",
    "\n",
    "# Initialize a TfidfVectorizer object: tfidf_vectorizer\n",
    "tfidf_vectorizer = TfidfVectorizer(stop_words=\"english\", max_df = 0.7)\n",
    "\n",
    "# Transform the training data: tfidf_train \n",
    "tfidf_train = tfidf_vectorizer.fit_transform(X_train)\n",
    "\n",
    "# Transform the test data: tfidf_test \n",
    "tfidf_test = tfidf_vectorizer.transform(X_test)\n",
    "\n",
    "# Print the first 10 features\n",
    "print(tfidf_vectorizer.get_feature_names()[:10])\n",
    "\n",
    "# Print the first 5 vectors of the tfidf training data\n",
    "print(tfidf_train.A[:5])"
   ]
  },
  {
   "cell_type": "code",
   "execution_count": 60,
   "metadata": {},
   "outputs": [
    {
     "name": "stdout",
     "output_type": "stream",
     "text": [
      "   00  000  0000  00000031  000035  00006  0001  0001pt  000ft  000km  ...  \\\n",
      "0   0    0     0         0       0      0     0       0      0      0  ...   \n",
      "1   0    0     0         0       0      0     0       0      0      0  ...   \n",
      "2   0    0     0         0       0      0     0       0      0      0  ...   \n",
      "3   0    0     0         0       0      0     0       0      0      0  ...   \n",
      "4   0    0     0         0       0      0     0       0      0      0  ...   \n",
      "\n",
      "   حلب  عربي  عن  لم  ما  محاولات  من  هذا  والمرضى  ยงade  \n",
      "0    0     0   0   0   0        0   0    0        0      0  \n",
      "1    0     0   0   0   0        0   0    0        0      0  \n",
      "2    0     0   0   0   0        0   0    0        0      0  \n",
      "3    0     0   0   0   0        0   0    0        0      0  \n",
      "4    0     0   0   0   0        0   0    0        0      0  \n",
      "\n",
      "[5 rows x 56922 columns]\n",
      "    00  000  0000  00000031  000035  00006  0001  0001pt  000ft  000km  ...  \\\n",
      "0  0.0  0.0   0.0       0.0     0.0    0.0   0.0     0.0    0.0    0.0  ...   \n",
      "1  0.0  0.0   0.0       0.0     0.0    0.0   0.0     0.0    0.0    0.0  ...   \n",
      "2  0.0  0.0   0.0       0.0     0.0    0.0   0.0     0.0    0.0    0.0  ...   \n",
      "3  0.0  0.0   0.0       0.0     0.0    0.0   0.0     0.0    0.0    0.0  ...   \n",
      "4  0.0  0.0   0.0       0.0     0.0    0.0   0.0     0.0    0.0    0.0  ...   \n",
      "\n",
      "   حلب  عربي   عن   لم   ما  محاولات   من  هذا  والمرضى  ยงade  \n",
      "0  0.0   0.0  0.0  0.0  0.0      0.0  0.0  0.0      0.0    0.0  \n",
      "1  0.0   0.0  0.0  0.0  0.0      0.0  0.0  0.0      0.0    0.0  \n",
      "2  0.0   0.0  0.0  0.0  0.0      0.0  0.0  0.0      0.0    0.0  \n",
      "3  0.0   0.0  0.0  0.0  0.0      0.0  0.0  0.0      0.0    0.0  \n",
      "4  0.0   0.0  0.0  0.0  0.0      0.0  0.0  0.0      0.0    0.0  \n",
      "\n",
      "[5 rows x 56922 columns]\n",
      "set()\n",
      "False\n"
     ]
    }
   ],
   "source": [
    "# Create the CountVectorizer DataFrame: count_df\n",
    "count_df = pd.DataFrame(count_train.A, columns=count_vectorizer.get_feature_names())\n",
    "\n",
    "# Create the TfidfVectorizer DataFrame: tfidf_df\n",
    "tfidf_df = pd.DataFrame(tfidf_train.A, columns=tfidf_vectorizer.get_feature_names())\n",
    "\n",
    "# Print the head of count_df\n",
    "print(count_df.head())\n",
    "\n",
    "# Print the head of tfidf_df\n",
    "print(tfidf_df.head())\n",
    "\n",
    "# Calculate the difference in columns: difference\n",
    "difference = set(tfidf_df.columns) - set(count_df.columns)\n",
    "print(difference)\n",
    "\n",
    "# Check whether the DataFrames are equal\n",
    "print(count_df.equals(tfidf_df))"
   ]
  },
  {
   "cell_type": "code",
   "execution_count": 66,
   "metadata": {},
   "outputs": [
    {
     "name": "stdout",
     "output_type": "stream",
     "text": [
      "Alpha:  0.0\n"
     ]
    },
    {
     "name": "stderr",
     "output_type": "stream",
     "text": [
      "C:\\Users\\Chacha Tech\\anaconda3\\lib\\site-packages\\sklearn\\naive_bayes.py:511: UserWarning: alpha too small will result in numeric errors, setting alpha = 1.0e-10\n",
      "  warnings.warn('alpha too small will result in numeric errors, '\n"
     ]
    },
    {
     "name": "stdout",
     "output_type": "stream",
     "text": [
      "Score:  0.8813964610234337\n",
      "\n",
      "Alpha:  0.1\n",
      "Score:  0.8976566236250598\n",
      "\n",
      "Alpha:  0.2\n",
      "Score:  0.8938307030129125\n",
      "\n",
      "Alpha:  0.30000000000000004\n",
      "Score:  0.8900047824007652\n",
      "\n",
      "Alpha:  0.4\n",
      "Score:  0.8857006217120995\n",
      "\n",
      "Alpha:  0.5\n",
      "Score:  0.8842659014825442\n",
      "\n",
      "Alpha:  0.6000000000000001\n",
      "Score:  0.874701099952176\n",
      "\n",
      "Alpha:  0.7000000000000001\n",
      "Score:  0.8703969392635102\n",
      "\n",
      "Alpha:  0.8\n",
      "Score:  0.8660927785748446\n",
      "\n",
      "Alpha:  0.9\n",
      "Score:  0.8589191774270684\n",
      "\n"
     ]
    }
   ],
   "source": [
    "import numpy as np\n",
    "from sklearn.naive_bayes import MultinomialNB\n",
    "from sklearn import metrics\n",
    "# Create the list of alphas: alphas\n",
    "alphas = np.arange(0,1,0.1)\n",
    "\n",
    "# Define train_and_predict()\n",
    "def train_and_predict(alpha):\n",
    "    # Instantiate the classifier: nb_classifier\n",
    "    nb_classifier = MultinomialNB(alpha=alpha)\n",
    "    # Fit to the training data\n",
    "    nb_classifier.fit(tfidf_train,y_train)\n",
    "    # Predict the labels: pred\n",
    "    pred = nb_classifier.predict(tfidf_test)\n",
    "    # Compute accuracy: score\n",
    "    score = metrics.accuracy_score(y_test, pred)\n",
    "    return score\n",
    "\n",
    "# Iterate over the alphas and print the corresponding score\n",
    "for alpha in alphas:\n",
    "    print('Alpha: ', alpha)\n",
    "    print('Score: ', train_and_predict(alpha))\n",
    "    print()"
   ]
  },
  {
   "cell_type": "code",
   "execution_count": 67,
   "metadata": {},
   "outputs": [
    {
     "ename": "NameError",
     "evalue": "name 'nb_classifier' is not defined",
     "output_type": "error",
     "traceback": [
      "\u001b[1;31m---------------------------------------------------------------------------\u001b[0m",
      "\u001b[1;31mNameError\u001b[0m                                 Traceback (most recent call last)",
      "\u001b[1;32m<ipython-input-67-8db54d9221f7>\u001b[0m in \u001b[0;36m<module>\u001b[1;34m\u001b[0m\n\u001b[0;32m      1\u001b[0m \u001b[1;31m# Get the class labels: class_labels\u001b[0m\u001b[1;33m\u001b[0m\u001b[1;33m\u001b[0m\u001b[1;33m\u001b[0m\u001b[0m\n\u001b[1;32m----> 2\u001b[1;33m \u001b[0mclass_labels\u001b[0m \u001b[1;33m=\u001b[0m \u001b[0mnb_classifier\u001b[0m\u001b[1;33m.\u001b[0m\u001b[0mclasses_\u001b[0m\u001b[1;33m\u001b[0m\u001b[1;33m\u001b[0m\u001b[0m\n\u001b[0m\u001b[0;32m      3\u001b[0m \u001b[1;33m\u001b[0m\u001b[0m\n\u001b[0;32m      4\u001b[0m \u001b[1;31m# Extract the features: feature_names\u001b[0m\u001b[1;33m\u001b[0m\u001b[1;33m\u001b[0m\u001b[1;33m\u001b[0m\u001b[0m\n\u001b[0;32m      5\u001b[0m \u001b[0mfeature_names\u001b[0m \u001b[1;33m=\u001b[0m \u001b[0mtfidf_vectorizer\u001b[0m\u001b[1;33m.\u001b[0m\u001b[0mget_feature_names\u001b[0m\u001b[1;33m(\u001b[0m\u001b[1;33m)\u001b[0m\u001b[1;33m\u001b[0m\u001b[1;33m\u001b[0m\u001b[0m\n",
      "\u001b[1;31mNameError\u001b[0m: name 'nb_classifier' is not defined"
     ]
    }
   ],
   "source": [
    "# Get the class labels: class_labels\n",
    "class_labels = nb_classifier.classes_\n",
    "\n",
    "# Extract the features: feature_names\n",
    "feature_names = tfidf_vectorizer.get_feature_names()\n",
    "\n",
    "# Zip the feature names together with the coefficient array and sort by weights: feat_with_weights\n",
    "feat_with_weights = sorted(zip(nb_classifier.coef_[0], feature_names))\n",
    "\n",
    "# Print the first class label and the top 20 feat_with_weights entries\n",
    "print(class_labels[0], feat_with_weights[:20])\n",
    "\n",
    "# Print the second class label and the bottom 20 feat_with_weights entries\n",
    "print(class_labels[1], feat_with_weights[-20:])"
   ]
  },
  {
   "cell_type": "code",
   "execution_count": null,
   "metadata": {},
   "outputs": [],
   "source": []
  },
  {
   "cell_type": "code",
   "execution_count": null,
   "metadata": {},
   "outputs": [],
   "source": []
  }
 ],
 "metadata": {
  "kernelspec": {
   "display_name": "Python 3",
   "language": "python",
   "name": "python3"
  },
  "language_info": {
   "codemirror_mode": {
    "name": "ipython",
    "version": 3
   },
   "file_extension": ".py",
   "mimetype": "text/x-python",
   "name": "python",
   "nbconvert_exporter": "python",
   "pygments_lexer": "ipython3",
   "version": "3.8.5"
  }
 },
 "nbformat": 4,
 "nbformat_minor": 4
}
